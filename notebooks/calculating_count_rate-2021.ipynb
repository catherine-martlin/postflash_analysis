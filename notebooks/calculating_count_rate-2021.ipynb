{
 "cells": [
  {
   "cell_type": "code",
   "execution_count": null,
   "metadata": {},
   "outputs": [],
   "source": [
    "import glob\n",
    "import os\n",
    "import shutil\n",
    "\n",
    "from astropy.io import fits\n",
    "from astropy import stats\n",
    "from astropy.time import Time\n",
    "from bokeh.io import output_file, output_notebook\n",
    "from bokeh.plotting import figure, show\n",
    "from bokeh.models import ColumnDataSource, Range1d\n",
    "from bokeh.layouts import row, column, gridplot\n",
    "from bokeh.models.widgets import Tabs, Panel\n",
    "import numpy as np\n",
    "import pandas as pd\n",
    "from scipy.optimize import curve_fit\n",
    "\n",
    "# Determine where the visualization will be rendered\n",
    "output_notebook()"
   ]
  },
  {
   "cell_type": "code",
   "execution_count": null,
   "metadata": {},
   "outputs": [],
   "source": []
  },
  {
   "cell_type": "code",
   "execution_count": null,
   "metadata": {},
   "outputs": [],
   "source": [
    "subarray_mean = pd.read_pickle('Feb_2022_all_sub_pf_and_mean_data.pkl')\n",
    "subarray_mean"
   ]
  },
  {
   "cell_type": "code",
   "execution_count": null,
   "metadata": {},
   "outputs": [],
   "source": [
    "low_sub_pf_isr_13078_nov15 = subarray_mean.loc[(subarray_mean['flash_cur'] == 'LOW') & (subarray_mean['propid'] == 13078) & (subarray_mean['shutter'] == 'A') & (subarray_mean['obsdate'] == '2012-11-15')]\n",
    "low_sub_pf_isr_13078_nov16 = subarray_mean.loc[(subarray_mean['flash_cur'] == 'LOW') & (subarray_mean['propid'] == 13078) & (subarray_mean['shutter'] == 'A') & (subarray_mean['obsdate'] == '2012-11-16')]\n",
    "\n",
    "both_dates = [low_sub_pf_isr_13078_nov15, low_sub_pf_isr_13078_nov16]\n",
    "\n",
    "low_sub_pf_isr_13078 = pd.concat(both_dates)"
   ]
  },
  {
   "cell_type": "markdown",
   "metadata": {},
   "source": [
    "From 2012 ISR: \"The data in Figure 10 are from program 13078 visits A3, A6, A7, and A8 and taken on November 15\n",
    "and 16, 2012. Images were combined in pairs with STSDAS CRREJ, and the mean pixel value was\n",
    "computed for the 1024x1024 pixel area nearest the C amplifier using IMSTAT with 3 iterations of 3\n",
    "sigma rejection. \""
   ]
  },
  {
   "cell_type": "markdown",
   "metadata": {},
   "source": [
    "Run the cell below to calculate the sigma clipped means:"
   ]
  },
  {
   "cell_type": "code",
   "execution_count": null,
   "metadata": {},
   "outputs": [],
   "source": [
    "\n",
    "paths = low_sub_pf_isr_13078.path.tolist() \n",
    "\n",
    "means = []\n",
    "sig_means = []\n",
    "for f in paths:\n",
    "    path = f\n",
    "    data = fits.getdata(path)\n",
    "    data_clip_1 = stats.sigma_clip(data, 3)\n",
    "    data_clip_2 = stats.sigma_clip(data_clip_1, 3)\n",
    "    data_clip_3 = stats.sigma_clip(data_clip_2, 3)\n",
    "    mean = np.mean(data)\n",
    "    sig_mean = np.mean(data_clip_3)\n",
    "    means.append(mean)\n",
    "    sig_means.append(sig_mean)\n",
    "\n",
    "dict = {'path': paths, 'mean': means, 'sig_mean': sig_means}\n",
    "path_and_mean_sub = pd.DataFrame(dict)"
   ]
  },
  {
   "cell_type": "code",
   "execution_count": null,
   "metadata": {},
   "outputs": [],
   "source": [
    "# This count rate brings the values to a similar but not the same value as ISR. And the use of the flash duration in the calculation seems out of place?\n",
    "#low_sub_pf_isr_13078['count_rate'] = (((low_sub_pf_isr_13078['sig_mean'])/1.55)/low_sub_pf_isr_13078['exp_time'])/low_sub_pf_isr_13078['flash_dur']\n",
    "\n",
    "low_sub_pf_isr_13078['count_rate'] = (((low_sub_pf_isr_13078['sig_mean'])*1.55)/low_sub_pf_isr_13078['flash_dur'])"
   ]
  },
  {
   "cell_type": "code",
   "execution_count": null,
   "metadata": {},
   "outputs": [],
   "source": [
    "display(low_sub_pf_isr_13078)"
   ]
  },
  {
   "cell_type": "code",
   "execution_count": null,
   "metadata": {},
   "outputs": [],
   "source": [
    "low_sub_pf_isr_13078.to_csv('countrate_for_2012_isr_data.csv')"
   ]
  },
  {
   "cell_type": "code",
   "execution_count": null,
   "metadata": {},
   "outputs": [],
   "source": [
    "low_sub_pf_16398 = subarray_mean.loc[(subarray_mean['flash_cur'] == 'LOW') & (subarray_mean['shutter'] == 'A') & (subarray_mean['propid'] == 16398) ]\n",
    "low_sub_pf_16398['obsdate'].unique()\n"
   ]
  },
  {
   "cell_type": "code",
   "execution_count": null,
   "metadata": {},
   "outputs": [],
   "source": [
    "low_sub_pf_jan = subarray_mean.loc[(subarray_mean['flash_cur'] == 'LOW') & (subarray_mean['shutter'] == 'A') & (subarray_mean['propid'] == 16398) & (subarray_mean['obsdate'] == '2021-01-26')]\n",
    "low_sub_pf_feb = subarray_mean.loc[(subarray_mean['flash_cur'] == 'LOW') & (subarray_mean['shutter'] == 'A') & (subarray_mean['propid'] == 16398) & (subarray_mean['obsdate'] == '2021-02-23')]\n",
    "low_sub_pf_mar = subarray_mean.loc[(subarray_mean['flash_cur'] == 'LOW') & (subarray_mean['shutter'] == 'A') & (subarray_mean['propid'] == 16398) & (subarray_mean['obsdate'] == '2021-03-23')]\n",
    "low_sub_pf_apr = subarray_mean.loc[(subarray_mean['flash_cur'] == 'LOW') & (subarray_mean['shutter'] == 'A') & (subarray_mean['propid'] == 16398) & (subarray_mean['obsdate'] == '2021-04-21')]\n",
    "low_sub_pf_may = subarray_mean.loc[(subarray_mean['flash_cur'] == 'LOW') & (subarray_mean['shutter'] == 'A') & (subarray_mean['propid'] == 16398) & (subarray_mean['obsdate'] == '2021-05-18')]\n",
    "#low_sub_pf_jun = subarray_mean.loc[(subarray_mean['flash_cur'] == 'LOW') & (subarray_mean['shutter'] == 'A') & (subarray_mean['propid'] == 16398) & (subarray_mean['obsdate'] == '2021-06-1')]\n",
    "low_sub_pf_jul = subarray_mean.loc[(subarray_mean['flash_cur'] == 'LOW') & (subarray_mean['shutter'] == 'A') & (subarray_mean['propid'] == 16398) & (subarray_mean['obsdate'] == '2021-07-26')]\n",
    "low_sub_pf_aug = subarray_mean.loc[(subarray_mean['flash_cur'] == 'LOW') & (subarray_mean['shutter'] == 'A') & (subarray_mean['propid'] == 16398) & (subarray_mean['obsdate'] == '2021-08-08')]\n",
    "low_sub_pf_sep = subarray_mean.loc[(subarray_mean['flash_cur'] == 'LOW') & (subarray_mean['shutter'] == 'A') & (subarray_mean['propid'] == 16398) & (subarray_mean['obsdate'] == '2021-09-07')]\n",
    "low_sub_pf_oct = subarray_mean.loc[(subarray_mean['flash_cur'] == 'LOW') & (subarray_mean['shutter'] == 'A') & (subarray_mean['propid'] == 16398) & (subarray_mean['obsdate'] == '2021-10-09')]\n",
    "\n",
    "\n",
    "frames = [low_sub_pf_mar, low_sub_pf_apr,low_sub_pf_feb,low_sub_pf_jan,low_sub_pf_may,low_sub_pf_jul,low_sub_pf_aug,\n",
    "          low_sub_pf_sep,low_sub_pf_oct]\n",
    "low_sub_pf_2021 = pd.concat(frames)"
   ]
  },
  {
   "cell_type": "code",
   "execution_count": null,
   "metadata": {},
   "outputs": [],
   "source": [
    "#low_sub_pf_2020['count_rate'] = (((low_sub_pf_2020['sig_mean'])/1.55)/low_sub_pf_2020['exp_time'])/low_sub_pf_2020['flash_dur']\n",
    "low_sub_pf_2021['count_rate'] = (((low_sub_pf_2021['sig_mean'])*1.55)/low_sub_pf_2021['flash_dur'])"
   ]
  },
  {
   "cell_type": "code",
   "execution_count": null,
   "metadata": {},
   "outputs": [],
   "source": [
    "display(low_sub_pf_2021)"
   ]
  },
  {
   "cell_type": "code",
   "execution_count": null,
   "metadata": {},
   "outputs": [],
   "source": [
    "low_sub_pf_2021.to_csv('countrate_for_2021_data.csv')"
   ]
  },
  {
   "cell_type": "code",
   "execution_count": null,
   "metadata": {},
   "outputs": [],
   "source": [
    "low_sub_pf_16398['obsdate'].unique()"
   ]
  },
  {
   "cell_type": "code",
   "execution_count": null,
   "metadata": {},
   "outputs": [],
   "source": [
    "low_sub_pf_apr = low_sub_pf_2021.loc[(low_sub_pf_2021['obsdate'] == '2021-04-21')]\n",
    "low_sub_pf_mar = low_sub_pf_2021.loc[(low_sub_pf_2021['obsdate'] == '2021-03-23')]\n",
    "low_sub_pf_feb = low_sub_pf_2021.loc[(low_sub_pf_2021['obsdate'] == '2021-02-23')]\n",
    "low_sub_pf_jan = low_sub_pf_2021.loc[(low_sub_pf_2021['obsdate'] == '2021-01-26')]\n",
    "low_sub_pf_may = low_sub_pf_2021.loc[(low_sub_pf_2021['obsdate'] == '2021-05-18')]\n",
    "#low_sub_pf_jun = low_sub_pf_2021.loc[(low_sub_pf_2021['obsdate'] == '2020-06-18')]\n",
    "low_sub_pf_jul = low_sub_pf_2021.loc[(low_sub_pf_2021['obsdate'] == '2021-07-26')]\n",
    "low_sub_pf_aug = low_sub_pf_2021.loc[(low_sub_pf_2021['obsdate'] == '2021-08-08')]\n",
    "low_sub_pf_sep = low_sub_pf_2021.loc[(low_sub_pf_2021['obsdate'] == '2021-09-07')]\n",
    "low_sub_pf_oct = low_sub_pf_2021.loc[(low_sub_pf_2021['obsdate'] == '2021-10-09')]\n",
    "\n",
    "\n",
    "x = low_sub_pf_apr['flash_dur']\n",
    "y = low_sub_pf_apr['count_rate']\n",
    "\n",
    "x_mar = low_sub_pf_mar['flash_dur']\n",
    "y_mar = low_sub_pf_mar['count_rate'] \n",
    "\n",
    "x_feb = low_sub_pf_feb['flash_dur']\n",
    "y_feb = low_sub_pf_feb['count_rate'] \n",
    "\n",
    "x_jan = low_sub_pf_jan['flash_dur']\n",
    "y_jan = low_sub_pf_jan['count_rate'] \n",
    "\n",
    "x_may = low_sub_pf_may['flash_dur']\n",
    "y_may = low_sub_pf_may['count_rate']\n",
    "\n",
    "#x_jun = low_sub_pf_jun['flash_dur']\n",
    "#y_jun = low_sub_pf_jun['count_rate'] \n",
    "\n",
    "x_jul = low_sub_pf_jul['flash_dur']\n",
    "y_jul = low_sub_pf_jul['count_rate'] \n",
    "\n",
    "x_aug = low_sub_pf_aug['flash_dur']\n",
    "y_aug = low_sub_pf_aug['count_rate']\n",
    "\n",
    "x_sep = low_sub_pf_sep['flash_dur']\n",
    "y_sep = low_sub_pf_sep['count_rate'] \n",
    "\n",
    "x_oct = low_sub_pf_oct['flash_dur']\n",
    "y_oct = low_sub_pf_oct['count_rate']\n",
    "\n",
    "\n",
    "low_sub_pf_2012 = low_sub_pf_isr_13078.loc[(low_sub_pf_isr_13078['obsdate'] == '2012-11-15')]\n",
    "x_2012 = low_sub_pf_2012['flash_dur']\n",
    "y_2012 = low_sub_pf_2012['count_rate']\n",
    "\n",
    "p = figure(title = 'Count Rate vs. Flash Duration')\n",
    "p.y_range = Range1d(2.3, 2.7)\n",
    "p.circle(x_oct, y_oct, size = 10, color = 'olive', legend = \"Oct 2020\") \n",
    "p.circle(x_sep, y_sep, size = 10, color = 'salmon', legend = \"Sep 2020\")\n",
    "p.circle(x_aug, y_aug, size = 10, color = 'black', legend = \"Aug 2020\")\n",
    "p.circle(x_jul, y_jul, size = 10, color = 'cyan', legend = \"July 2021\")\n",
    "#p.circle(x_jun, y_jun, size = 10, color = 'magenta', legend = \"June 2020\")\n",
    "p.circle(x_may, y_may, size = 10, color = 'pink', legend = \"May 2021\")\n",
    "p.circle(x, y, size = 10, color = 'purple', legend = \"April 2021\") \n",
    "p.circle(x_mar, y_mar, size = 10, color = 'blue', legend = \"March 2021\")\n",
    "p.circle(x_feb, y_feb, size = 10, color = 'green', legend = \"Feb 2021\")\n",
    "p.circle(x_jan, y_jan, size = 10, color = 'orange', legend = \"Jan 2021\")\n",
    "p.triangle(x_2012, y_2012, size = 10, color = 'red', legend = \"Nov 15th 2012\")\n",
    "p.xaxis.axis_label = \"Flash Duration\"\n",
    "p.yaxis.axis_label = \"Count Rate\"\n",
    "show(p)"
   ]
  },
  {
   "cell_type": "code",
   "execution_count": null,
   "metadata": {},
   "outputs": [],
   "source": [
    "\n",
    "\n",
    "\n",
    "\n",
    "\n",
    "low_sub_pf_2012 = low_sub_pf_isr_13078.loc[(low_sub_pf_isr_13078['obsdate'] == '2012-11-15')]\n",
    "x_2012 = low_sub_pf_2012['flash_dur']\n",
    "y_2012 = low_sub_pf_2012['count_rate']\n",
    "\n",
    "p = figure(title = 'Count Rate vs. Flash Duration')\n",
    "p.y_range = Range1d(2.3, 2.7)\n",
    " \n",
    "p.triangle(x_2012, y_2012, size = 10, color = 'red', legend = \"2012 Data (Just 11/15)\")\n",
    "p.xaxis.axis_label = \"Flash Duration\"\n",
    "p.yaxis.axis_label = \"Count Rate\"\n",
    "show(p)"
   ]
  },
  {
   "cell_type": "markdown",
   "metadata": {},
   "source": [
    "Now for Medium Current:"
   ]
  },
  {
   "cell_type": "code",
   "execution_count": null,
   "metadata": {},
   "outputs": [],
   "source": [
    "med_sub_pf_isr_13078_nov14 = subarray_mean.loc[(subarray_mean['flash_cur'] == 'MED') & (subarray_mean['propid'] == 13078) & (subarray_mean['shutter'] == 'A') & (subarray_mean['obsdate'] == '2012-11-14')]\n",
    "med_sub_pf_isr_13078_nov15 = subarray_mean.loc[(subarray_mean['flash_cur'] == 'MED') & (subarray_mean['propid'] == 13078) & (subarray_mean['shutter'] == 'A') & (subarray_mean['obsdate'] == '2012-11-15')]\n",
    "\n",
    "both_dates = [med_sub_pf_isr_13078_nov14, med_sub_pf_isr_13078_nov15]\n",
    "\n",
    "med_sub_pf_isr_13078 = pd.concat(both_dates)"
   ]
  },
  {
   "cell_type": "code",
   "execution_count": null,
   "metadata": {},
   "outputs": [],
   "source": [
    "med_sub_pf_isr_13078\n",
    "\n",
    "paths = med_sub_pf_isr_13078.path.tolist() \n",
    "\n",
    "means = []\n",
    "sig_means = []\n",
    "for f in paths:\n",
    "    path = f\n",
    "    data = fits.getdata(path)\n",
    "    data_clip_1 = stats.sigma_clip(data, 3)\n",
    "    data_clip_2 = stats.sigma_clip(data_clip_1, 3)\n",
    "    data_clip_3 = stats.sigma_clip(data_clip_2, 3)\n",
    "    mean = np.mean(data)\n",
    "    sig_mean = np.mean(data_clip_3)\n",
    "    means.append(mean)\n",
    "    sig_means.append(sig_mean)\n",
    "\n",
    "dict = {'path': paths, 'mean': means, 'sig_mean': sig_means}\n",
    "path_and_mean_sub = pd.DataFrame(dict)"
   ]
  },
  {
   "cell_type": "code",
   "execution_count": null,
   "metadata": {},
   "outputs": [],
   "source": [
    "med_sub_pf_isr_13078['count_rate'] = (((med_sub_pf_isr_13078['sig_mean'])*1.55)/med_sub_pf_isr_13078['flash_dur'])"
   ]
  },
  {
   "cell_type": "code",
   "execution_count": null,
   "metadata": {},
   "outputs": [],
   "source": [
    "med_sub_pf_isr_13078"
   ]
  },
  {
   "cell_type": "code",
   "execution_count": null,
   "metadata": {},
   "outputs": [],
   "source": [
    "med_sub_pf_isr_13078.to_csv('countrate_for_2012_isr_med_data.csv')"
   ]
  },
  {
   "cell_type": "code",
   "execution_count": null,
   "metadata": {},
   "outputs": [],
   "source": [
    "med_sub_pf_2020_mar = subarray_mean.loc[(subarray_mean['flash_cur'] == 'MED') & (subarray_mean['shutter'] == 'A') & (subarray_mean['propid'] == 15718) & (subarray_mean['obsdate'] == '2020-03-22')]\n",
    "med_sub_pf_2020_apr = subarray_mean.loc[(subarray_mean['flash_cur'] == 'MED') & (subarray_mean['shutter'] == 'A') & (subarray_mean['propid'] == 15718) & (subarray_mean['obsdate'] == '2020-04-21')]\n",
    "frames = [med_sub_pf_2020_mar, med_sub_pf_2020_apr]\n",
    "med_sub_pf_2020 = pd.concat(frames)"
   ]
  },
  {
   "cell_type": "code",
   "execution_count": null,
   "metadata": {},
   "outputs": [],
   "source": [
    "med_sub_pf_2020"
   ]
  },
  {
   "cell_type": "code",
   "execution_count": null,
   "metadata": {},
   "outputs": [],
   "source": [
    "med_sub_pf_2020['count_rate'] = (((med_sub_pf_2020['sig_mean'])*1.55)/med_sub_pf_2020['flash_dur'])"
   ]
  },
  {
   "cell_type": "code",
   "execution_count": null,
   "metadata": {},
   "outputs": [],
   "source": [
    "med_sub_pf_2020\n",
    "med_sub_pf_2020.to_csv('countrate_for_2020_med_data.csv')"
   ]
  },
  {
   "cell_type": "code",
   "execution_count": null,
   "metadata": {},
   "outputs": [],
   "source": [
    "med_sub_pf_2020_apr = med_sub_pf_2020.loc[(med_sub_pf_2020['obsdate'] == '2020-04-21')]\n",
    "med_sub_pf_2020_mar = med_sub_pf_2020.loc[(med_sub_pf_2020['obsdate'] == '2020-03-22')]\n",
    "\n",
    "x = med_sub_pf_2020_apr['flash_dur']\n",
    "y = med_sub_pf_2020_apr['count_rate']\n",
    "\n",
    "x_mar = med_sub_pf_2020_mar['flash_dur']\n",
    "y_mar = med_sub_pf_2020_mar['count_rate']  \n",
    "    \n",
    "\n",
    "med_sub_pf_2012 = med_sub_pf_isr_13078.loc[(med_sub_pf_isr_13078['obsdate'] == '2012-11-15')]\n",
    "x_2012 = med_sub_pf_2012['flash_dur']\n",
    "y_2012 = med_sub_pf_2012['count_rate']\n",
    "\n",
    "p = figure(title = 'Count Rate vs. Flash Duration - Medium Current')\n",
    "#p.y_range = Range1d(2.3, 2.7)\n",
    "p.circle(x, y, size = 10, color = 'purple', legend_label = \"April 21st 2020\") \n",
    "p.circle(x_mar, y_mar, size = 10, color = 'blue', legend_label = \"March 22nd 2020\")\n",
    "p.triangle(x_2012, y_2012, size = 10, color = 'red', legend_label = \"2012 Data (Just 11/15)\")\n",
    "p.xaxis.axis_label = \"Flash Duration\"\n",
    "p.yaxis.axis_label = \"Count Rate\"\n",
    "show(p)"
   ]
  },
  {
   "cell_type": "code",
   "execution_count": null,
   "metadata": {},
   "outputs": [],
   "source": []
  },
  {
   "cell_type": "code",
   "execution_count": null,
   "metadata": {},
   "outputs": [],
   "source": []
  },
  {
   "cell_type": "code",
   "execution_count": null,
   "metadata": {},
   "outputs": [],
   "source": []
  }
 ],
 "metadata": {
  "kernelspec": {
   "display_name": "Python 3",
   "language": "python",
   "name": "python3"
  },
  "language_info": {
   "codemirror_mode": {
    "name": "ipython",
    "version": 3
   },
   "file_extension": ".py",
   "mimetype": "text/x-python",
   "name": "python",
   "nbconvert_exporter": "python",
   "pygments_lexer": "ipython3",
   "version": "3.5.6"
  },
  "toc": {
   "base_numbering": 1,
   "nav_menu": {},
   "number_sections": true,
   "sideBar": true,
   "skip_h1_title": false,
   "title_cell": "Table of Contents",
   "title_sidebar": "Contents",
   "toc_cell": false,
   "toc_position": {},
   "toc_section_display": true,
   "toc_window_display": false
  }
 },
 "nbformat": 4,
 "nbformat_minor": 4
}
