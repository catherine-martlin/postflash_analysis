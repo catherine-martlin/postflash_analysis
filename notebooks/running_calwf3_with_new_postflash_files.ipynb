{
 "cells": [
  {
   "cell_type": "code",
   "execution_count": null,
   "metadata": {},
   "outputs": [],
   "source": [
    "import glob\n",
    "\n",
    "from astropy.io import fits\n",
    "from wfc3tools import calwf3"
   ]
  },
  {
   "cell_type": "code",
   "execution_count": null,
   "metadata": {},
   "outputs": [],
   "source": [
    "# Check the current postflash values for the raw files you want to test with:\n",
    "for file in glob.glob('*raw.fits'):\n",
    "    hdu = fits.open(file)\n",
    "    print(hdu[0].header['FLSHFILE'])\n",
    "    hdu.close()"
   ]
  },
  {
   "cell_type": "code",
   "execution_count": null,
   "metadata": {},
   "outputs": [],
   "source": [
    "# Open each raw and update header to have the new postflash file\n",
    "\n",
    "test_postflash = 'postflash_test.fits'\n",
    "\n",
    "for file in glob.glob('*raw.fits'):\n",
    "    with fits.open(file,mode='update') as hdu:\n",
    "        h = hdu[0].header\n",
    "        h.set('FLSHFILE', test_postflash)            "
   ]
  },
  {
   "cell_type": "code",
   "execution_count": null,
   "metadata": {},
   "outputs": [],
   "source": [
    "# Check that the postflash file was updated: \n",
    "for file in glob.glob('*raw.fits'):\n",
    "    hdu = fits.open(file)\n",
    "    print(hdu[0].header['FLSHFILE'])\n",
    "    hdu.close()"
   ]
  },
  {
   "cell_type": "code",
   "execution_count": null,
   "metadata": {},
   "outputs": [],
   "source": [
    "# Now run the darks through calibration with the new postflash file: \n",
    "for rawfits in glob.glob('i*_raw.fits'):\n",
    "    calwf3(rawfits)"
   ]
  },
  {
   "cell_type": "code",
   "execution_count": null,
   "metadata": {},
   "outputs": [],
   "source": []
  },
  {
   "cell_type": "code",
   "execution_count": null,
   "metadata": {},
   "outputs": [],
   "source": []
  }
 ],
 "metadata": {
  "kernelspec": {
   "display_name": "Python 3",
   "language": "python",
   "name": "python3"
  },
  "language_info": {
   "codemirror_mode": {
    "name": "ipython",
    "version": 3
   },
   "file_extension": ".py",
   "mimetype": "text/x-python",
   "name": "python",
   "nbconvert_exporter": "python",
   "pygments_lexer": "ipython3",
   "version": "3.5.6"
  }
 },
 "nbformat": 4,
 "nbformat_minor": 2
}
