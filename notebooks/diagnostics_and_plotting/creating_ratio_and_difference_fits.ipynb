{
 "cells": [
  {
   "cell_type": "code",
   "execution_count": null,
   "id": "6ce9a42a",
   "metadata": {},
   "outputs": [],
   "source": [
    "from astropy.io import fits\n",
    "import os\n",
    "import numpy as np\n",
    "import glob\n"
   ]
  },
  {
   "cell_type": "code",
   "execution_count": null,
   "id": "e34bf148",
   "metadata": {},
   "outputs": [],
   "source": [
    "current = os.getcwd()\n",
    "base_path = '/Users/cmartlin/Desktop/postflash_analysis/2022_data/deliverable_reference_files/'\n",
    "os.chdir(base_path)\n",
    "\n",
    "for file in glob.glob('2012_pf_A_low_curr.fits'):\n",
    "\thdulist_a1 = fits.open(file)\n",
    "\tdataA1=hdulist_a1[1].data\n",
    "\tdataA4=hdulist_a1[4].data\n",
    "\n",
    "\tall_data=np.concatenate((dataA1,dataA4), axis=0)\n",
    "\t#all_data_norm=all_data/np.mean(all_data)\n",
    "\tout_file='full_not_norm_'+file\n",
    "\tfits.writeto(out_file, all_data)\n"
   ]
  },
  {
   "cell_type": "code",
   "execution_count": null,
   "id": "59e9f3a2",
   "metadata": {},
   "outputs": [],
   "source": [
    "ref_A_low = ('../../2022_data/deliverable_reference_files/2021_pf_A_low_curr.fits')\n",
    "ref_B_low = ('../../2022_data/deliverable_reference_files/2021_pf_B_low_curr.fits')\n",
    "\n",
    "hdulist_A = fits.open(ref_A_low)\n",
    "hdulist_B = fits.open(ref_B_low)\n",
    "data1A=hdulist_A[1].data\n",
    "data4A=hdulist_A[4].data\n",
    "data1B=hdulist_B[1].data\n",
    "data4B=hdulist_B[1].data\n",
    "\n",
    "all_data_A=np.concatenate((data1A,data4A), axis=0)\n",
    "print(all_data_A)\n",
    "all_data_B=np.concatenate((data1B,data4B),axis=0)\n",
    "#all_data_norm=all_data/np.mean(all_data)\n",
    "ratio_ref_A_B = all_data_A/all_data_B\n",
    "print(ratio_ref_A_B)\n",
    "out_file=\"2021_low_A_B_ratio.fits\"\n",
    "fits.writeto(out_file, ratio_ref_A_B)"
   ]
  },
  {
   "cell_type": "code",
   "execution_count": null,
   "id": "4188bfb2",
   "metadata": {},
   "outputs": [],
   "source": []
  }
 ],
 "metadata": {
  "kernelspec": {
   "display_name": "Python 3",
   "language": "python",
   "name": "python3"
  },
  "language_info": {
   "codemirror_mode": {
    "name": "ipython",
    "version": 3
   },
   "file_extension": ".py",
   "mimetype": "text/x-python",
   "name": "python",
   "nbconvert_exporter": "python",
   "pygments_lexer": "ipython3",
   "version": "3.5.6"
  },
  "toc": {
   "base_numbering": 1,
   "nav_menu": {},
   "number_sections": true,
   "sideBar": true,
   "skip_h1_title": false,
   "title_cell": "Table of Contents",
   "title_sidebar": "Contents",
   "toc_cell": false,
   "toc_position": {},
   "toc_section_display": true,
   "toc_window_display": false
  }
 },
 "nbformat": 4,
 "nbformat_minor": 5
}
