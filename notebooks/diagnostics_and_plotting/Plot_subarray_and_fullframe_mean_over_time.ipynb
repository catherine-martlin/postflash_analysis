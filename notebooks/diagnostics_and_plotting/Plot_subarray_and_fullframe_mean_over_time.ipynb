{
 "cells": [
  {
   "cell_type": "code",
   "execution_count": null,
   "metadata": {},
   "outputs": [],
   "source": [
    "import glob\n",
    "import os\n",
    "import shutil\n",
    "\n",
    "from astropy.io import fits\n",
    "from astropy import stats\n",
    "from astropy.time import Time\n",
    "from bokeh.io import output_file, output_notebook\n",
    "from bokeh.plotting import figure, show\n",
    "from bokeh.models import ColumnDataSource, Range1d\n",
    "from bokeh.layouts import row, column, gridplot\n",
    "from bokeh.models.widgets import Tabs, Panel\n",
    "import numpy as np\n",
    "import pandas as pd\n",
    "from scipy.optimize import curve_fit\n",
    "\n",
    "from plotting_codes import *\n",
    "\n",
    "# Determine where the visualization will be rendered\n",
    "output_notebook() "
   ]
  },
  {
   "cell_type": "code",
   "execution_count": null,
   "metadata": {},
   "outputs": [],
   "source": [
    "postflash_data = pd.read_pickle('../../2022_data/Feb_2022_flc_all_stats_postflash.pkl')\n",
    "postflash_data[0:10]"
   ]
  },
  {
   "cell_type": "code",
   "execution_count": null,
   "metadata": {},
   "outputs": [],
   "source": [
    "subarray_pf = postflash_data.loc[(postflash_data['subarray'] == True)] \n",
    "fullframe_pf = postflash_data.loc[(postflash_data['subarray'] == False)]\n",
    "low_sub_pf_A = postflash_data.loc[(postflash_data['flash_cur'] == 'LOW') & (postflash_data['subarray'] == True) & (postflash_data['shutter'] == 'A')] \n",
    "low_sub_pf_B = postflash_data.loc[(postflash_data['flash_cur'] == 'LOW') & (postflash_data['subarray'] == True) & (postflash_data['shutter'] == 'B')] "
   ]
  },
  {
   "cell_type": "code",
   "execution_count": null,
   "metadata": {},
   "outputs": [],
   "source": [
    "fullframe_pf_A = postflash_data.loc[(postflash_data['flash_cur'] == 'MED') & (postflash_data['subarray'] == False) & (postflash_data['shutter'] == 'A') & (postflash_data['flash_lvl'] == 7310)]\n",
    "legend_label = \"Fullframe, Shutter A\"\n",
    "plot_mean_normalized_and_linear_fit(fullframe_pf_A, legend_label)"
   ]
  },
  {
   "cell_type": "code",
   "execution_count": null,
   "metadata": {},
   "outputs": [],
   "source": [
    "fullframe_pf_B = postflash_data.loc[(postflash_data['flash_cur'] == 'MED') & (postflash_data['subarray'] == False) & (postflash_data['shutter'] == 'B') & (postflash_data['flash_lvl'] == 7310)]\n",
    "legend_label = \"Fullframe, Shutter B\"\n",
    "plot_mean_normalized_and_linear_fit(fullframe_pf_B, legend_label)"
   ]
  },
  {
   "cell_type": "code",
   "execution_count": null,
   "metadata": {},
   "outputs": [],
   "source": [
    "low_sub_pf_A_lvl_3 = postflash_data.loc[(postflash_data['flash_cur'] == 'LOW') & (postflash_data['subarray'] == True) & (postflash_data['shutter'] == 'A') & (postflash_data['flash_lvl'] == 3)]\n",
    "legend_label = \"Subarray, Lvl 3, Shutter A\"\n",
    "plot_mean_normalized_and_linear_fit(low_sub_pf_A_lvl_3, legend_label)"
   ]
  },
  {
   "cell_type": "code",
   "execution_count": null,
   "metadata": {},
   "outputs": [],
   "source": [
    "low_sub_pf_B_lvl_3 = postflash_data.loc[(postflash_data['flash_cur'] == 'LOW') & (postflash_data['subarray'] == True) & (postflash_data['shutter'] == 'B') & (postflash_data['flash_lvl'] == 3)]\n",
    "legend_label = \"Subarray, Lvl 3, Shutter B\"\n",
    "plot_mean_normalized_and_linear_fit(low_sub_pf_B_lvl_3, legend_label)"
   ]
  },
  {
   "cell_type": "code",
   "execution_count": null,
   "metadata": {},
   "outputs": [],
   "source": [
    "low_sub_pf_A_lvl_5 = postflash_data.loc[(postflash_data['flash_cur'] == 'LOW') & (postflash_data['subarray'] == True) & (postflash_data['shutter'] == 'A') & (postflash_data['flash_lvl'] == 5)]\n",
    "legend_label = \"Subarray, Lvl 5, Shutter A\"\n",
    "plot_mean_normalized_and_linear_fit(low_sub_pf_A_lvl_5, legend_label)"
   ]
  },
  {
   "cell_type": "code",
   "execution_count": null,
   "metadata": {},
   "outputs": [],
   "source": [
    "low_sub_pf_B_lvl_5 = postflash_data.loc[(postflash_data['flash_cur'] == 'LOW') & (postflash_data['subarray'] == True) & (postflash_data['shutter'] == 'B') & (postflash_data['flash_lvl'] == 5)]\n",
    "legend_label = \"Subarray, Lvl 5, Shutter B\"\n",
    "plot_mean_normalized_and_linear_fit(low_sub_pf_B_lvl_5, legend_label)\n"
   ]
  },
  {
   "cell_type": "code",
   "execution_count": null,
   "metadata": {},
   "outputs": [],
   "source": [
    "low_sub_pf_A_lvl_8 = postflash_data.loc[(postflash_data['flash_cur'] == 'LOW') & (postflash_data['subarray'] == True) & (postflash_data['shutter'] == 'A') & (postflash_data['flash_lvl'] == 8)]\n",
    "legend_label = \"Subarray, Lvl 8, Shutter A\"\n",
    "plot_mean_normalized_and_linear_fit(low_sub_pf_A_lvl_8, legend_label)"
   ]
  },
  {
   "cell_type": "code",
   "execution_count": null,
   "metadata": {},
   "outputs": [],
   "source": [
    "low_sub_pf_B_lvl_8 = postflash_data.loc[(postflash_data['flash_cur'] == 'LOW') & (postflash_data['subarray'] == True) & (postflash_data['shutter'] == 'B') & (postflash_data['flash_lvl'] == 8)]\n",
    "legend_label = \"Subarray, Lvl 8, Shutter B\"\n",
    "plot_mean_normalized_and_linear_fit(low_sub_pf_B_lvl_8, legend_label)"
   ]
  },
  {
   "cell_type": "code",
   "execution_count": null,
   "metadata": {},
   "outputs": [],
   "source": [
    "low_sub_pf_A_lvl_10 = postflash_data.loc[(postflash_data['flash_cur'] == 'LOW') & (postflash_data['subarray'] == True) & (postflash_data['shutter'] == 'A') & (postflash_data['flash_lvl'] == 10)]\n",
    "legend_label = \"Subarray, Lvl 10, Shutter A\"\n",
    "plot_mean_normalized_and_linear_fit(low_sub_pf_A_lvl_10, legend_label)"
   ]
  },
  {
   "cell_type": "code",
   "execution_count": null,
   "metadata": {},
   "outputs": [],
   "source": [
    "low_sub_pf_B_lvl_10 = postflash_data.loc[(postflash_data['flash_cur'] == 'LOW') & (postflash_data['subarray'] == True) & (postflash_data['shutter'] == 'B') & (postflash_data['flash_lvl'] == 10)]\n",
    "legend_label = \"Subarray, Lvl 10, Shutter B\"\n",
    "plot_mean_normalized_and_linear_fit(low_sub_pf_B_lvl_10, legend_label)"
   ]
  },
  {
   "cell_type": "code",
   "execution_count": null,
   "metadata": {},
   "outputs": [],
   "source": [
    "low_sub_pf_A_lvl_12 = postflash_data.loc[(postflash_data['flash_cur'] == 'LOW') \n",
    "                                         & (postflash_data['subarray'] == True) \n",
    "                                         & (postflash_data['shutter'] == 'A') \n",
    "                                         & (postflash_data['flash_lvl'] == 12)]\n",
    "legend_label = \"Subarray, Lvl 12, Shutter A\"\n",
    "plot_mean_normalized_and_linear_fit(low_sub_pf_A_lvl_12, legend_label)"
   ]
  },
  {
   "cell_type": "code",
   "execution_count": null,
   "metadata": {},
   "outputs": [],
   "source": [
    "low_sub_pf_B_lvl_12 = postflash_data.loc[(postflash_data['flash_cur'] == 'LOW') & (postflash_data['subarray'] == True) & (postflash_data['shutter'] == 'B') & (postflash_data['flash_lvl'] == 12)]\n",
    "legend_label = \"Subarray, Lvl 12, Shutter B\"\n",
    "plot_mean_normalized_and_linear_fit(low_sub_pf_B_lvl_12, legend_label)"
   ]
  },
  {
   "cell_type": "code",
   "execution_count": null,
   "metadata": {},
   "outputs": [],
   "source": [
    "low_sub_pf_A_lvl_20 = postflash_data.loc[(postflash_data['flash_cur'] == 'LOW') & (postflash_data['subarray'] == True) & (postflash_data['shutter'] == 'A') & (postflash_data['flash_lvl'] == 20)]\n",
    "legend_label = \"Subarray, Lvl 20, Shutter A\"\n",
    "plot_mean_normalized_and_linear_fit(low_sub_pf_A_lvl_20, legend_label)"
   ]
  },
  {
   "cell_type": "code",
   "execution_count": null,
   "metadata": {},
   "outputs": [],
   "source": [
    "low_sub_pf_B_lvl_20 = postflash_data.loc[(postflash_data['flash_cur'] == 'LOW') & (postflash_data['subarray'] == True) & (postflash_data['shutter'] == 'B') & (postflash_data['flash_lvl'] == 20)]\n",
    "legend_label = \"Subarray, Lvl 20, Shutter B\"\n",
    "plot_mean_normalized_and_linear_fit(low_sub_pf_B_lvl_20, legend_label)"
   ]
  }
 ],
 "metadata": {
  "kernelspec": {
   "display_name": "Python 3",
   "language": "python",
   "name": "python3"
  },
  "language_info": {
   "codemirror_mode": {
    "name": "ipython",
    "version": 3
   },
   "file_extension": ".py",
   "mimetype": "text/x-python",
   "name": "python",
   "nbconvert_exporter": "python",
   "pygments_lexer": "ipython3",
   "version": "3.6.12"
  },
  "toc": {
   "base_numbering": 1,
   "nav_menu": {},
   "number_sections": true,
   "sideBar": true,
   "skip_h1_title": false,
   "title_cell": "Table of Contents",
   "title_sidebar": "Contents",
   "toc_cell": false,
   "toc_position": {},
   "toc_section_display": true,
   "toc_window_display": false
  }
 },
 "nbformat": 4,
 "nbformat_minor": 4
}
