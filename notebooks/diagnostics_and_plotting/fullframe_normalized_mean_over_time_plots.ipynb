{
 "cells": [
  {
   "cell_type": "code",
   "execution_count": null,
   "id": "df862c4c",
   "metadata": {},
   "outputs": [],
   "source": [
    "import glob\n",
    "import os\n",
    "import shutil\n",
    "\n",
    "from astropy.io import fits\n",
    "from astropy import stats\n",
    "from astropy.time import Time\n",
    "from bokeh.io import output_file, output_notebook\n",
    "from bokeh.plotting import figure, show\n",
    "from bokeh.models import ColumnDataSource, Range1d\n",
    "from bokeh.layouts import row, column, gridplot\n",
    "from bokeh.models.widgets import Tabs, Panel\n",
    "import numpy as np\n",
    "import pandas as pd\n",
    "from scipy.optimize import curve_fit\n",
    "\n",
    "# Determine where the visualization will be rendered\n",
    "output_notebook()"
   ]
  },
  {
   "cell_type": "code",
   "execution_count": null,
   "id": "e4323c72",
   "metadata": {},
   "outputs": [],
   "source": [
    "postflash_data = pd.read_pickle('/grp/hst/wfc3u/postflash_2021/flc_all_stats_postflash.pkl')\n",
    "postflash_data"
   ]
  },
  {
   "cell_type": "code",
   "execution_count": null,
   "id": "adbb846c",
   "metadata": {},
   "outputs": [],
   "source": [
    "fullframe_pf = postflash_data.loc[(postflash_data['subarray'] == False)] \n",
    "fullframe_pf_A = postflash_data.loc[(postflash_data['subarray'] == False) & (postflash_data['shutter'] == 'A') & (postflash_data['flash_cur'] == 'MED') & (postflash_data['flash_dur'] == 100.0)] \n",
    "fullframe_pf_B = postflash_data.loc[(postflash_data['subarray'] == False) & (postflash_data['shutter'] == 'B') & (postflash_data['flash_cur'] == 'MED') & (postflash_data['flash_dur'] == 100.0)]\n",
    "fullframe_pf_A"
   ]
  },
  {
   "cell_type": "code",
   "execution_count": null,
   "id": "c5d54aeb",
   "metadata": {},
   "outputs": [],
   "source": [
    "# normalized to the mean of first observation\n",
    "sorted_x = fullframe_pf_A['datetime'].sort_values()\n",
    "first_rootname = sorted_x.index[0]\n",
    "x = Time(sorted_x,format='datetime64')\n",
    "x.format = 'mjd'\n",
    "x = x.to_value('mjd', 'float')\n",
    "\n",
    "mean_mean = np.mean(fullframe_pf_A['sig_mean'])\n",
    "y = fullframe_pf_A['sig_mean']/fullframe_pf_A['sig_mean'][first_rootname]\n",
    "\n",
    "# Make and fit a linear regression model\n",
    "def line(x, a, b):\n",
    "    return a * x + b\n",
    "\n",
    "#x = x.reshape(-1, 1)\n",
    "popt, pcov = curve_fit(line, x, list(y))\n",
    "print(popt[0])\n",
    "\n",
    "# Find the slope and intercept from the model\n",
    "slope = popt[0] # Takes the first element of the array\n",
    "intercept = popt[1]\n",
    "\n",
    "# Make the regression line\n",
    "y_pred = []\n",
    "for i in x:\n",
    "    i = float(i)\n",
    "    temp_y = slope*i + intercept \n",
    "    y_pred.append(temp_y)\n",
    "\n",
    "p = figure(title = 'Mean PF value Normalized to Mean of First Observation',x_axis_type='datetime')\n",
    "p.y_range=Range1d(0.9, 1.05)\n",
    "p.circle(sorted_x, y,size = 4, legend_label = \"Med fullframe Shutter A\")\n",
    "p.line(sorted_x,y_pred,color='red',legend_label='y = ' + str(slope) +' x + '+ str(round(intercept,6)))\n",
    "show(p)"
   ]
  },
  {
   "cell_type": "code",
   "execution_count": null,
   "id": "35aeee03",
   "metadata": {},
   "outputs": [],
   "source": []
  },
  {
   "cell_type": "code",
   "execution_count": null,
   "id": "9f793432",
   "metadata": {},
   "outputs": [],
   "source": [
    "# normalized to the mean of first observation\n",
    "sorted_x = fullframe_pf_B['datetime'].sort_values()\n",
    "first_rootname = sorted_x.index[0]\n",
    "x = Time(sorted_x,format='datetime64')\n",
    "x.format = 'mjd'\n",
    "x = x.to_value('mjd', 'float')\n",
    "\n",
    "mean_mean = np.mean(fullframe_pf_B['sig_mean'])\n",
    "y = fullframe_pf_B['sig_mean']/fullframe_pf_B['sig_mean'][first_rootname]\n",
    "\n",
    "# Make and fit a linear regression model\n",
    "def line(x, a, b):\n",
    "    return a * x + b\n",
    "\n",
    "#x = x.reshape(-1, 1)\n",
    "popt, pcov = curve_fit(line, x, list(y))\n",
    "print(popt[0])\n",
    "\n",
    "# Find the slope and intercept from the model\n",
    "slope = popt[0] # Takes the first element of the array\n",
    "intercept = popt[1]\n",
    "\n",
    "# Make the regression line\n",
    "y_pred = []\n",
    "for i in x:\n",
    "    i = float(i)\n",
    "    temp_y = slope*i + intercept \n",
    "    y_pred.append(temp_y)\n",
    "\n",
    "p = figure(title = 'Mean PF value Normalized to Mean of First Observation',x_axis_type='datetime')\n",
    "p.y_range=Range1d(0.9, 1.05)\n",
    "p.circle(sorted_x, y,size = 4, legend_label = \"Med fullframe Shutter B\")\n",
    "p.line(sorted_x,y_pred,color='red',legend_label='y = ' + str(slope) +' x + '+ str(round(intercept,6)))\n",
    "show(p)"
   ]
  },
  {
   "cell_type": "code",
   "execution_count": null,
   "id": "ba068c66",
   "metadata": {},
   "outputs": [],
   "source": []
  },
  {
   "cell_type": "code",
   "execution_count": null,
   "id": "f0e607ff",
   "metadata": {},
   "outputs": [],
   "source": []
  },
  {
   "cell_type": "code",
   "execution_count": null,
   "id": "a4a933f8",
   "metadata": {},
   "outputs": [],
   "source": []
  },
  {
   "cell_type": "code",
   "execution_count": null,
   "id": "51170258",
   "metadata": {},
   "outputs": [],
   "source": []
  },
  {
   "cell_type": "code",
   "execution_count": null,
   "id": "c15863a5",
   "metadata": {},
   "outputs": [],
   "source": []
  }
 ],
 "metadata": {
  "kernelspec": {
   "display_name": "Python 3",
   "language": "python",
   "name": "python3"
  },
  "language_info": {
   "codemirror_mode": {
    "name": "ipython",
    "version": 3
   },
   "file_extension": ".py",
   "mimetype": "text/x-python",
   "name": "python",
   "nbconvert_exporter": "python",
   "pygments_lexer": "ipython3",
   "version": "3.5.6"
  },
  "toc": {
   "base_numbering": 1,
   "nav_menu": {},
   "number_sections": true,
   "sideBar": true,
   "skip_h1_title": false,
   "title_cell": "Table of Contents",
   "title_sidebar": "Contents",
   "toc_cell": false,
   "toc_position": {},
   "toc_section_display": true,
   "toc_window_display": false
  }
 },
 "nbformat": 4,
 "nbformat_minor": 5
}
