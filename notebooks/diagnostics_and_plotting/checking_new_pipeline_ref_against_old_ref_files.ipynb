{
 "cells": [
  {
   "cell_type": "code",
   "execution_count": null,
   "id": "incoming-beads",
   "metadata": {},
   "outputs": [],
   "source": [
    "import glob\n",
    "import os\n",
    "import shutil\n",
    "\n",
    "from astropy import units as u\n",
    "from astropy.io import fits\n",
    "from astropy.nddata import Cutout2D\n",
    "from bokeh.io import output_file, output_notebook\n",
    "from bokeh.plotting import figure, show\n",
    "from bokeh.models import ColumnDataSource, Range1d\n",
    "from bokeh.layouts import row, column, gridplot\n",
    "from bokeh.models.widgets import Tabs, Panel\n",
    "import matplotlib.pyplot as plt\n",
    "from matplotlib.pyplot import figure\n",
    "import numpy as np\n",
    "import pandas as pd\n",
    "\n",
    "\n",
    "# Determine where the visualization will be rendered\n",
    "output_notebook()\n",
    "\n",
    "plt.rcParams['axes.labelsize'] = 16\n",
    "plt.rcParams['axes.titlesize'] = 16\n",
    "plt.rcParams['xtick.labelsize'] = 14\n",
    "plt.rcParams['ytick.labelsize'] = 14"
   ]
  },
  {
   "cell_type": "code",
   "execution_count": null,
   "id": "under-spokesman",
   "metadata": {},
   "outputs": [],
   "source": [
    "## Define all Paths here: \n",
    "biyearly_image = '../../../postflash_2022_work/2022_ISR_testing_data/2018-2019_test_01_26_2022_idle02ayq_flc.fits'\n",
    "current_image = '../../../postflash_2022_work/2022_ISR_testing_data/idle02ayq_flc.fits'\n",
    "#yearly_image = '../../postflash_2022_work/2022_ISR_testing_data/2018_yearly_low_10_18_2022_idn011e6s_flc.fits'\n",
    "yearly_image = '../../../postflash_2022_work/2022_ISR_testing_data/2019_yearly_low_10_18_2022_idle02ayq_flc.fits'\n",
    "\n",
    "updated_yearly = glob.glob('../../../postflash_2022_work/2022_ISR_testing_data/*10_18*')\n",
    "science_pipeline = glob.glob('../../../postflash_2022_work/2022_ISR_testing_data/i*flc.fits')"
   ]
  },
  {
   "cell_type": "code",
   "execution_count": null,
   "id": "considered-handbook",
   "metadata": {},
   "outputs": [],
   "source": [
    "updated_yearly"
   ]
  },
  {
   "cell_type": "code",
   "execution_count": null,
   "id": "completed-moldova",
   "metadata": {},
   "outputs": [],
   "source": [
    "current_A_low_curr = fits.getdata('../../2022_data/16819058i_fls.fits',1)\n",
    "ref_A_low_2021 = fits.getdata('../../2022_data/deliverable_reference_files/2021_pf_A_low_curr.fits',1)\n",
    "ref_A_low_2017 = fits.getdata('../../2022_data/deliverable_reference_files/2017_pf_A_low_curr.fits',1)\n",
    "\n",
    "figure(figsize=(10, 8), dpi=80)\n",
    "\n",
    "plt.hist(ref_A_low_2021.flatten(),alpha=0.5, range=(1,3.5), bins=500, label='2021 Reference File',color='red')\n",
    "plt.hist(ref_A_low_2017.flatten(),alpha=0.5, range=(1,3.5), bins=500, label='2017 Reference File')\n",
    "plt.hist(current_A_low_curr.flatten(),alpha=0.5, range=(1,3.5), bins=500, label='Original Reference File')\n",
    "plt.xlabel('Counts(e-)/Second')\n",
    "plt.ylabel('Number of Pixels')\n",
    "plt.title('Comparing Original and New Time-Dependent Reference Files (UVIS2)')\n",
    "plt.legend()\n",
    "#plt.savefig('uvis2_current_vs_time_dependent_reference_file_low_current.pdf')"
   ]
  },
  {
   "cell_type": "code",
   "execution_count": null,
   "id": "illegal-visibility",
   "metadata": {},
   "outputs": [],
   "source": [
    "current_A_low_curr = fits.getdata('../../2022_data/16819058i_fls.fits',1)\n",
    "ref_A_low_2021 = fits.getdata('../../2022_data/deliverable_reference_files/2021_pf_A_low_curr.fits',1)\n",
    "ref_A_low_5_year = fits.getdata('../../2022_data/2012_2016_fullframe_A_flc_stack_08-05-2021_low_curr_final.fits',1)\n",
    "\n",
    "figure(figsize=(10, 8), dpi=80)\n",
    "\n",
    "plt.hist(ref_A_low_2021.flatten(),alpha=0.5, range=(2.8,3.3), bins=500, label='2021 Reference File',color='red')\n",
    "plt.hist(ref_A_low_5_year.flatten(),alpha=0.5, range=(2.8,3.3), bins=500, label='Original_remade Reference File')\n",
    "plt.hist(current_A_low_curr.flatten(),alpha=0.5, range=(2.8,3.3), bins=500, label='Original Reference File')\n",
    "plt.xlabel('Counts(e-)/Second')\n",
    "plt.ylabel('Number of Pixels')\n",
    "plt.title('Comparing Original and New Time-Dependent Reference Files (UVIS2)')\n",
    "plt.legend()\n",
    "#plt.savefig('uvis2_current_vs_time_dependent_reference_file_low_current.pdf')"
   ]
  },
  {
   "cell_type": "code",
   "execution_count": null,
   "id": "massive-hollow",
   "metadata": {},
   "outputs": [],
   "source": [
    "current_A_low_curr = fits.getdata('../../2022_data/16819058i_fls.fits',1)\n",
    "ref_A_low_2021 = fits.getdata('../../2022_data/deliverable_reference_files/2021_pf_A_low_curr.fits',1)\n",
    "\n",
    "print(np.mean(current_A_low_curr.flatten()))\n",
    "print(np.mean(ref_A_low_2021.flatten()))"
   ]
  },
  {
   "cell_type": "code",
   "execution_count": null,
   "id": "romantic-packaging",
   "metadata": {},
   "outputs": [],
   "source": [
    "refs = glob.glob('../../2022_data/deliverable_reference_files/20*_pf_A_low_curr.fits')"
   ]
  },
  {
   "cell_type": "code",
   "execution_count": null,
   "id": "hungarian-orientation",
   "metadata": {},
   "outputs": [],
   "source": [
    "refs"
   ]
  },
  {
   "cell_type": "code",
   "execution_count": null,
   "id": "adjusted-contractor",
   "metadata": {},
   "outputs": [],
   "source": [
    "for f in refs:\n",
    "    ref_data = fits.getdata(f,1)\n",
    "    orig_data = fits.getdata('../../2022_data/16819058i_fls.fits',1)\n",
    "    print(f[44:48])\n",
    "    print(np.mean(ref_data).flatten()-np.mean(orig_data.flatten()))"
   ]
  },
  {
   "cell_type": "code",
   "execution_count": null,
   "id": "biological-practitioner",
   "metadata": {},
   "outputs": [],
   "source": [
    "refs = [ '../../2022_data/deliverable_reference_files/2012_pf_A_low_curr.fits',\n",
    "  '../../2022_data/deliverable_reference_files/2013_pf_A_low_curr.fits',\n",
    "  '../../2022_data/deliverable_reference_files/2014_pf_A_low_curr.fits',\n",
    " '../../2022_data/deliverable_reference_files/2015_pf_A_low_curr.fits',\n",
    " '../../2022_data/deliverable_reference_files/2016_pf_A_low_curr.fits',\n",
    "  '../../2022_data/deliverable_reference_files/2017_pf_A_low_curr.fits',\n",
    " '../../2022_data/deliverable_reference_files/2018_pf_A_low_curr.fits',\n",
    "  '../../2022_data/deliverable_reference_files/2019_pf_A_low_curr.fits',\n",
    " '../../2022_data/deliverable_reference_files/2020_pf_A_low_curr.fits',\n",
    " '../../2022_data/deliverable_reference_files/2021_pf_A_low_curr.fits'\n",
    "]"
   ]
  },
  {
   "cell_type": "code",
   "execution_count": null,
   "id": "scenic-antibody",
   "metadata": {},
   "outputs": [],
   "source": [
    "for f in refs:\n",
    "    ref_data = fits.getdata(f,1)\n",
    "    orig_data = fits.getdata('../../2022_data/16819058i_fls.fits',1)\n",
    "    diff = ref_data - orig_data\n",
    "    print(f[44:48])\n",
    "    print('Yearly mean, diff mean, diff median, diff std:')\n",
    "    print(np.median(ref_data.flatten()))\n",
    "    print(np.median(orig_data.flatten()))\n",
    "    print(np.mean(diff.flatten()))\n",
    "    print(np.median(diff.flatten()))\n",
    "    print(np.std(diff.flatten()))\n",
    "    print()"
   ]
  },
  {
   "cell_type": "code",
   "execution_count": null,
   "id": "architectural-bibliography",
   "metadata": {},
   "outputs": [],
   "source": [
    "2012\n",
    "Mean, Median, std:\n",
    "0.0028757986\n",
    "0.0022921562\n",
    "0.0073600216\n",
    "\n",
    "2013\n",
    "Mean, Median, std:\n",
    "0.0049335686\n",
    "0.0044355392\n",
    "0.007348125\n",
    "\n",
    "2014\n",
    "Mean, Median, std:\n",
    "0.001808611\n",
    "0.0013389587\n",
    "0.0072008637\n",
    "\n",
    "2015\n",
    "Mean, Median, std:\n",
    "-0.006317402\n",
    "-0.005935192\n",
    "0.0072825067\n",
    "\n",
    "2016\n",
    "Mean, Median, std:\n",
    "0.00026263777\n",
    "0.0\n",
    "0.007770536\n",
    "\n",
    "2017\n",
    "Mean, Median, std:\n",
    "-0.016651781\n",
    "-0.016670942\n",
    "0.009590438\n",
    "\n",
    "2018\n",
    "Mean, Median, std:\n",
    "-0.023090044\n",
    "-0.023265839\n",
    "0.010170399\n",
    "\n",
    "2019\n",
    "Mean, Median, std:\n",
    "-0.029535126\n",
    "-0.029884815\n",
    "0.01098938\n",
    "\n",
    "2020\n",
    "Mean, Median, std:\n",
    "-0.02531374\n",
    "-0.02547288\n",
    "0.01078011\n",
    "\n",
    "2021\n",
    "Mean, Median, std:\n",
    "-0.04234172\n",
    "-0.04309964\n",
    "0.013125703\n"
   ]
  }
 ],
 "metadata": {
  "kernelspec": {
   "display_name": "Python 3",
   "language": "python",
   "name": "python3"
  },
  "language_info": {
   "codemirror_mode": {
    "name": "ipython",
    "version": 3
   },
   "file_extension": ".py",
   "mimetype": "text/x-python",
   "name": "python",
   "nbconvert_exporter": "python",
   "pygments_lexer": "ipython3",
   "version": "3.6.12"
  },
  "toc": {
   "base_numbering": 1,
   "nav_menu": {},
   "number_sections": true,
   "sideBar": true,
   "skip_h1_title": false,
   "title_cell": "Table of Contents",
   "title_sidebar": "Contents",
   "toc_cell": false,
   "toc_position": {},
   "toc_section_display": true,
   "toc_window_display": false
  }
 },
 "nbformat": 4,
 "nbformat_minor": 5
}
