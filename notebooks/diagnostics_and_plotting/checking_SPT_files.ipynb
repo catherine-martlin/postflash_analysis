{
 "cells": [
  {
   "cell_type": "code",
   "execution_count": null,
   "id": "joint-destiny",
   "metadata": {},
   "outputs": [],
   "source": [
    "import glob\n",
    "import os\n",
    "import shutil\n",
    "\n",
    "from astropy.io import ascii\n",
    "from astropy.io import fits\n",
    "from astropy.table import Table\n",
    "from astroquery.mast import Observations\n",
    "\n",
    "import numpy as np\n",
    "import pandas as pd"
   ]
  },
  {
   "cell_type": "code",
   "execution_count": null,
   "id": "polar-giant",
   "metadata": {},
   "outputs": [],
   "source": [
    "working_directory = '/Users/cmartlin/Desktop/'\n",
    "filename = 'ieg801wuq_spt.fits'\n",
    "path = working_directory + filename"
   ]
  },
  {
   "cell_type": "code",
   "execution_count": null,
   "id": "blind-upset",
   "metadata": {},
   "outputs": [],
   "source": [
    "test = fits.open(path)\n",
    "test[0].header\n"
   ]
  },
  {
   "cell_type": "code",
   "execution_count": null,
   "id": "national-representation",
   "metadata": {
    "scrolled": false
   },
   "outputs": [],
   "source": [
    "test[1].header"
   ]
  },
  {
   "cell_type": "code",
   "execution_count": null,
   "id": "failing-armenia",
   "metadata": {
    "scrolled": false
   },
   "outputs": [],
   "source": [
    "test[2].header"
   ]
  },
  {
   "cell_type": "code",
   "execution_count": null,
   "id": "proprietary-television",
   "metadata": {},
   "outputs": [],
   "source": []
  }
 ],
 "metadata": {
  "kernelspec": {
   "display_name": "Python 3",
   "language": "python",
   "name": "python3"
  },
  "language_info": {
   "codemirror_mode": {
    "name": "ipython",
    "version": 3
   },
   "file_extension": ".py",
   "mimetype": "text/x-python",
   "name": "python",
   "nbconvert_exporter": "python",
   "pygments_lexer": "ipython3",
   "version": "3.7.6"
  },
  "toc": {
   "base_numbering": 1,
   "nav_menu": {},
   "number_sections": true,
   "sideBar": true,
   "skip_h1_title": false,
   "title_cell": "Table of Contents",
   "title_sidebar": "Contents",
   "toc_cell": false,
   "toc_position": {},
   "toc_section_display": true,
   "toc_window_display": false
  }
 },
 "nbformat": 4,
 "nbformat_minor": 5
}
