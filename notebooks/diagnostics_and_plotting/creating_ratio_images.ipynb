{
 "cells": [
  {
   "cell_type": "code",
   "execution_count": null,
   "id": "4203e3ef",
   "metadata": {},
   "outputs": [],
   "source": [
    "import glob\n",
    "import os\n",
    "\n",
    "from astropy.io import fits\n",
    "import numpy as np\n",
    "import numpy.ma as ma\n",
    "import pandas as pd\n",
    "import matplotlib.pyplot as plt\n",
    "\n",
    "import matplotlib.pyplot as plt\n",
    "from matplotlib.pyplot import figure\n",
    "import numpy as np\n",
    "import pandas as pd\n",
    "\n",
    "plt.rcParams['axes.labelsize'] = 16\n",
    "plt.rcParams['axes.titlesize'] = 16\n",
    "plt.rcParams['xtick.labelsize'] = 14\n",
    "plt.rcParams['ytick.labelsize'] = 14"
   ]
  },
  {
   "cell_type": "markdown",
   "id": "e5db36ff",
   "metadata": {},
   "source": [
    "Notes: Using medium current, fullframe, 0.5 second darks exposed to flash level \n",
    "7310 with Medium current. The filter is irrelevent as the LED source lives \n",
    "behind the shutter and illuminates off the shutter. "
   ]
  },
  {
   "cell_type": "code",
   "execution_count": null,
   "id": "34479642",
   "metadata": {},
   "outputs": [],
   "source": [
    "#cycle20 = fits.getdata('/Volumes/wfc3u/final_postflash_2021/mastDownload/HST/ic6da5qsq/ic6da5qsq_flc.fits')\n",
    "#cycle21 = fits.getdata('/Volumes/wfc3u/final_postflash_2021/mastDownload/HST/ic6dn1h0q/ic6dn1h0q_flc.fits')\n",
    "#cycle29 = fits.getdata('/Volumes/wfc3u/final_postflash_2021/mastDownload/HST/ielu05rmq/ielu05rmq_flc.fits')\n",
    "\n",
    "\n",
    "#ratio_cyc20_29 = cycle29/cycle20\n",
    "#hdu = fits.PrimaryHDU(ratio_cyc20_29)\n",
    "#hdu.writeto('cycle29_to_20_ff_dark.fits', overwrite=True)"
   ]
  },
  {
   "cell_type": "code",
   "execution_count": null,
   "id": "3aa456de",
   "metadata": {},
   "outputs": [],
   "source": [
    "#ref_cycle20 = fits.getdata('/Volumes/wfc3u/final_postflash_2021/notebooks/2012_pf_A_low_curr.fits')\n",
    "#ref_cycle29 = fits.getdata('/Volumes/wfc3u/final_postflash_2021/notebooks/2021_pf_A_low_curr.fits')\n",
    "\n",
    "#ratio_ref_20_29 = ref_cycle29/ref_cycle20"
   ]
  },
  {
   "cell_type": "code",
   "execution_count": null,
   "id": "264430f4",
   "metadata": {},
   "outputs": [],
   "source": [
    "#hdu = fits.PrimaryHDU(ratio_ref_20_29)\n",
    "#hdu.writeto('cycle29_to_20_ref.fits', overwrite=True)"
   ]
  },
  {
   "cell_type": "code",
   "execution_count": null,
   "id": "b3c2d44a",
   "metadata": {},
   "outputs": [],
   "source": [
    "ref_A_low_2021 = fits.getdata('../2022_data/deliverable_reference_files/2021_pf_A_low_curr.fits')\n",
    "ref_A_low_2012 = fits.getdata('../2022_data/deliverable_reference_files/2012_pf_A_low_curr.fits')\n",
    "\n",
    "ratio_ref_2012_2021 = ref_A_low_2021/ref_A_low_2012\n",
    "hdu = fits.PrimaryHDU(ratio_ref_2012_2021)\n",
    "hdu.writeto('2012_2021_low_ref_A.fits', overwrite=True)"
   ]
  },
  {
   "cell_type": "code",
   "execution_count": null,
   "id": "7cdbb46d",
   "metadata": {},
   "outputs": [],
   "source": [
    "ref_A_low_2021 = fits.getdata('../2022_data/deliverable_reference_files/2021_pf_A_low_curr.fits')\n",
    "ref_B_low_2021 = fits.getdata('../2022_data/deliverable_reference_files/2021_pf_B_low_curr.fits')\n",
    "\n",
    "ratio_ref_A_B_2021 = ref_A_low_2021/ref_B_low_2021\n",
    "hdu = fits.PrimaryHDU(ratio_ref_2012_2021)\n",
    "hdu.writeto('2021_low_ref_A_B.fits', overwrite=True)"
   ]
  },
  {
   "cell_type": "code",
   "execution_count": null,
   "id": "6315cbff",
   "metadata": {},
   "outputs": [],
   "source": [
    "ref_A_low_2021 = fits.getdata('../2022_data/deliverable_reference_files/2021_pf_A_low_curr.fits')\n",
    "ref_A_low_2012 = fits.getdata('../2022_data/deliverable_reference_files/2012_pf_A_low_curr.fits')\n",
    "\n",
    "diff_ref_2012_2021 = ref_A_low_2021-ref_A_low_2012\n",
    "hdu = fits.PrimaryHDU(diff_ref_2012_2021)\n",
    "hdu.writeto('2012_2021_low_ref_A_diff.fits', overwrite=True)"
   ]
  },
  {
   "cell_type": "code",
   "execution_count": null,
   "id": "fb13e222",
   "metadata": {},
   "outputs": [],
   "source": [
    "ref_A_low_2021_2 = fits.getdata('../2022_data/deliverable_reference_files/2021_pf_A_low_curr.fits',4)\n",
    "ref_A_low_2012_2 = fits.getdata('../2022_data/deliverable_reference_files/2012_pf_A_low_curr.fits',4)\n",
    "\n",
    "diff_ref_2012_2021 = ref_A_low_2021_2-ref_A_low_2012_2\n",
    "hdu = fits.PrimaryHDU(diff_ref_2012_2021)\n",
    "hdu.writeto('2012_2021_low_ref_A_diff_uvis1.fits', overwrite=True)"
   ]
  },
  {
   "cell_type": "code",
   "execution_count": null,
   "id": "ef2fa12f",
   "metadata": {},
   "outputs": [],
   "source": [
    "plt.figure()\n",
    "plt.imshow(ref_A_low_2021_2, cmap='gray')\n",
    "plt.colorbar()"
   ]
  },
  {
   "cell_type": "code",
   "execution_count": null,
   "id": "4eab3ec1",
   "metadata": {},
   "outputs": [],
   "source": [
    "ref_A_low_2021 = fits.getdata('../2022_data/deliverable_reference_files/2021_pf_A_low_curr.fits',1)\n",
    "ref_A_low_2012 = fits.getdata('../2022_data/deliverable_reference_files/2012_pf_A_low_curr.fits',1)\n",
    "ref_diff_A_low_2021_2012 = fits.getdata('2012_2021_low_ref_A_diff.fits')\n",
    "\n",
    "figure(figsize=(10, 8), dpi=80)\n",
    "\n",
    "plt.hist(ref_A_low_2021.flatten(),alpha=0.5, range=(1,3.5), bins=500, label='2021 Reference File',color='red')\n",
    "plt.hist(ref_A_low_2012.flatten(),alpha=0.5, range=(1,3.5), bins=500, label='2012 Reference File')\n",
    "#plt.hist(ref_diff_A_low_2021_2012.flatten(),alpha=0.5, range=(2,5), bins=500, label='Difference Reference File')\n",
    "plt.xlabel('Counts')\n",
    "plt.ylabel('Number of Pixels')\n",
    "plt.title('UVIS 2 Reference File - Comparing 2012 and 2021')\n",
    "plt.legend()\n",
    "plt.savefig('uvis2_2012_2021_reference_file_low_current_compare_historgram.pdf') "
   ]
  },
  {
   "cell_type": "code",
   "execution_count": null,
   "id": "063fba56",
   "metadata": {},
   "outputs": [],
   "source": [
    "ref_ratio_A_low_2021_2012 = fits.getdata('2012_2021_low_ref_A.fits')\n",
    "\n",
    "figure(figsize=(10, 8), dpi=80)\n",
    "\n",
    "#plt.hist(ref_A_low_2021.flatten(),alpha=0.5, range=(1,3.5), bins=500, label='2021 Reference File',color='red')\n",
    "#plt.hist(ref_A_low_2012.flatten(),alpha=0.5, range=(1,3.5), bins=500, label='2012 Reference File')\n",
    "plt.hist(ref_ratio_A_low_2021_2012.flatten(),alpha=0.5, range=(0.5,1.5), bins=500, label='Ratio Reference File')\n",
    "plt.xlabel('Counts')\n",
    "plt.ylabel('Number of Pixels')\n",
    "plt.title('UVIS 2 Reference File - Comparing 2012 and 2021')\n",
    "plt.legend()\n",
    "plt.savefig('uvis2_2012_2021_reference_file_low_current_ratio.pdf') "
   ]
  },
  {
   "cell_type": "code",
   "execution_count": null,
   "id": "b48a432d",
   "metadata": {},
   "outputs": [],
   "source": [
    "current_A_low_curr = fits.getdata('../2022_data/16819058i_fls.fits',1)\n",
    "\n",
    "ref_A_low_2017 = fits.getdata('../2022_data/deliverable_reference_files/2017_pf_A_low_curr.fits',1)\n",
    "\n",
    "figure(figsize=(10, 8), dpi=80)\n",
    "\n",
    "plt.hist(ref_A_low_2021.flatten(),alpha=0.5, range=(1,3.5), bins=500, label='2021 Reference File',color='red')\n",
    "plt.hist(ref_A_low_2017.flatten(),alpha=0.5, range=(1,3.5), bins=500, label='2017 Reference File')\n",
    "plt.hist(current_A_low_curr.flatten(),alpha=0.5, range=(1,3.5), bins=500, label='Current Reference File')\n",
    "plt.xlabel('Counts')\n",
    "plt.ylabel('Number of Pixels')\n",
    "plt.title('UVIS 2 Reference File - Comparing Current and New Time Dependent Reference Files')\n",
    "plt.legend()\n",
    "plt.savefig('uvis2_current_vs_time_dependent_reference_file_low_current.pdf') "
   ]
  },
  {
   "cell_type": "code",
   "execution_count": null,
   "id": "7a63e3a8",
   "metadata": {},
   "outputs": [],
   "source": [
    "ref_A_low_2021_2 = fits.getdata('../2022_data/deliverable_reference_files/2021_pf_A_low_curr.fits',1)\n",
    "current_low_A = fits.getdata('../2022_data/16819058i_fls.fits',1)\n",
    "\n",
    "ratio_ref_curr_2021 = ref_A_low_2021_2/current_low_A\n",
    "hdu = fits.PrimaryHDU(ratio_ref_curr_2021)\n",
    "hdu.writeto('curr_2021_low_ref_A_uvis2.fits', overwrite=True)"
   ]
  },
  {
   "cell_type": "code",
   "execution_count": null,
   "id": "5811541e",
   "metadata": {},
   "outputs": [],
   "source": [
    "ref_ratio_A_low_2021_curr = fits.getdata('curr_2021_low_ref_A_uvis1_diff.fits')\n",
    "\n",
    "figure(figsize=(10, 8), dpi=80)\n",
    "\n",
    "#plt.hist(ref_A_low_2021.flatten(),alpha=0.5, range=(1,3.5), bins=500, label='2021 Reference File',color='red')\n",
    "#plt.hist(ref_A_low_2012.flatten(),alpha=0.5, range=(1,3.5), bins=500, label='2012 Reference File')\n",
    "plt.hist(ref_ratio_A_low_2021_curr.flatten(),alpha=0.5, range=(-0.25,0), bins=500, label='Ratio Reference File')\n",
    "plt.xlabel('Counts')\n",
    "plt.ylabel('Number of Pixels')\n",
    "plt.title('UVIS 1 Reference File - Comparing Current and 2021')\n",
    "plt.legend()\n",
    "plt.savefig('uvis1_2021_current_ref_low_current_difference.pdf') "
   ]
  },
  {
   "cell_type": "code",
   "execution_count": null,
   "id": "25b4bbe7",
   "metadata": {},
   "outputs": [],
   "source": [
    "im = fits.open('curr_2021_low_ref_A_uvis1.fits')"
   ]
  },
  {
   "cell_type": "code",
   "execution_count": null,
   "id": "3c3a018b",
   "metadata": {},
   "outputs": [],
   "source": [
    "im[1].header"
   ]
  },
  {
   "cell_type": "code",
   "execution_count": null,
   "id": "fd4f6892",
   "metadata": {},
   "outputs": [],
   "source": [
    "current_A_low_curr = fits.getdata('../2022_data/16819058i_fls.fits',1)\n",
    "\n",
    "ref_A_low_2017 = fits.getdata('../2022_data/deliverable_reference_files/2017_pf_A_low_curr.fits',1)\n",
    "\n",
    "figure(figsize=(10, 8), dpi=80)\n",
    "\n",
    "plt.hist(ref_A_low_2021.flatten(),alpha=0.5, range=(1,3.5), bins=500, label='2021 Reference File',color='red')\n",
    "plt.hist(ref_A_low_2017.flatten(),alpha=0.5, range=(1,3.5), bins=500, label='2017 Reference File')\n",
    "plt.hist(current_A_low_curr.flatten(),alpha=0.5, range=(1,3.5), bins=500, label='Current Reference File')\n",
    "plt.xlabel('Counts')\n",
    "plt.ylabel('Number of Pixels')\n",
    "plt.title('UVIS 2 Reference File - Comparing Current and New Time Dependent Reference Files')\n",
    "plt.legend()\n",
    "plt.savefig('uvis2_current_vs_time_dependent_reference_file_low_current.pdf')"
   ]
  },
  {
   "cell_type": "code",
   "execution_count": null,
   "id": "passive-slovakia",
   "metadata": {},
   "outputs": [],
   "source": [
    "current = os.getcwd()\n",
    "base_path = '/Users/cmartlin/Desktop/postflash_analysis/2022_data/deliverable_reference_files/'\n",
    "os.chdir(base_path)\n",
    "\n",
    "for file in glob.glob('2012_pf_A_low_curr.fits'):\n",
    "\thdulist_a1 = fits.open(file)\n",
    "\tdataA1=hdulist_a1[1].data\n",
    "\tdataA4=hdulist_a1[4].data\n",
    "\n",
    "\tall_data=np.concatenate((dataA1,dataA4), axis=0)\n",
    "\t#all_data_norm=all_data/np.mean(all_data)\n",
    "\tout_file='full_not_norm_'+file\n",
    "\tfits.writeto(out_file, all_data)\n",
    "\n",
    "ref_A_low = ('../../2022_data/deliverable_reference_files/2021_pf_A_low_curr.fits')\n",
    "ref_B_low = ('../../2022_data/deliverable_reference_files/2021_pf_B_low_curr.fits')\n",
    "\n",
    "hdulist_A = fits.open(ref_A_low)\n",
    "hdulist_B = fits.open(ref_B_low)\n",
    "data1A=hdulist_A[1].data\n",
    "data4A=hdulist_A[4].data\n",
    "data1B=hdulist_B[1].data\n",
    "data4B=hdulist_B[1].data\n",
    "\n",
    "all_data_A=np.concatenate((data1A,data4A), axis=0)\n",
    "print(all_data_A)\n",
    "all_data_B=np.concatenate((data1B,data4B),axis=0)\n",
    "#all_data_norm=all_data/np.mean(all_data)\n",
    "ratio_ref_A_B = all_data_A/all_data_B\n",
    "print(ratio_ref_A_B)\n",
    "out_file=\"2021_low_A_B_ratio.fits\"\n",
    "fits.writeto(out_file, ratio_ref_A_B)"
   ]
  }
 ],
 "metadata": {
  "kernelspec": {
   "display_name": "Python 3",
   "language": "python",
   "name": "python3"
  },
  "language_info": {
   "codemirror_mode": {
    "name": "ipython",
    "version": 3
   },
   "file_extension": ".py",
   "mimetype": "text/x-python",
   "name": "python",
   "nbconvert_exporter": "python",
   "pygments_lexer": "ipython3",
   "version": "3.6.12"
  },
  "toc": {
   "base_numbering": 1,
   "nav_menu": {},
   "number_sections": true,
   "sideBar": true,
   "skip_h1_title": false,
   "title_cell": "Table of Contents",
   "title_sidebar": "Contents",
   "toc_cell": false,
   "toc_position": {},
   "toc_section_display": true,
   "toc_window_display": false
  }
 },
 "nbformat": 4,
 "nbformat_minor": 5
}
