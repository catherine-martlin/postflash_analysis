{
 "cells": [
  {
   "cell_type": "code",
   "execution_count": null,
   "id": "4203e3ef",
   "metadata": {},
   "outputs": [],
   "source": [
    "import glob\n",
    "import os\n",
    "\n",
    "from astropy.io import fits\n",
    "from astropy.table import Table, hstack\n",
    "import numpy as np\n",
    "import numpy.ma as ma\n",
    "import pandas as pd\n",
    "import matplotlib.pyplot as plt\n",
    "\n",
    "import matplotlib.pyplot as plt\n",
    "from matplotlib.pyplot import figure\n",
    "import numpy as np\n",
    "import pandas as pd\n",
    "\n",
    "plt.rcParams['axes.labelsize'] = 16\n",
    "plt.rcParams['axes.titlesize'] = 16\n",
    "plt.rcParams['xtick.labelsize'] = 14\n",
    "plt.rcParams['ytick.labelsize'] = 14"
   ]
  },
  {
   "cell_type": "markdown",
   "id": "e5db36ff",
   "metadata": {},
   "source": [
    "Notes: Using medium current, fullframe, 0.5 second darks exposed to flash level \n",
    "7310 with Medium current. The filter is irrelevent as the LED source lives \n",
    "behind the shutter and illuminates off the shutter. "
   ]
  },
  {
   "cell_type": "code",
   "execution_count": null,
   "id": "34479642",
   "metadata": {},
   "outputs": [],
   "source": [
    "#cycle20 = fits.getdata('/Volumes/wfc3u/final_postflash_2021/mastDownload/HST/ic6da5qsq/ic6da5qsq_flc.fits')\n",
    "#cycle21 = fits.getdata('/Volumes/wfc3u/final_postflash_2021/mastDownload/HST/ic6dn1h0q/ic6dn1h0q_flc.fits')\n",
    "#cycle29 = fits.getdata('/Volumes/wfc3u/final_postflash_2021/mastDownload/HST/ielu05rmq/ielu05rmq_flc.fits')\n",
    "\n",
    "\n",
    "#ratio_cyc20_29 = cycle29/cycle20\n",
    "#hdu = fits.PrimaryHDU(ratio_cyc20_29)\n",
    "#hdu.writeto('cycle29_to_20_ff_dark.fits', overwrite=True)"
   ]
  },
  {
   "cell_type": "code",
   "execution_count": null,
   "id": "3aa456de",
   "metadata": {},
   "outputs": [],
   "source": [
    "#ref_cycle20 = fits.getdata('/Volumes/wfc3u/final_postflash_2021/notebooks/2012_pf_A_low_curr.fits')\n",
    "#ref_cycle29 = fits.getdata('/Volumes/wfc3u/final_postflash_2021/notebooks/2021_pf_A_low_curr.fits')\n",
    "\n",
    "#ratio_ref_20_29 = ref_cycle29/ref_cycle20"
   ]
  },
  {
   "cell_type": "code",
   "execution_count": null,
   "id": "264430f4",
   "metadata": {},
   "outputs": [],
   "source": [
    "#hdu = fits.PrimaryHDU(ratio_ref_20_29)\n",
    "#hdu.writeto('cycle29_to_20_ref.fits', overwrite=True)"
   ]
  },
  {
   "cell_type": "markdown",
   "id": "former-supervision",
   "metadata": {},
   "source": [
    "Making fits images of the reference files with both chips:"
   ]
  },
  {
   "cell_type": "code",
   "execution_count": null,
   "id": "angry-loading",
   "metadata": {},
   "outputs": [],
   "source": [
    "ref_A_low_2021_uvis2 = fits.getdata('../../2022_data/deliverable_reference_files/2021_pf_A_low_curr.fits',1)\n",
    "ref_A_low_2021_uvis1 = fits.getdata('../../2022_data/deliverable_reference_files/2021_pf_A_low_curr.fits',4)\n",
    "\n",
    "both_chips = np.vstack((ref_A_low_2021_uvis1, ref_A_low_2021_uvis2))\n",
    "print(both_chips.shape)\n",
    "\n",
    "hdu = fits.PrimaryHDU(both_chips)\n",
    "hdu.writeto('2021_low_ref_A_all_uvis.fits', overwrite=True)"
   ]
  },
  {
   "cell_type": "code",
   "execution_count": null,
   "id": "skilled-header",
   "metadata": {},
   "outputs": [],
   "source": [
    "ref_A_low_2012_uvis2 = fits.getdata('../../2022_data/deliverable_reference_files/2012_pf_A_low_curr.fits',1)\n",
    "ref_A_low_2012_uvis1 = fits.getdata('../../2022_data/deliverable_reference_files/2012_pf_A_low_curr.fits',4)\n",
    "\n",
    "both_chips = np.vstack((ref_A_low_2012_uvis1, ref_A_low_2012_uvis2))\n",
    "print(both_chips.shape)\n",
    "\n",
    "hdu = fits.PrimaryHDU(both_chips)\n",
    "hdu.writeto('2012_low_ref_A_all_uvis.fits', overwrite=True)"
   ]
  },
  {
   "cell_type": "code",
   "execution_count": null,
   "id": "engaged-reason",
   "metadata": {},
   "outputs": [],
   "source": [
    "original_ref_uvis2 = fits.getdata('../../2022_data/16819058i_fls.fits',1)\n",
    "original_ref_uvis1 = fits.getdata('../../2022_data/16819058i_fls.fits',4)\n",
    "\n",
    "both_chips = np.vstack((original_ref_uvis1, original_ref_uvis2))\n",
    "print(both_chips.shape)\n",
    "\n",
    "hdu = fits.PrimaryHDU(both_chips)\n",
    "hdu.writeto('original_ref_low_ref_A_all_uvis.fits', overwrite=True)"
   ]
  },
  {
   "cell_type": "markdown",
   "id": "formal-score",
   "metadata": {},
   "source": [
    "Making a ratio and difference image from the 2012 and 2021 ref files: "
   ]
  },
  {
   "cell_type": "code",
   "execution_count": null,
   "id": "b3c2d44a",
   "metadata": {},
   "outputs": [],
   "source": [
    "ref_A_low_2021 = fits.getdata('../../2022_data/deliverable_reference_files/2021_pf_A_low_curr.fits',1)\n",
    "ref_A_low_2012 = fits.getdata('../../2022_data/deliverable_reference_files/2012_pf_A_low_curr.fits',1)\n",
    "\n",
    "ratio_ref_2012_2021_uvis2 = ref_A_low_2021/ref_A_low_2012\n",
    "hdu = fits.PrimaryHDU(ratio_ref_2012_2021)\n",
    "hdu.writeto('2012_2021_low_ref_A_uvis2.fits', overwrite=True)\n",
    "\n",
    "ref_A_low_2021_4 = fits.getdata('../../2022_data/deliverable_reference_files/2021_pf_A_low_curr.fits',4)\n",
    "ref_A_low_2012_4 = fits.getdata('../../2022_data/deliverable_reference_files/2012_pf_A_low_curr.fits',4)\n",
    "\n",
    "ratio_ref_2012_2021_uvis1 = ref_A_low_2021_4/ref_A_low_2012_4\n",
    "hdu = fits.PrimaryHDU(ratio_ref_2012_2021_uvis1)\n",
    "hdu.writeto('2012_2021_low_ref_A_uvis1.fits', overwrite=True)\n",
    "\n",
    "both_chips = np.vstack((ratio_ref_2012_2021_uvis1, ratio_ref_2012_2021_uvis2))\n",
    "\n",
    "both_chips.shape\n",
    "\n",
    "hdu = fits.PrimaryHDU(both_chips)\n",
    "hdu.writeto('2012_2021_low_ref_A_ratio_all_uvis.fits', overwrite=True)"
   ]
  },
  {
   "cell_type": "code",
   "execution_count": null,
   "id": "7cdbb46d",
   "metadata": {},
   "outputs": [],
   "source": [
    "ref_A_low_2021 = fits.getdata('../../2022_data/deliverable_reference_files/2021_pf_A_low_curr.fits')\n",
    "ref_B_low_2021 = fits.getdata('../../2022_data/deliverable_reference_files/2021_pf_B_low_curr.fits')\n",
    "\n",
    "ratio_ref_A_B_2021 = ref_A_low_2021/ref_B_low_2021\n",
    "hdu = fits.PrimaryHDU(ratio_ref_2012_2021)\n",
    "hdu.writeto('2021_low_ref_A_B.fits', overwrite=True)"
   ]
  },
  {
   "cell_type": "code",
   "execution_count": null,
   "id": "6315cbff",
   "metadata": {},
   "outputs": [],
   "source": [
    "ref_A_low_2021 = fits.getdata('../../2022_data/deliverable_reference_files/2021_pf_A_low_curr.fits',1)\n",
    "ref_A_low_2012 = fits.getdata('../../2022_data/deliverable_reference_files/2012_pf_A_low_curr.fits',1)\n",
    "\n",
    "diff_ref_2012_2021_uvis2 = ref_A_low_2021-ref_A_low_2012\n",
    "hdu = fits.PrimaryHDU(diff_ref_2012_2021)\n",
    "hdu.writeto('2012_2021_low_ref_A_diff_uvis2.fits', overwrite=True)\n",
    "\n",
    "ref_A_low_2021_2 = fits.getdata('../../2022_data/deliverable_reference_files/2021_pf_A_low_curr.fits',4)\n",
    "ref_A_low_2012_2 = fits.getdata('../../2022_data/deliverable_reference_files/2012_pf_A_low_curr.fits',4)\n",
    "\n",
    "diff_ref_2012_2021_uvis1 = ref_A_low_2021_2-ref_A_low_2012_2\n",
    "hdu = fits.PrimaryHDU(diff_ref_2012_2021)\n",
    "hdu.writeto('2012_2021_low_ref_A_diff_uvis1.fits', overwrite=True) \n",
    "\n",
    "diff_ref_2012_2021_uvis2.shape\n",
    "diff_ref_2012_2021_uvis1.shape\n",
    "\n",
    "both_chips = np.vstack((diff_ref_2012_2021_uvis1, diff_ref_2012_2021_uvis2))\n",
    "\n",
    "both_chips.shape\n",
    "\n",
    "hdu = fits.PrimaryHDU(both_chips)\n",
    "hdu.writeto('2012_2021_low_ref_A_diff_all_uvis.fits', overwrite=True)"
   ]
  },
  {
   "cell_type": "code",
   "execution_count": null,
   "id": "productive-authority",
   "metadata": {},
   "outputs": [],
   "source": []
  },
  {
   "cell_type": "code",
   "execution_count": null,
   "id": "4eab3ec1",
   "metadata": {},
   "outputs": [],
   "source": [
    "ref_A_low_2021 = fits.getdata('../../2022_data/deliverable_reference_files/2021_pf_A_low_curr.fits',1)\n",
    "ref_A_low_2012 = fits.getdata('../../2022_data/deliverable_reference_files/2012_pf_A_low_curr.fits',1)\n",
    "ref_diff_A_low_2021_2012 = fits.getdata('2012_2021_low_ref_A_diff.fits')\n",
    "\n",
    "figure(figsize=(10, 8), dpi=80)\n",
    "\n",
    "plt.hist(ref_A_low_2021.flatten(),alpha=0.5, range=(1,3.5), bins=500, label='2021 Reference File',color='red')\n",
    "plt.hist(ref_A_low_2012.flatten(),alpha=0.5, range=(1,3.5), bins=500, label='2012 Reference File')\n",
    "#plt.hist(ref_diff_A_low_2021_2012.flatten(),alpha=0.5, range=(2,5), bins=500, label='Difference Reference File')\n",
    "plt.xlabel('Counts')\n",
    "plt.ylabel('Number of Pixels')\n",
    "plt.title('UVIS 2 Reference File - Comparing 2012 and 2021')\n",
    "plt.legend()\n",
    "plt.savefig('uvis2_2012_2021_reference_file_low_current_compare_historgram.pdf') "
   ]
  },
  {
   "cell_type": "code",
   "execution_count": null,
   "id": "063fba56",
   "metadata": {},
   "outputs": [],
   "source": [
    "ref_ratio_A_low_2021_2012 = fits.getdata('2012_2021_low_ref_A.fits')\n",
    "\n",
    "figure(figsize=(10, 8), dpi=80)\n",
    "\n",
    "#plt.hist(ref_A_low_2021.flatten(),alpha=0.5, range=(1,3.5), bins=500, label='2021 Reference File',color='red')\n",
    "#plt.hist(ref_A_low_2012.flatten(),alpha=0.5, range=(1,3.5), bins=500, label='2012 Reference File')\n",
    "plt.hist(ref_ratio_A_low_2021_2012.flatten(),alpha=0.5, range=(0.5,1.5), bins=500, label='Ratio Reference File')\n",
    "plt.xlabel('Counts')\n",
    "plt.ylabel('Number of Pixels')\n",
    "plt.title('UVIS 2 Reference File - Comparing 2012 and 2021')\n",
    "plt.legend()\n",
    "plt.savefig('uvis2_2012_2021_reference_file_low_current_ratio.pdf') "
   ]
  },
  {
   "cell_type": "code",
   "execution_count": null,
   "id": "b48a432d",
   "metadata": {},
   "outputs": [],
   "source": [
    "ref_A_low_2021 = fits.getdata('../../2022_data/deliverable_reference_files/2021_pf_A_low_curr.fits',1)\n",
    "ref_A_low_original = fits.getdata('../../2022_data/16819058i_fls.fits',1)\n",
    "\n",
    "diff_ref_orig_2021_uvis2 = ref_A_low_2021-ref_A_low_original\n",
    "hdu = fits.PrimaryHDU(diff_ref_orig_2021_uvis2)\n",
    "hdu.writeto('original_2021_low_ref_A_diff_uvis2.fits', overwrite=True)\n",
    "\n",
    "ref_A_low_2021_2 = fits.getdata('../../2022_data/deliverable_reference_files/2021_pf_A_low_curr.fits',4)\n",
    "ref_A_low_orig_2 = fits.getdata('../../2022_data/16819058i_fls.fits',4)\n",
    "\n",
    "diff_ref_orig_2021_uvis1 = ref_A_low_2021_2-ref_A_low_orig_2\n",
    "hdu = fits.PrimaryHDU(diff_ref_orig_2021_uvis1)\n",
    "hdu.writeto('original_2021_low_ref_A_diff_uvis1.fits', overwrite=True) \n",
    "\n",
    "diff_ref_2012_2021_uvis2.shape\n",
    "diff_ref_2012_2021_uvis1.shape\n",
    "\n",
    "both_chips = np.vstack((diff_ref_orig_2021_uvis1, diff_ref_orig_2021_uvis2))\n",
    "\n",
    "both_chips.shape\n",
    "\n",
    "hdu = fits.PrimaryHDU(both_chips)\n",
    "hdu.writeto('original_2021_low_ref_A_diff_all_uvis.fits', overwrite=True)"
   ]
  },
  {
   "cell_type": "code",
   "execution_count": null,
   "id": "7a63e3a8",
   "metadata": {},
   "outputs": [],
   "source": [
    "ref_A_low_2021 = fits.getdata('../../2022_data/deliverable_reference_files/2021_pf_A_low_curr.fits',1)\n",
    "ref_A_low_original = fits.getdata('../../2022_data/16819058i_fls.fits',1)\n",
    "\n",
    "ratio_ref_orig_2021_uvis2 = ref_A_low_2021/ref_A_low_original\n",
    "hdu = fits.PrimaryHDU(ratio_ref_orig_2021_uvis2)\n",
    "hdu.writeto('original_2021_low_ref_A_ratio_uvis2.fits', overwrite=True)\n",
    "\n",
    "ref_A_low_2021_2 = fits.getdata('../../2022_data/deliverable_reference_files/2021_pf_A_low_curr.fits',4)\n",
    "ref_A_low_orig_2 = fits.getdata('../../2022_data/16819058i_fls.fits',4)\n",
    "\n",
    "ratio_ref_orig_2021_uvis1 = ref_A_low_2021_2/ref_A_low_orig_2\n",
    "hdu = fits.PrimaryHDU(ratio_ref_orig_2021_uvis1)\n",
    "hdu.writeto('original_2021_low_ref_A_ratio_uvis1.fits', overwrite=True) \n",
    "\n",
    "both_chips = np.vstack((ratio_ref_orig_2021_uvis1, ratio_ref_orig_2021_uvis2))\n",
    "\n",
    "both_chips.shape\n",
    "\n",
    "hdu = fits.PrimaryHDU(both_chips)\n",
    "hdu.writeto('original_2021_low_ref_A_ratio_all_uvis.fits', overwrite=True)"
   ]
  },
  {
   "cell_type": "code",
   "execution_count": null,
   "id": "5811541e",
   "metadata": {},
   "outputs": [],
   "source": [
    "ref_A_low_2021_curr = fits.getdata('original_2021_low_ref_A_diff_all_uvis.fits')\n",
    "\n",
    "figure(figsize=(10, 8), dpi=80)\n",
    "\n",
    "#plt.hist(ref_A_low_2021.flatten(),alpha=0.5, range=(1,3.5), bins=500, label='2021 Reference File',color='red')\n",
    "#plt.hist(ref_A_low_2012.flatten(),alpha=0.5, range=(1,3.5), bins=500, label='2012 Reference File')\n",
    "plt.hist(ref_A_low_2021_curr.flatten(),alpha=0.5, range=(-0.10,-0.001), bins=500, label='Difference Reference File')\n",
    "plt.xlabel('Counts')\n",
    "plt.ylabel('Number of Pixels')\n",
    "plt.title('All UVIS Reference File - Comparing Current and 2021')\n",
    "plt.legend()\n",
    "plt.savefig('all_uvis_2021_current_ref_low_current_difference.pdf') "
   ]
  },
  {
   "cell_type": "code",
   "execution_count": null,
   "id": "25b4bbe7",
   "metadata": {},
   "outputs": [],
   "source": [
    "ref_A_low_2021_2012 = fits.getdata('2012_2021_low_ref_A_diff_all_uvis.fits')\n",
    "ref_A_low_2021_curr = fits.getdata('original_2021_low_ref_A_diff_all_uvis.fits')\n",
    "\n",
    "figure(figsize=(10, 8), dpi=80)\n",
    "\n",
    "#plt.hist(ref_A_low_2021.flatten(),alpha=0.5, range=(1,3.5), bins=500, label='2021 Reference File',color='red')\n",
    "plt.hist(ref_A_low_2021_curr.flatten(),alpha=0.5, range=(-0.10,-0.001), bins=500, label='Difference 2021-original Reference File')\n",
    "plt.hist(ref_A_low_2021_2012.flatten(),alpha=0.5, range=(-0.10,-0.001), bins=500, label='Difference 2021-2012 Reference File')\n",
    "plt.xlabel('Counts')\n",
    "plt.ylabel('Number of Pixels')\n",
    "plt.title('All UVIS Reference File')\n",
    "plt.legend()\n",
    "plt.savefig('all_uvis_2021_2012_and_original_ref_low_current_difference.pdf') "
   ]
  },
  {
   "cell_type": "code",
   "execution_count": null,
   "id": "swiss-essay",
   "metadata": {},
   "outputs": [],
   "source": [
    "ref_A_low_2021_2012 = fits.getdata('2012_2021_low_ref_A_diff_all_uvis.fits')\n",
    "\n",
    "figure(figsize=(10, 8), dpi=80)\n",
    "\n",
    "#plt.hist(ref_A_low_2021.flatten(),alpha=0.5, range=(1,3.5), bins=500, label='2021 Reference File',color='red')\n",
    "#plt.hist(ref_A_low_2012.flatten(),alpha=0.5, range=(1,3.5), bins=500, label='2012 Reference File')\n",
    "plt.hist(ref_A_low_2021_2012.flatten(),alpha=0.5, range=(-0.10,-0.001), bins=500, label='Difference Reference File')\n",
    "plt.xlabel('Counts')\n",
    "plt.ylabel('Number of Pixels')\n",
    "plt.title('All UVIS Reference File - Comparing 2012 and 2021')\n",
    "plt.legend()\n",
    "plt.savefig('all_uvis_2021_2012_ref_low_current_difference.pdf') "
   ]
  },
  {
   "cell_type": "code",
   "execution_count": null,
   "id": "3c3a018b",
   "metadata": {},
   "outputs": [],
   "source": [
    "ref_A_low_2021_curr = fits.getdata('original_2021_low_ref_A_ratio_all_uvis.fits')\n",
    "\n",
    "figure(figsize=(10, 8), dpi=80)\n",
    "\n",
    "#plt.hist(ref_A_low_2021.flatten(),alpha=0.5, range=(1,3.5), bins=500, label='2021 Reference File',color='red')\n",
    "#plt.hist(ref_A_low_2012.flatten(),alpha=0.5, range=(1,3.5), bins=500, label='2012 Reference File')\n",
    "plt.hist(ref_A_low_2021_curr.flatten(),alpha=0.5, range=(0.95,1), bins=500, label='Ratio Reference File')\n",
    "plt.xlabel('Counts')\n",
    "plt.ylabel('Number of Pixels')\n",
    "plt.title('All UVIS Reference File - Comparing Current and 2021')\n",
    "plt.legend()\n",
    "plt.savefig('all_uvis_2021_current_ref_low_current_ratio.pdf')"
   ]
  },
  {
   "cell_type": "code",
   "execution_count": null,
   "id": "fd4f6892",
   "metadata": {
    "scrolled": true
   },
   "outputs": [],
   "source": [
    "ref_A_low_2021_2012 = fits.getdata('2012_2021_low_ref_A_ratio_all_uvis.fits')\n",
    "\n",
    "figure(figsize=(10, 8), dpi=80)\n",
    "\n",
    "#plt.hist(ref_A_low_2021.flatten(),alpha=0.5, range=(1,3.5), bins=500, label='2021 Reference File',color='red')\n",
    "#plt.hist(ref_A_low_2012.flatten(),alpha=0.5, range=(1,3.5), bins=500, label='2012 Reference File')\n",
    "plt.hist(ref_A_low_2021_2012.flatten(),alpha=0.5, range=(0.95,1), bins=500, label='Ratio Reference File')\n",
    "plt.xlabel('Counts')\n",
    "plt.ylabel('Number of Pixels')\n",
    "plt.title('All UVIS Reference File - Comparing 2012 and 2021')\n",
    "plt.legend()\n",
    "plt.savefig('all_uvis_2021_2012_ref_low_current_ratio.pdf')"
   ]
  },
  {
   "cell_type": "code",
   "execution_count": null,
   "id": "economic-draft",
   "metadata": {
    "scrolled": true
   },
   "outputs": [],
   "source": [
    "ref_A_low_2021_2012 = fits.getdata('2012_2021_low_ref_A_ratio_all_uvis.fits')\n",
    "ref_A_low_2021_curr = fits.getdata('original_2021_low_ref_A_ratio_all_uvis.fits')\n",
    "\n",
    "\n",
    "figure(figsize=(10, 8), dpi=80)\n",
    "\n",
    "#plt.hist(ref_A_low_2021.flatten(),alpha=0.5, range=(1,3.5), bins=500, label='2021 Reference File',color='red')\n",
    "plt.hist(ref_A_low_2021_curr.flatten(),alpha=0.5, range=(0.95,1), bins=500, label='Ratio 2021/Original Reference File')\n",
    "plt.hist(ref_A_low_2021_2012.flatten(),alpha=0.5, range=(0.95,1), bins=500, label='Ratio 2021/2012 Reference File')\n",
    "plt.xlabel('Counts')\n",
    "plt.ylabel('Number of Pixels')\n",
    "plt.title('All UVIS Reference File')\n",
    "plt.legend()\n",
    "plt.savefig('all_uvis_2021_2012_and_original_ref_low_current_ratio.pdf')"
   ]
  },
  {
   "cell_type": "code",
   "execution_count": null,
   "id": "fatal-valley",
   "metadata": {},
   "outputs": [],
   "source": [
    "ref_A_low_2021_2020 = fits.getdata('2012_2021_low_ref_A_diff_all_uvis.fits')\n",
    "ref_A_low_2021_curr = fits.getdata('original_2021_low_ref_A_diff_all_uvis.fits')\n",
    "\n",
    "figure(figsize=(10, 8), dpi=80)\n",
    "\n",
    "#plt.hist(ref_A_low_2021.flatten(),alpha=0.5, range=(1,3.5), bins=500, label='2021 Reference File',color='red')\n",
    "plt.hist(ref_A_low_2021_curr.flatten(),alpha=0.5, range=(-0.10,-0.001), bins=500, label='Difference 2021-original Reference File')\n",
    "plt.hist(ref_A_low_2021_2012.flatten(),alpha=0.5, range=(-0.10,-0.001), bins=500, label='Difference 2021-2012 Reference File')\n",
    "plt.xlabel('Counts')\n",
    "plt.ylabel('Number of Pixels')\n",
    "plt.title('All UVIS Reference File')\n",
    "plt.legend()\n",
    "plt.savefig('all_uvis_2021_2012_and_original_ref_low_current_difference.pdf')"
   ]
  },
  {
   "cell_type": "code",
   "execution_count": null,
   "id": "passive-slovakia",
   "metadata": {},
   "outputs": [],
   "source": [
    "ref_A_low_2021 = '../../2022_data/deliverable_reference_files/2021_pf_A_low_curr.fits'\n",
    "ref_A_low_2020 = '../../2022_data/deliverable_reference_files/2020_pf_A_low_curr.fits'\n",
    "output_file = '2020_2021_low_ref_A'\n",
    "\n",
    "\n",
    "def ratio_two_ref(ref1, ref2, output_file):\n",
    "    ref1_uvis2 = fits.getdata(ref1, 1)\n",
    "    ref2_uvis2 = fits.getdata(ref2, 1)\n",
    "\n",
    "    ratio_ref_uvis2 = ref1_uvis2/ref2_uvis2\n",
    "    hdu = fits.PrimaryHDU(ratio_ref_uvis2)\n",
    "    output_uvis2 = output_file + '_ratio_uvis2.fits'\n",
    "    hdu.writeto(output_uvis2, overwrite=True)\n",
    "\n",
    "    ref1_uvis1 = fits.getdata(ref1, 4)\n",
    "    ref2_uvis1 = fits.getdata(ref2, 4)\n",
    "    \n",
    "    ratio_ref_uvis1 = ref1_uvis1/ref2_uvis1\n",
    "    hdu = fits.PrimaryHDU(ratio_ref_uvis1)\n",
    "    output_uvis1 = output_file + '_ratio_uvis1.fits'\n",
    "    hdu.writeto(output_uvis1, overwrite=True)\n",
    "    \n",
    "    both_chips = np.vstack((ratio_ref_uvis1, ratio_ref_uvis2))\n",
    "\n",
    "    both_chips.shape\n",
    "\n",
    "    hdu = fits.PrimaryHDU(both_chips)\n",
    "    output_both = output_file + '_ratio_all_uvis.fits'\n",
    "    hdu.writeto(output_both, overwrite=True)\n",
    "    \n",
    "ratio_two_ref(ref_A_low_2021, ref_A_low_2020, output_file)"
   ]
  },
  {
   "cell_type": "code",
   "execution_count": null,
   "id": "pregnant-sunrise",
   "metadata": {},
   "outputs": [],
   "source": [
    "ref_A_low_2021_2012 = fits.getdata('2012_2021_low_ref_A_ratio_all_uvis.fits')\n",
    "ref_A_low_2021_curr = fits.getdata('original_2021_low_ref_A_ratio_all_uvis.fits')\n",
    "ref_A_low_2021_2020 = fits.getdata('2020_2021_low_ref_A_all_uvis.fits')\n",
    "\n",
    "\n",
    "figure(figsize=(10, 8), dpi=80)\n",
    "\n",
    "plt.hist(ref_A_low_2021_2020.flatten(),alpha=0.5, range=(0.+95,1.02), bins=500, label='Ratio 2021/2020 Reference Filee',color='red')\n",
    "plt.hist(ref_A_low_2021_curr.flatten(),alpha=0.5, range=(0.95,1.02), bins=500, label='Ratio 2021/Original Reference File')\n",
    "plt.hist(ref_A_low_2021_2012.flatten(),alpha=0.5, range=(0.95,1.02), bins=500, label='Ratio 2021/2012 Reference File')\n",
    "plt.xlabel('Counts')\n",
    "plt.ylabel('Number of Pixels')\n",
    "plt.title('All UVIS Reference File')\n",
    "plt.legend()\n",
    "plt.savefig('all_uvis_2021_2012_2020_and_original_ref_low_current_ratio.pdf')"
   ]
  },
  {
   "cell_type": "code",
   "execution_count": null,
   "id": "outer-chocolate",
   "metadata": {},
   "outputs": [],
   "source": [
    "ref_A_low_2021 = '../../2022_data/deliverable_reference_files/2021_pf_A_low_curr.fits'\n",
    "ref_A_low_2020 = '../../2022_data/deliverable_reference_files/2020_pf_A_low_curr.fits'\n",
    "output_file = '2020_2021_low_ref_A'\n",
    "\n",
    "\n",
    "def diff_two_ref(ref1, ref2, output_file):\n",
    "    ref1_uvis2 = fits.getdata(ref1, 1)\n",
    "    ref2_uvis2 = fits.getdata(ref2, 1)\n",
    "\n",
    "    diff_ref_uvis2 = ref1_uvis2-ref2_uvis2\n",
    "    hdu = fits.PrimaryHDU(diff_ref_uvis2)\n",
    "    output_uvis2 = output_file + '_diff_uvis2.fits'\n",
    "    hdu.writeto(output_uvis2, overwrite=True)\n",
    "\n",
    "    ref1_uvis1 = fits.getdata(ref1, 4)\n",
    "    ref2_uvis1 = fits.getdata(ref2, 4)\n",
    "    \n",
    "    diff_ref_uvis1 = ref1_uvis1-ref2_uvis1\n",
    "    hdu = fits.PrimaryHDU(diff_ref_uvis1)\n",
    "    output_uvis1 = output_file + '_diff_uvis1.fits'\n",
    "    hdu.writeto(output_uvis1, overwrite=True)\n",
    "    \n",
    "    both_chips = np.vstack((diff_ref_uvis1, diff_ref_uvis2))\n",
    "\n",
    "    both_chips.shape\n",
    "\n",
    "    hdu = fits.PrimaryHDU(both_chips)\n",
    "    output_both = output_file + '_diff_all_uvis.fits'\n",
    "    hdu.writeto(output_both, overwrite=True)\n",
    "    \n",
    "diff_two_ref(ref_A_low_2021, ref_A_low_2020, output_file)"
   ]
  },
  {
   "cell_type": "code",
   "execution_count": null,
   "id": "fleet-split",
   "metadata": {},
   "outputs": [],
   "source": [
    "ref_A_low_2021_2012 = fits.getdata('2012_2021_low_ref_A_diff_all_uvis.fits')\n",
    "ref_A_low_2021_curr = fits.getdata('original_2021_low_ref_A_diff_all_uvis.fits')\n",
    "ref_A_low_2021_2020 = fits.getdata('2020_2021_low_ref_A_diff_all_uvis.fits')\n",
    "\n",
    "figure(figsize=(10, 8), dpi=80)\n",
    "\n",
    "plt.hist(ref_A_low_2021_2020.flatten(),alpha=0.5, range=(-0.10,0.025), bins=500, label='Difference 2021-2020 Reference File',color='red')\n",
    "plt.hist(ref_A_low_2021_curr.flatten(),alpha=0.5, range=(-0.10,0.025), bins=500, label='Difference 2021-original Reference File')\n",
    "plt.hist(ref_A_low_2021_2012.flatten(),alpha=0.5, range=(-0.10,0.025), bins=500, label='Difference 2021-2012 Reference File')\n",
    "plt.xlabel('Counts')\n",
    "plt.ylabel('Number of Pixels')\n",
    "plt.title('All UVIS Reference File')\n",
    "plt.legend()\n",
    "plt.savefig('all_uvis_2021_2012_2020_and_original_ref_low_current_difference.pdf')"
   ]
  },
  {
   "cell_type": "code",
   "execution_count": null,
   "id": "warming-wheel",
   "metadata": {},
   "outputs": [],
   "source": []
  }
 ],
 "metadata": {
  "kernelspec": {
   "display_name": "Python 3",
   "language": "python",
   "name": "python3"
  },
  "language_info": {
   "codemirror_mode": {
    "name": "ipython",
    "version": 3
   },
   "file_extension": ".py",
   "mimetype": "text/x-python",
   "name": "python",
   "nbconvert_exporter": "python",
   "pygments_lexer": "ipython3",
   "version": "3.6.12"
  },
  "toc": {
   "base_numbering": 1,
   "nav_menu": {},
   "number_sections": true,
   "sideBar": true,
   "skip_h1_title": false,
   "title_cell": "Table of Contents",
   "title_sidebar": "Contents",
   "toc_cell": false,
   "toc_position": {},
   "toc_section_display": true,
   "toc_window_display": false
  }
 },
 "nbformat": 4,
 "nbformat_minor": 5
}
