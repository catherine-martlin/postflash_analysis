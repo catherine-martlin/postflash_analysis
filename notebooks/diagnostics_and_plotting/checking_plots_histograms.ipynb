{
 "cells": [
  {
   "cell_type": "code",
   "execution_count": null,
   "id": "a7fb36e7",
   "metadata": {},
   "outputs": [],
   "source": [
    "import glob\n",
    "import os\n",
    "import shutil\n",
    "\n",
    "from astropy import units as u\n",
    "from astropy.io import fits\n",
    "from astropy.nddata import Cutout2D\n",
    "from bokeh.io import output_file, output_notebook\n",
    "from bokeh.plotting import figure, show\n",
    "from bokeh.models import ColumnDataSource, Range1d\n",
    "from bokeh.layouts import row, column, gridplot\n",
    "from bokeh.models.widgets import Tabs, Panel\n",
    "import matplotlib.pyplot as plt\n",
    "from matplotlib.pyplot import figure\n",
    "import numpy as np\n",
    "import pandas as pd\n",
    "\n",
    "\n",
    "# Determine where the visualization will be rendered\n",
    "output_notebook()\n",
    "\n",
    "plt.rcParams['axes.labelsize'] = 16\n",
    "plt.rcParams['axes.titlesize'] = 16\n",
    "plt.rcParams['xtick.labelsize'] = 14\n",
    "plt.rcParams['ytick.labelsize'] = 14"
   ]
  },
  {
   "cell_type": "code",
   "execution_count": null,
   "id": "39e5f535",
   "metadata": {},
   "outputs": [],
   "source": [
    "## Define all Paths here: \n",
    "biyearly_ref = '../../testing_files_biyearly/2012_2013_A_final_cal.fits'\n",
    "current_ref = '../2022_data/16819058i_fls.fits'\n",
    "yearly_ref = '../2022_data/deliverable_reference_files/2012_pf_A_low_curr.fits'\n"
   ]
  },
  {
   "cell_type": "code",
   "execution_count": null,
   "id": "b95f860c",
   "metadata": {},
   "outputs": [],
   "source": [
    "ref_biyearly = fits.getdata(biyearly_ref,1)\n",
    "ref_curr = fits.getdata(current_ref,1)\n",
    "ref_yearly = fits.getdata(yearly_ref,1)\n",
    "\n",
    "figure(figsize=(10, 8), dpi=80)\n",
    "\n",
    "plt.hist(ref_biyearly.flatten(),alpha=0.5, range=(1,3.5), bins=500, label='Bi-yearly Reference File',color='red')\n",
    "plt.hist(ref_curr.flatten(),alpha=0.5, range=(1,3.5), bins=500, label='Current Reference File')\n",
    "#plt.hist(ref_yearly.flatten(),alpha=0.5, range=(2,4), bins=100, label='Yearly Reference File')\n",
    "plt.xlabel('Counts')\n",
    "plt.ylabel('Number of Pixels')\n",
    "plt.title('Reference Images - Comparing Cadence')\n",
    "plt.legend()\n",
    "#plt.savefig('fullframe_histogram_compare_biyearly_current_refs.pdf') "
   ]
  },
  {
   "cell_type": "code",
   "execution_count": null,
   "id": "c43a2647",
   "metadata": {},
   "outputs": [],
   "source": [
    "ref_biyearly = fits.getdata(biyearly_ref,1)\n",
    "ref_curr = fits.getdata(current_ref,1)\n",
    "ref_yearly = fits.getdata(yearly_ref,1)\n",
    "\n",
    "figure(figsize=(10, 8), dpi=80)\n",
    "\n",
    "plt.hist(ref_biyearly.flatten(),alpha=0.5, range=(1,3.5), bins=500, label='Bi-yearly Reference File',color='red')\n",
    "plt.hist(ref_curr.flatten(),alpha=0.5, range=(1,3.5), bins=500, label='Current Reference File')\n",
    "#plt.hist(ref_yearly.flatten(),alpha=0.5, range=(2,4), bins=100, label='Yearly Reference File')\n",
    "plt.xlabel('Counts')\n",
    "plt.ylabel('Number of Pixels')\n",
    "plt.title('Reference Images - Comparing Cadence')\n",
    "plt.legend()\n",
    "#plt.savefig('fullframe_histogram_compare_biyearly_current_refs.pdf') "
   ]
  },
  {
   "cell_type": "code",
   "execution_count": null,
   "id": "b9cf33ed",
   "metadata": {},
   "outputs": [],
   "source": [
    "## Define all Paths here: \n",
    "now_biyearly_ref = '../../testing_files_biyearly/2020_2021_A_final_cal.fits'\n",
    "current_ref = '../2022_data/16819058i_fls.fits'\n",
    "now_yearly_ref = '../2022_data/deliverable_reference_files/2019_pf_A_low_curr.fits'"
   ]
  },
  {
   "cell_type": "code",
   "execution_count": null,
   "id": "7a596526",
   "metadata": {},
   "outputs": [],
   "source": [
    "ref_biyearly = fits.getdata(now_biyearly_ref,1)\n",
    "ref_curr = fits.getdata(current_ref,1)\n",
    "ref_yearly = fits.getdata(now_yearly_ref,1)\n",
    "\n",
    "figure(figsize=(12, 10), dpi=80)\n",
    "\n",
    "plt.hist(ref_biyearly.flatten(),alpha=0.5, range=(2,3.5), bins=500, label='2021/2020 Bi-yearly Reference File',color='blue')\n",
    "#plt.hist(ref_curr.flatten(),alpha=0.5, range=(2,3.5), bins=500, label='Current Reference File',color='orange')\n",
    "plt.hist(ref_yearly.flatten(),alpha=0.5, range=(2,3.5), bins=500, label='2021 Yearly Reference File',color='orange')\n",
    "plt.xlabel('Counts')\n",
    "plt.ylabel('Number of Pixels')\n",
    "plt.title('Reference Images - Comparing Cadence')\n",
    "plt.legend()\n",
    "plt.savefig('histogram_compare_biyearly_yearly_refs.pdf') "
   ]
  },
  {
   "cell_type": "code",
   "execution_count": null,
   "id": "5249d6a8",
   "metadata": {},
   "outputs": [],
   "source": [
    "ref_biyearly = fits.getdata(now_biyearly_ref,1)\n",
    "ref_curr = fits.getdata(current_ref,1)\n",
    "ref_yearly = fits.getdata(now_yearly_ref,1)\n",
    "\n",
    "figure(figsize=(10, 8), dpi=80)\n",
    "\n",
    "plt.hist(ref_biyearly.flatten(),alpha=0.5, range=(2,3.5), bins=500, label='2021/2020 Bi-yearly Reference File',color='red')\n",
    "#plt.hist(ref_curr.flatten(),alpha=0.5, range=(2,3.5), bins=500, label='Current Reference File')\n",
    "plt.hist(ref_yearly.flatten(),alpha=0.5, range=(2,3.5), bins=500, label='Yearly Reference File')\n",
    "plt.xlabel('Counts')\n",
    "plt.ylabel('Number of Pixels')\n",
    "plt.title('Reference Images - Comparing Cadence')\n",
    "plt.legend()\n",
    "plt.savefig('histogram_compare_biyearly_current_refs.pdf') "
   ]
  },
  {
   "cell_type": "code",
   "execution_count": null,
   "id": "c0803837",
   "metadata": {},
   "outputs": [],
   "source": [
    "ref_biyearly4 = fits.getdata(now_biyearly_ref,4)\n",
    "ref_curr4 = fits.getdata(current_ref,4)\n",
    "ref_yearly4 = fits.getdata(now_yearly_ref,4)\n",
    "ref_biyearly1 = fits.getdata(now_biyearly_ref,1)\n",
    "ref_curr1 = fits.getdata(current_ref,1)\n",
    "ref_yearly1 = fits.getdata(now_yearly_ref,1)\n",
    "\n",
    "\n",
    "uvis1_uvis2_biyearly = ref_biyearly4.flatten() + ref_biyearly1.flatten()\n",
    "uvis1_uv2_yearly = ref_yearly4.flatten() + ref_yearly1.flatten() \n",
    "uv1_uv2_current = ref_curr4.flatten() + ref_curr1.flatten() \n",
    "\n",
    "figure(figsize=(10, 8), dpi=80)\n",
    "\n",
    "plt.hist(uvis1_uvis2_biyearly,alpha=0.5, range=(2,3.5), bins=500, label='2021/2020 Bi-yearly Reference File',color='red')\n",
    "plt.hist(uv1_uv2_current.flatten(),alpha=0.5, range=(2,3.5), bins=500, label='Current Reference File')\n",
    "plt.hist(uvis1_uv2_yearly.flatten(),alpha=0.5, range=(2,3.5), bins=500, label='Yearly Reference File')\n",
    "plt.xlabel('Counts')\n",
    "plt.ylabel('Number of Pixels')\n",
    "plt.title('Reference Images - Comparing Cadence')\n",
    "plt.legend()\n",
    "#plt.savefig('histogram_compare_biyearly_current_refs.pdf') "
   ]
  },
  {
   "cell_type": "code",
   "execution_count": null,
   "id": "e46a2554",
   "metadata": {},
   "outputs": [],
   "source": [
    "## Define all Paths here: \n",
    "biyearly_image = '../../postflash_2022_work/2022_ISR_testing_data/2018-2019_test_01_26_2022_idle02ayq_flc.fits'\n",
    "current_image = '../../postflash_2022_work/2022_ISR_testing_data/idle02ayq_flc.fits'\n",
    "yearly_image = '../../postflash_2022_work/2022_ISR_testing_data/2018_yearly_low_10_18_2022_idn011e6s_flc.fits'\n",
    "\n",
    "updated_yearly = glob.glob('../../postflash_2022_work/2022_ISR_testing_data/*10_18*')\n",
    "science_pipeline = glob.glob('../../postflash_2022_work/2022_ISR_testing_data/i*flc.fits')"
   ]
  },
  {
   "cell_type": "code",
   "execution_count": null,
   "id": "ee9b7935",
   "metadata": {},
   "outputs": [],
   "source": [
    "image_biyearly = fits.getdata(biyearly_image,1)\n",
    "image_curr = fits.getdata(current_image,1)\n",
    "image_yearly = fits.getdata(yearly_image,1)\n",
    "\n",
    "figure(figsize=(10, 8), dpi=80)\n",
    "\n",
    "plt.hist(image_biyearly.flatten(),alpha=0.5, range=(-20,20), bins=100, label='Bi-yearly Reference File',color='red')\n",
    "plt.hist(image_curr.flatten(),alpha=0.5, range=(-20,20), bins=100, label='Current Reference File')\n",
    "#plt.hist(image_yearly.flatten(),alpha=0.5, range=(-20,20), bins=100, label='Yearly Reference File')\n",
    "plt.xlabel('Counts')\n",
    "plt.ylabel('Number of Pixels')\n",
    "plt.title('Fullframe Reference Images - Comparing Cadence')\n",
    "plt.legend()\n",
    "plt.savefig('fullframe_histogram_compare_biyearly_current_refs.pdf') "
   ]
  },
  {
   "cell_type": "code",
   "execution_count": null,
   "id": "b2dc111d",
   "metadata": {},
   "outputs": [],
   "source": [
    "biyearly_image = '../../postflash_2022_work/2022_ISR_testing_data/2018-2019_test_01_26_2022_idle02ayq_flc.fits'\n",
    "current_image = '../../postflash_2022_work/2022_ISR_testing_data/idle02ayq_flc.fits'\n",
    "yearly_image = '../../postflash_2022_work/2022_ISR_testing_data/2019_yearly_low_10_18_2022_idle02ayq_flc.fits'\n",
    "\n",
    "updated_yearly = glob.glob('../../postflash_2022_work/2022_ISR_testing_data/*10_18*')\n",
    "science_pipeline = glob.glob('../../postflash_2022_work/2022_ISR_testing_data/i*flc.fits')"
   ]
  },
  {
   "cell_type": "code",
   "execution_count": null,
   "id": "bb7bc9af",
   "metadata": {},
   "outputs": [],
   "source": [
    "image_biyearly = fits.getdata(biyearly_image,1)\n",
    "image_curr = fits.getdata(current_image,1)\n",
    "image_yearly = fits.getdata(yearly_image,1)\n",
    "\n",
    "figure(figsize=(10, 8), dpi=80)\n",
    "\n",
    "plt.hist(image_biyearly.flatten(),alpha=0.5, range=(-20,20), bins=100, label='Bi-yearly Reference File',color='red')\n",
    "plt.hist(image_curr.flatten(),alpha=0.5, range=(-20,20), bins=100, label='Current Reference File')\n",
    "#plt.hist(image_yearly.flatten(),alpha=0.5, range=(-20,20), bins=100, label='Yearly Reference File')\n",
    "plt.xlabel('Counts')\n",
    "plt.ylabel('Number of Pixels')\n",
    "plt.title('Fullframe Reference Images - Comparing Cadence')\n",
    "plt.legend()\n",
    "plt.savefig('fullframe_histogram_compare_biyearly_current_refs.pdf')"
   ]
  },
  {
   "cell_type": "code",
   "execution_count": null,
   "id": "6c416b31",
   "metadata": {},
   "outputs": [],
   "source": [
    "figure(figsize=(10, 8), dpi=80)\n",
    "\n",
    "\n",
    "#plt.hist(image_biyearly.flatten(),alpha=0.5, range=(-20,20), bins=100, label='Bi-yearly Reference File',color='red')\n",
    "plt.hist(image_curr.flatten(),alpha=0.5, range=(-20,20), bins=100, label='Current Reference File')\n",
    "plt.hist(image_yearly.flatten(),alpha=0.5, range=(-20,20), bins=100, label='Yearly Reference File')\n",
    "\n",
    "plt.xlabel('Counts')\n",
    "plt.ylabel('Number of Pixels')\n",
    "plt.title('Fullframe Reference Images - Comparing Cadence')\n",
    "plt.legend()\n",
    "plt.savefig('fullframe_histogram_compare_biyearly_current_refs.pdf')"
   ]
  },
  {
   "cell_type": "code",
   "execution_count": null,
   "id": "954fde28",
   "metadata": {},
   "outputs": [],
   "source": []
  }
 ],
 "metadata": {
  "kernelspec": {
   "display_name": "Python 3",
   "language": "python",
   "name": "python3"
  },
  "language_info": {
   "codemirror_mode": {
    "name": "ipython",
    "version": 3
   },
   "file_extension": ".py",
   "mimetype": "text/x-python",
   "name": "python",
   "nbconvert_exporter": "python",
   "pygments_lexer": "ipython3",
   "version": "3.5.6"
  },
  "toc": {
   "base_numbering": 1,
   "nav_menu": {},
   "number_sections": true,
   "sideBar": true,
   "skip_h1_title": false,
   "title_cell": "Table of Contents",
   "title_sidebar": "Contents",
   "toc_cell": false,
   "toc_position": {},
   "toc_section_display": true,
   "toc_window_display": false
  }
 },
 "nbformat": 4,
 "nbformat_minor": 5
}
