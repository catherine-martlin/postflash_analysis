{
 "cells": [
  {
   "cell_type": "code",
   "execution_count": null,
   "id": "aging-means",
   "metadata": {},
   "outputs": [],
   "source": [
    "import glob\n",
    "import os\n",
    "import shutil\n",
    "\n",
    "from astropy.io import fits\n",
    "from astropy import stats\n",
    "from astropy.time import Time\n",
    "from bokeh.io import output_file, output_notebook\n",
    "from bokeh.plotting import figure, show\n",
    "from bokeh.models import ColumnDataSource, Range1d\n",
    "from bokeh.layouts import row, column, gridplot\n",
    "from bokeh.models.widgets import Tabs, Panel\n",
    "import numpy as np\n",
    "import pandas as pd\n",
    "from scipy.optimize import curve_fit\n",
    "\n",
    "# Determine where the visualization will be rendered\n",
    "output_notebook()"
   ]
  },
  {
   "cell_type": "code",
   "execution_count": null,
   "id": "challenging-validity",
   "metadata": {},
   "outputs": [],
   "source": [
    "postflash_data = pd.read_pickle('/grp/hst/wfc3u/postflash_2021/flt_postflash_with_stats.pkl')"
   ]
  },
  {
   "cell_type": "code",
   "execution_count": null,
   "id": "integral-barrier",
   "metadata": {},
   "outputs": [],
   "source": [
    "fullframe_pf = postflash_data.loc[(postflash_data['subarray'] == False)] \n",
    "fullframe_pf_A = postflash_data.loc[(postflash_data['subarray'] == False) & (postflash_data['shutter'] == 'A') & (postflash_data['flash_cur'] == 'MED')] \n",
    "fullframe_pf_B = postflash_data.loc[(postflash_data['subarray'] == False) & (postflash_data['shutter'] == 'B') & (postflash_data['flash_cur'] == 'MED')] "
   ]
  },
  {
   "cell_type": "code",
   "execution_count": null,
   "id": "stopped-airport",
   "metadata": {},
   "outputs": [],
   "source": [
    "# normalized to the mean of first observation\n",
    "sorted_x = fullframe_pf_A['datetime'].sort_values()\n",
    "first_rootname = sorted_x.index[0]\n",
    "x = Time(sorted_x,format='datetime64')\n",
    "x.format = 'mjd'\n",
    "x = x.to_value('mjd', 'float')\n",
    "\n",
    "mean_mean = np.mean(fullframe_pf_A['sig_mean'])\n",
    "y = fullframe_pf_A['sig_mean']/fullframe_pf_A['sig_mean'][first_rootname]\n",
    "\n",
    "# Make and fit a linear regression model\n",
    "def line(x, a, b):\n",
    "    return a * x + b\n",
    "\n",
    "#x = x.reshape(-1, 1)\n",
    "popt, pcov = curve_fit(line, x, list(y))\n",
    "print(popt[0])\n",
    "\n",
    "# Find the slope and intercept from the model\n",
    "slope = popt[0] # Takes the first element of the array\n",
    "intercept = popt[1]\n",
    "\n",
    "# Make the regression line\n",
    "y_pred = []\n",
    "for i in x:\n",
    "    i = float(i)\n",
    "    temp_y = slope*i + intercept \n",
    "    y_pred.append(temp_y)\n",
    "\n",
    "p = figure(title = 'Mean PF value Normalized to Mean of First Observation',x_axis_type='datetime')\n",
    "p.y_range=Range1d(0.9, 1.05)\n",
    "p.circle(sorted_x, y,size = 4, legend_label = \"Med fullframe Shutter A\")\n",
    "p.line(sorted_x,y_pred,color='red',legend_label='y = ' + str(slope) +' x + '+ str(round(intercept,6)))\n",
    "show(p)"
   ]
  },
  {
   "cell_type": "code",
   "execution_count": null,
   "id": "powerful-sheet",
   "metadata": {},
   "outputs": [],
   "source": [
    "# normalized to the mean of first observation\n",
    "sorted_x = fullframe_pf_B['datetime'].sort_values()\n",
    "first_rootname = sorted_x.index[0]\n",
    "x = Time(sorted_x,format='datetime64')\n",
    "x.format = 'mjd'\n",
    "x = x.to_value('mjd', 'float')\n",
    "\n",
    "mean_mean = np.mean(fullframe_pf_B['sig_mean'])\n",
    "y = fullframe_pf_B['sig_mean']/fullframe_pf_B['sig_mean'][first_rootname]\n",
    "\n",
    "# Make and fit a linear regression model\n",
    "def line(x, a, b):\n",
    "    return a * x + b\n",
    "\n",
    "#x = x.reshape(-1, 1)\n",
    "popt, pcov = curve_fit(line, x, list(y))\n",
    "print(popt[0])\n",
    "\n",
    "# Find the slope and intercept from the model\n",
    "slope = popt[0] # Takes the first element of the array\n",
    "intercept = popt[1]\n",
    "\n",
    "# Make the regression line\n",
    "y_pred = []\n",
    "for i in x:\n",
    "    i = float(i)\n",
    "    temp_y = slope*i + intercept \n",
    "    y_pred.append(temp_y)\n",
    "\n",
    "p = figure(title = 'Mean PF value Normalized to Mean of First Observation',x_axis_type='datetime')\n",
    "p.y_range=Range1d(0.9, 1.05)\n",
    "p.circle(sorted_x, y,size = 4, legend_label = \"Med fullframe Shutter B\")\n",
    "p.line(sorted_x,y_pred,color='red',legend_label='y = ' + str(slope) +' x + '+ str(round(intercept,6)))\n",
    "show(p)"
   ]
  },
  {
   "cell_type": "code",
   "execution_count": null,
   "id": "peripheral-documentation",
   "metadata": {},
   "outputs": [],
   "source": []
  },
  {
   "cell_type": "code",
   "execution_count": null,
   "id": "postal-least",
   "metadata": {},
   "outputs": [],
   "source": []
  }
 ],
 "metadata": {
  "kernelspec": {
   "display_name": "Python 3",
   "language": "python",
   "name": "python3"
  },
  "language_info": {
   "codemirror_mode": {
    "name": "ipython",
    "version": 3
   },
   "file_extension": ".py",
   "mimetype": "text/x-python",
   "name": "python",
   "nbconvert_exporter": "python",
   "pygments_lexer": "ipython3",
   "version": "3.6.12"
  }
 },
 "nbformat": 4,
 "nbformat_minor": 5
}
