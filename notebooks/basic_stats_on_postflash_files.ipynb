{
 "cells": [
  {
   "cell_type": "code",
   "execution_count": null,
   "id": "verified-shape",
   "metadata": {},
   "outputs": [],
   "source": [
    "import glob\n",
    "import os\n",
    "import shutil\n",
    "\n",
    "from astropy import stats\n",
    "from astropy.io import fits\n",
    "import numpy as np\n",
    "import pandas as pd"
   ]
  },
  {
   "cell_type": "code",
   "execution_count": null,
   "id": "caroline-group",
   "metadata": {},
   "outputs": [],
   "source": [
    "postflash_data = pd.read_pickle('/grp/hst/wfc3u/postflash_2021/all_postflash_flc.pkl')"
   ]
  },
  {
   "cell_type": "code",
   "execution_count": null,
   "id": "upper-lebanon",
   "metadata": {},
   "outputs": [],
   "source": [
    "postflash_data[0:10]"
   ]
  },
  {
   "cell_type": "code",
   "execution_count": null,
   "id": "interesting-lithuania",
   "metadata": {},
   "outputs": [],
   "source": [
    "subarray_pf = postflash_data.loc[(postflash_data['subarray'] == True)] \n",
    "fullframe_pf = postflash_data.loc[(postflash_data['subarray'] == False)] \n",
    "sub_paths = subarray_pf.path.tolist()\n",
    "all_paths = postflash_data.path.tolist()\n",
    "print (all_paths)"
   ]
  },
  {
   "cell_type": "code",
   "execution_count": null,
   "id": "relevant-problem",
   "metadata": {
    "scrolled": true
   },
   "outputs": [],
   "source": [
    "means = []\n",
    "sig_means = []\n",
    "medians = []\n",
    "sig_medians = []\n",
    "stds = []\n",
    "sig_stds = []\n",
    "\n",
    "for f in all_paths:\n",
    "    path = f\n",
    "    print(path)\n",
    "    data = fits.getdata(path)\n",
    "    data_clip = stats.sigma_clip(data, 3)\n",
    "    \n",
    "    mean = np.mean(data)\n",
    "    sig_mean = np.mean(data_clip)\n",
    "    median = np.median(data)\n",
    "    sig_median = np.median(data_clip)\n",
    "    std = np.std(data)\n",
    "    sig_std = np.std(data_clip)\n",
    "    \n",
    "    \n",
    "    means.append(mean)\n",
    "    sig_means.append(sig_mean)\n",
    "    medians.append(median)\n",
    "    sig_medians.append(sig_median)\n",
    "    stds.append(std)\n",
    "    sig_stds.append(sig_std)\n"
   ]
  },
  {
   "cell_type": "code",
   "execution_count": null,
   "id": "dutch-things",
   "metadata": {},
   "outputs": [],
   "source": [
    "dict = {'path': all_paths, 'mean': means, 'sig_mean': sig_means,'median': medians, 'sig_median': sig_medians, 'std': stds, 'sig_std': sig_stds}\n",
    "path_and_stats_sub = pd.DataFrame(dict)\n",
    "\n",
    "all_stats = pd.merge(left=postflash_data, right=path_and_stats_sub, left_on='path', right_on='path').set_index(postflash_data.index)"
   ]
  },
  {
   "cell_type": "code",
   "execution_count": null,
   "id": "powerful-italic",
   "metadata": {},
   "outputs": [],
   "source": [
    "#all_stats['norm_by_dur'] = (all_stats['sig_mean']/all_stats['flash_dur'])\n",
    "#all_stats.to_pickle('/grp/hst/wfc3u/postflash_2021/flc_all_stats_postflash.pkl')\n",
    "all_stats = pd.read_pickle('/grp/hst/wfc3u/postflash_2021/flc_all_stats_postflash.pkl')\n",
    "print (all_stats)"
   ]
  },
  {
   "cell_type": "code",
   "execution_count": null,
   "id": "sapphire-output",
   "metadata": {},
   "outputs": [],
   "source": [
    "# all_stats['datetime'] = pd.to_datetime(all_stats['obsdate'] + ' ' + all_stats['obstime'])\n",
    "# all_stats.to_pickle('/grp/hst/wfc3u/postflash_2021/flc_all_stats_postflash.pkl')"
   ]
  },
  {
   "cell_type": "code",
   "execution_count": null,
   "id": "cardiac-techno",
   "metadata": {},
   "outputs": [],
   "source": []
  },
  {
   "cell_type": "code",
   "execution_count": null,
   "id": "forbidden-watson",
   "metadata": {},
   "outputs": [],
   "source": []
  }
 ],
 "metadata": {
  "kernelspec": {
   "display_name": "Python 3",
   "language": "python",
   "name": "python3"
  },
  "language_info": {
   "codemirror_mode": {
    "name": "ipython",
    "version": 3
   },
   "file_extension": ".py",
   "mimetype": "text/x-python",
   "name": "python",
   "nbconvert_exporter": "python",
   "pygments_lexer": "ipython3",
   "version": "3.6.12"
  }
 },
 "nbformat": 4,
 "nbformat_minor": 5
}
