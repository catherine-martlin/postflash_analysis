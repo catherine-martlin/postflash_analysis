{
 "cells": [
  {
   "cell_type": "code",
   "execution_count": null,
   "id": "verified-shape",
   "metadata": {},
   "outputs": [],
   "source": [
    "import glob\n",
    "import os\n",
    "import shutil\n",
    "\n",
    "from astropy import stats\n",
    "import numpy as np\n",
    "import pandas as pd"
   ]
  },
  {
   "cell_type": "code",
   "execution_count": null,
   "id": "caroline-group",
   "metadata": {},
   "outputs": [],
   "source": [
    "postflash_data = pd.read_pickle('/grp/hst/wfc3u/postflash_2021/all_raw_postflash_data.pkl')"
   ]
  },
  {
   "cell_type": "code",
   "execution_count": null,
   "id": "upper-lebanon",
   "metadata": {},
   "outputs": [],
   "source": [
    "postflash_data[0:10]"
   ]
  },
  {
   "cell_type": "code",
   "execution_count": null,
   "id": "interesting-lithuania",
   "metadata": {},
   "outputs": [],
   "source": [
    "low_sub_pf = postflash_data.loc[(postflash_data['flash_cur'] == 'LOW') & (postflash_data['subarray'] == True)] \n",
    "subarray_pf = postflash_data.loc[(postflash_data['subarray'] == True)] \n",
    "fullframe_pf = postflash_data.loc[(postflash_data['subarray'] == False)] \n",
    "low_sub_pf_A = postflash_data.loc[(postflash_data['flash_cur'] == 'LOW') & (postflash_data['subarray'] == True) & (postflash_data['shutter'] == 'A')] \n",
    "low_sub_pf_B = postflash_data.loc[(postflash_data['flash_cur'] == 'LOW') & (postflash_data['subarray'] == True) & (postflash_data['shutter'] == 'B')] \n",
    "paths = subarray_pf.path.tolist()\n",
    "print (paths)"
   ]
  },
  {
   "cell_type": "code",
   "execution_count": null,
   "id": "relevant-problem",
   "metadata": {},
   "outputs": [],
   "source": [
    "means = []\n",
    "sig_means = []\n",
    "medians = []\n",
    "sig_medians = []\n",
    "stds = []\n",
    "sig_stds = []\n",
    "\n",
    "for f in paths:\n",
    "    path = f\n",
    "    print(path)\n",
    "    data = fits.getdata(path)\n",
    "    data_clip = stats.sigma_clip(data, 3)\n",
    "    \n",
    "    mean = np.mean(data)\n",
    "    sig_mean = np.mean(data_clip)\n",
    "    median = np.median(data)\n",
    "    sig_median = np.median(data_clip)\n",
    "    std = np.std(data)\n",
    "    sig_std = np.std(data_clip)\n",
    "    \n",
    "    \n",
    "    means.append(mean)\n",
    "    sig_means.append(sig_mean)\n",
    "    medians.append(median)\n",
    "    sig_medians.append(sig_median)\n",
    "    stds.append(std)\n",
    "    sig_stds.append(sig_std)\n",
    "\n",
    "dict = {'path': paths, 'mean': means, 'sig_mean': sig_means,'median': medians, 'sig_median': sig_medians, 'std': stds, 'sig_std': sig_stds}\n",
    "path_and_stats_sub = pd.DataFrame(dict)"
   ]
  },
  {
   "cell_type": "code",
   "execution_count": null,
   "id": "dutch-things",
   "metadata": {},
   "outputs": [],
   "source": [
    "subarray_mean = pd.merge(left=subarray_pf, right=path_and_mean_sub, left_on='path', right_on='path').set_index(subarray_pf.index)"
   ]
  },
  {
   "cell_type": "code",
   "execution_count": null,
   "id": "powerful-italic",
   "metadata": {},
   "outputs": [],
   "source": [
    "subarray_mean.to_pickle('/grp/hst/wfc3u/postflash_2021/all_sub_pf_and_mean_data.pkl')\n",
    "subarray_mean = pd.read_pickle('/grp/hst/wfc3u/postflash_2021/all_sub_pf_and_mean_data.pkl')\n",
    "print (subarray_mean)"
   ]
  }
 ],
 "metadata": {
  "kernelspec": {
   "display_name": "Python 3",
   "language": "python",
   "name": "python3"
  },
  "language_info": {
   "codemirror_mode": {
    "name": "ipython",
    "version": 3
   },
   "file_extension": ".py",
   "mimetype": "text/x-python",
   "name": "python",
   "nbconvert_exporter": "python",
   "pygments_lexer": "ipython3",
   "version": "3.6.12"
  }
 },
 "nbformat": 4,
 "nbformat_minor": 5
}
