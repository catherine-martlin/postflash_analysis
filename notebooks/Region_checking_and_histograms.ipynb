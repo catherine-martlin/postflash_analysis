{
 "cells": [
  {
   "cell_type": "code",
   "execution_count": 1,
   "id": "ece07e94",
   "metadata": {},
   "outputs": [
    {
     "ename": "NameError",
     "evalue": "name 'output_notebook' is not defined",
     "output_type": "error",
     "traceback": [
      "\u001b[0;31m---------------------------------------------------------------------------\u001b[0m",
      "\u001b[0;31mNameError\u001b[0m                                 Traceback (most recent call last)",
      "\u001b[0;32m<ipython-input-1-675342e3004a>\u001b[0m in \u001b[0;36m<module>\u001b[0;34m\u001b[0m\n\u001b[1;32m     10\u001b[0m \u001b[0;34m\u001b[0m\u001b[0m\n\u001b[1;32m     11\u001b[0m \u001b[0;31m# Determine where the visualization will be rendered\u001b[0m\u001b[0;34m\u001b[0m\u001b[0;34m\u001b[0m\u001b[0;34m\u001b[0m\u001b[0m\n\u001b[0;32m---> 12\u001b[0;31m \u001b[0moutput_notebook\u001b[0m\u001b[0;34m(\u001b[0m\u001b[0;34m)\u001b[0m\u001b[0;34m\u001b[0m\u001b[0;34m\u001b[0m\u001b[0m\n\u001b[0m",
      "\u001b[0;31mNameError\u001b[0m: name 'output_notebook' is not defined"
     ]
    }
   ],
   "source": [
    "import glob\n",
    "import os\n",
    "import shutil\n",
    "\n",
    "from astropy import units as u\n",
    "from astropy.io import fits\n",
    "from astropy.nddata import Cutout2D\n",
    "import numpy as np\n",
    "import pandas as pd\n",
    "\n",
    "# Determine where the visualization will be rendered\n",
    "output_notebook()"
   ]
  },
  {
   "cell_type": "code",
   "execution_count": 2,
   "id": "f7d3838e",
   "metadata": {},
   "outputs": [
    {
     "name": "stdout",
     "output_type": "stream",
     "text": [
      "/Volumes/wfc3u/final_postflash_2021/notebooks/2020_test_01_24_2022_idn073crq_flc.fits\n",
      "/Volumes/wfc3u/final_postflash_2021/notebooks/2015_test_01_10_2022_icmx05qlq_flc.fits\n",
      "/Volumes/wfc3u/final_postflash_2021/notebooks/2020-2021_test_01_30_2022_ie0o61lyq_flc.fits\n",
      "/Volumes/wfc3u/final_postflash_2021/notebooks/2015_yearly_10_14_2022_icmx05qlq_flc.fits\n",
      "/Volumes/wfc3u/final_postflash_2021/notebooks/2017_test_01_07_2022_icw806qtq_flc.fits\n",
      "/Volumes/wfc3u/final_postflash_2021/notebooks/2021_test_01_27_2022_ie0o61lyq_flc.fits\n",
      "/Volumes/wfc3u/final_postflash_2021/notebooks/2018-2019_test_01_26_2022_idle02ayq_flc.fits\n",
      "/Volumes/wfc3u/final_postflash_2021/notebooks/2020-2021_test_01_26_2022_idn073crq_flc.fits\n",
      "/Volumes/wfc3u/final_postflash_2021/notebooks/2018_test_01_27_2022_idn011e6s_flc.fits\n",
      "/Volumes/wfc3u/final_postflash_2021/notebooks/2021_yearly_10_14_2022_ie0o61lyq_flc.fits\n",
      "/Volumes/wfc3u/final_postflash_2021/notebooks/2019_test_01_26_2022_idle02ayq_flc.fits\n",
      "/Volumes/wfc3u/final_postflash_2021/notebooks/2019_yearly_10_14_2022_idle02ayq_flc.fits\n",
      "/Volumes/wfc3u/final_postflash_2021/notebooks/2021v2012_test_02_08_2022_ibru01knq_flc.fits\n",
      "/Volumes/wfc3u/final_postflash_2021/notebooks/2017_yearly_10_14_2022_idb616edq_flc.fits\n",
      "/Volumes/wfc3u/final_postflash_2021/notebooks/2021_yearly_low_B_10_18_2022_ie0o61lyq_flc.fits\n",
      "/Volumes/wfc3u/final_postflash_2021/notebooks/2021_yearly_ABswitched_10_14_2022_ie0o61lyq_flc.fits\n",
      "/Volumes/wfc3u/final_postflash_2021/notebooks/2020_yearly_10_14_2022_idn073crq_flc.fits\n",
      "/Volumes/wfc3u/final_postflash_2021/notebooks/2016_yearly_10_14_2022_icw806qlq_flc.fits\n",
      "/Volumes/wfc3u/final_postflash_2021/notebooks/2015_2014_test_01_12_2022_icmx05qlq_flc.fits\n",
      "/Volumes/wfc3u/final_postflash_2021/notebooks/2012_yearly_10_14_2022_ibru01knq_flc.fits\n",
      "/Volumes/wfc3u/final_postflash_2021/notebooks/2016_test_01_18_2022_icw806qtq_flc.fits\n",
      "/Volumes/wfc3u/final_postflash_2021/notebooks/2016_2017_test_01_12_2022_icw806qtq_flc.fits\n",
      "/Volumes/wfc3u/final_postflash_2021/notebooks/2014_yearly_10_14_2022_icau22uqq_flc.fits\n",
      "/Volumes/wfc3u/final_postflash_2021/notebooks/icw806qtq_flc.fits\n",
      "/Volumes/wfc3u/final_postflash_2021/notebooks/ice111uaq_flc.fits\n",
      "/Volumes/wfc3u/final_postflash_2021/notebooks/2013_yearly_10_14_2022_ic1707bmq_flc.fits\n",
      "/Volumes/wfc3u/final_postflash_2021/notebooks/2018_yearly_10_14_2022_idn011e6s_flc.fits\n",
      "/Volumes/wfc3u/final_postflash_2021/notebooks/01_07_2022_icw806qtq_flc.fits\n"
     ]
    }
   ],
   "source": [
    "path = glob.glob('/Volumes/wfc3u/final_postflash_2021/notebooks/*flc.fits')\n",
    "\n",
    "for f in path: \n",
    "    print(f)"
   ]
  },
  {
   "cell_type": "code",
   "execution_count": 3,
   "id": "380d82a6",
   "metadata": {},
   "outputs": [],
   "source": []
  },
  {
   "cell_type": "code",
   "execution_count": 53,
   "id": "a6b39552",
   "metadata": {},
   "outputs": [
    {
     "name": "stdout",
     "output_type": "stream",
     "text": [
      "<class 'numpy.ndarray'>\n"
     ]
    }
   ],
   "source": [
    "image = fits.open('/Volumes/wfc3u/final_postflash_2021/notebooks/2021_test_01_27_2022_ie0o61lyq_flc.fits')\n",
    "image_data = image[1].data\n",
    "\n",
    "image_data2 = fits.getdata('/Volumes/wfc3u/final_postflash_2021/notebooks/2020-2021_test_01_30_2022_ie0o61lyq_flc.fits',1)\n",
    "\n",
    "current_ref = fits.getdata('/Volumes/wfc3u/final_postflash_2021/notebooks/ie0o61lyq_flc-pipe.fits',1)\n",
    "\n",
    "yearly_oct_18 = fits.getdata('/Volumes/wfc3u/final_postflash_2021/notebooks/2021_yearly_low_B_10_18_2022_ie0o61lyq_flc.fits',1)\n",
    "\n",
    "AB_switched = fits.getdata('/Volumes/wfc3u/final_postflash_2021/notebooks/2021_yearly_low_ABSwitch_10_18_2022_ie0o61lyq_flc.fits',1)\n",
    "print(type(image_data))\n"
   ]
  },
  {
   "cell_type": "code",
   "execution_count": 5,
   "id": "58a3329e",
   "metadata": {},
   "outputs": [],
   "source": [
    "# Set up matplotlib\n",
    "import matplotlib.pyplot as plt\n",
    "%matplotlib inline"
   ]
  },
  {
   "cell_type": "code",
   "execution_count": 6,
   "id": "17f77b04",
   "metadata": {},
   "outputs": [
    {
     "data": {
      "text/plain": [
       "<matplotlib.colorbar.Colorbar at 0x7f9ff8d9fb50>"
      ]
     },
     "execution_count": 6,
     "metadata": {},
     "output_type": "execute_result"
    },
    {
     "data": {
      "image/png": "[encoded data removed]",
      "text/plain": [
       "<Figure size 432x288 with 2 Axes>"
      ]
     },
     "metadata": {
      "needs_background": "light"
     },
     "output_type": "display_data"
    }
   ],
   "source": []
  },
  {
   "cell_type": "code",
   "execution_count": 38,
   "id": "2f9fcfd3",
   "metadata": {},
   "outputs": [
    {
     "name": "stdout",
     "output_type": "stream",
     "text": [
      "Min: -618.9464\n",
      "Max: 78455.234\n",
      "Mean: 9.404048\n",
      "Stdev: 226.21823\n",
      "Min: -619.1014\n",
      "Max: 78455.26\n",
      "Mean: 9.410509\n",
      "Stdev: 226.21823\n"
     ]
    }
   ],
   "source": [
    "print('Min:', np.min(image_data))\n",
    "print('Max:', np.max(image_data))\n",
    "print('Mean:', np.mean(image_data))\n",
    "print('Stdev:', np.std(image_data))\n",
    "print('Min:', np.min(yearly_oct_18))\n",
    "print('Max:', np.max(yearly_oct_18))\n",
    "print('Mean:', np.mean(yearly_oct_18))\n",
    "print('Stdev:', np.std(yearly_oct_18))"
   ]
  },
  {
   "cell_type": "code",
   "execution_count": 8,
   "id": "baccb2dd",
   "metadata": {},
   "outputs": [
    {
     "name": "stdout",
     "output_type": "stream",
     "text": [
      "<class 'numpy.ndarray'>\n",
      "(8400896,)\n"
     ]
    }
   ],
   "source": [
    "print(type(image_data.flatten()))\n",
    "print(image_data.flatten().shape)"
   ]
  },
  {
   "cell_type": "code",
   "execution_count": 9,
   "id": "e08a4088",
   "metadata": {},
   "outputs": [],
   "source": [
    "\n"
   ]
  },
  {
   "cell_type": "code",
   "execution_count": 10,
   "id": "1acb89f6",
   "metadata": {},
   "outputs": [
    {
     "name": "stdout",
     "output_type": "stream",
     "text": [
      "Min: -619.0761\n",
      "Max: 78455.19\n",
      "Mean: 9.335433\n",
      "Median: 1.4124737\n",
      "Stdev: 226.21834\n"
     ]
    }
   ],
   "source": [
    "print('Min:', np.min(image_data2))\n",
    "print('Max:', np.max(image_data2))\n",
    "print('Mean:', np.mean(image_data2))\n",
    "print('Median:', np.median(image_data2))\n",
    "print('Stdev:', np.std(image_data2))"
   ]
  },
  {
   "cell_type": "code",
   "execution_count": 12,
   "id": "43f8a32b",
   "metadata": {},
   "outputs": [
    {
     "name": "stdout",
     "output_type": "stream",
     "text": [
      "(2051, 4096)\n"
     ]
    }
   ],
   "source": [
    "print(image_data.shape)"
   ]
  },
  {
   "cell_type": "markdown",
   "id": "445c6ad1",
   "metadata": {},
   "source": [
    "Create cutouts"
   ]
  },
  {
   "cell_type": "code",
   "execution_count": 50,
   "id": "27219ffb",
   "metadata": {},
   "outputs": [],
   "source": [
    "positions = [(220, 160), (900,700), (2100,1100), (3500,300), (3600,1700)]\n",
    "position = (2100, 1100)\n",
    "size = (101, 101)     # pixels\n",
    "\n",
    "cutout = Cutout2D(image_data, position, size)\n",
    "cutout1 = cutout.data\n",
    "\n",
    "cutout_biyearly = Cutout2D(image_data2, position, size)\n",
    "cutout1_biyearly = cutout_biyearly.data\n",
    "\n",
    "cutout_curr= Cutout2D(current_ref, position, size)\n",
    "cutout1_curr = cutout_curr.data\n",
    "\n",
    "cutout_shutter= Cutout2D(AB_switched, position, size)\n",
    "cutout1_shutter = cutout_shutter.data"
   ]
  },
  {
   "cell_type": "code",
   "execution_count": 16,
   "id": "1bfd0ef1",
   "metadata": {},
   "outputs": [
    {
     "name": "stdout",
     "output_type": "stream",
     "text": [
      "(101, 101)\n"
     ]
    }
   ],
   "source": []
  },
  {
   "cell_type": "code",
   "execution_count": 17,
   "id": "066a0081",
   "metadata": {},
   "outputs": [
    {
     "data": {
      "text/plain": [
       "<matplotlib.image.AxesImage at 0x7fa01b6a5110>"
      ]
     },
     "execution_count": 17,
     "metadata": {},
     "output_type": "execute_result"
    },
    {
     "data": {
      "image/png": "[encoded data removed]",
      "text/plain": [
       "<Figure size 432x288 with 1 Axes>"
      ]
     },
     "metadata": {
      "needs_background": "light"
     },
     "output_type": "display_data"
    }
   ],
   "source": []
  },
  {
   "cell_type": "code",
   "execution_count": 19,
   "id": "67a9b510",
   "metadata": {},
   "outputs": [
    {
     "name": "stdout",
     "output_type": "stream",
     "text": [
      "Min: -69.596504\n",
      "Max: 9314.985\n",
      "Mean: 7.871817\n",
      "Median: 1.4220668\n",
      "Stdev: 124.061264\n"
     ]
    }
   ],
   "source": [
    "print('Min:', np.min(cutout1))\n",
    "print('Max:', np.max(cutout1))\n",
    "print('Mean:', np.mean(cutout1))\n",
    "print('Median:', np.median(cutout1))\n",
    "print('Stdev:', np.std(cutout1))"
   ]
  },
  {
   "cell_type": "code",
   "execution_count": 35,
   "id": "4a7a2efa",
   "metadata": {},
   "outputs": [
    {
     "data": {
      "text/plain": [
       "(array([  1.,   0.,   1.,   1.,   1.,   0.,   2.,   4.,   1.,   2.,   3.,\n",
       "          6.,   6.,   3.,   2.,   8.,   9.,  16.,  14.,  17.,  19.,  15.,\n",
       "         31.,  28.,  34.,  35.,  50.,  45.,  59.,  64.,  76.,  69., 101.,\n",
       "        103., 135., 141., 188., 143., 179., 145., 178., 239., 181., 194.,\n",
       "        204., 235., 258., 304., 300., 323., 297., 314., 341., 310., 316.,\n",
       "        296., 260., 282., 253., 254., 237., 235., 214., 214., 186., 166.,\n",
       "        161., 156., 154., 126., 113., 126.,  93.,  84.,  64.,  65.,  72.,\n",
       "         47.,  48.,  45.,  30.,  41.,  32.,  32.,  29.,  16.,  17.,  16.,\n",
       "         12.,  11.,  10.,  11.,   7.,   9.,   5.,   3.,   6.,   1.,   4.,\n",
       "          4.]),\n",
       " array([-20. , -19.6, -19.2, -18.8, -18.4, -18. , -17.6, -17.2, -16.8,\n",
       "        -16.4, -16. , -15.6, -15.2, -14.8, -14.4, -14. , -13.6, -13.2,\n",
       "        -12.8, -12.4, -12. , -11.6, -11.2, -10.8, -10.4, -10. ,  -9.6,\n",
       "         -9.2,  -8.8,  -8.4,  -8. ,  -7.6,  -7.2,  -6.8,  -6.4,  -6. ,\n",
       "         -5.6,  -5.2,  -4.8,  -4.4,  -4. ,  -3.6,  -3.2,  -2.8,  -2.4,\n",
       "         -2. ,  -1.6,  -1.2,  -0.8,  -0.4,   0. ,   0.4,   0.8,   1.2,\n",
       "          1.6,   2. ,   2.4,   2.8,   3.2,   3.6,   4. ,   4.4,   4.8,\n",
       "          5.2,   5.6,   6. ,   6.4,   6.8,   7.2,   7.6,   8. ,   8.4,\n",
       "          8.8,   9.2,   9.6,  10. ,  10.4,  10.8,  11.2,  11.6,  12. ,\n",
       "         12.4,  12.8,  13.2,  13.6,  14. ,  14.4,  14.8,  15.2,  15.6,\n",
       "         16. ,  16.4,  16.8,  17.2,  17.6,  18. ,  18.4,  18.8,  19.2,\n",
       "         19.6,  20. ], dtype=float32),\n",
       " <a list of 100 Patch objects>)"
      ]
     },
     "execution_count": 35,
     "metadata": {},
     "output_type": "execute_result"
    },
    {
     "data": {
      "image/png": "[encoded data removed]",
      "text/plain": [
       "<Figure size 432x288 with 1 Axes>"
      ]
     },
     "metadata": {
      "needs_background": "light"
     },
     "output_type": "display_data"
    }
   ],
   "source": [
    "#plt.hist(cutout1.flatten(),alpha=0.5, range=(-20,20), bins=100)\n",
    "plt.hist(cutout1_biyearly.flatten(),alpha=0.5, range=(-20,20), bins=100)\n",
    "plt.hist(cutout1_curr.flatten(),alpha=0.5, range=(-20,20), bins=100)"
   ]
  },
  {
   "cell_type": "code",
   "execution_count": 51,
   "id": "fd6c0db1",
   "metadata": {},
   "outputs": [
    {
     "data": {
      "image/png": "[encoded data removed]",
      "text/plain": [
       "<Figure size 432x288 with 1 Axes>"
      ]
     },
     "metadata": {
      "needs_background": "light"
     },
     "output_type": "display_data"
    }
   ],
   "source": [
    "histogram = plt.hist(cutout1_shutter.flatten(), range=(-20,20), bins=100)"
   ]
  },
  {
   "cell_type": "code",
   "execution_count": 54,
   "id": "6d1dd2b9",
   "metadata": {},
   "outputs": [],
   "source": []
  },
  {
   "cell_type": "code",
   "execution_count": 55,
   "id": "18f96c89",
   "metadata": {},
   "outputs": [],
   "source": []
  },
  {
   "cell_type": "code",
   "execution_count": 56,
   "id": "f7b3b403",
   "metadata": {},
   "outputs": [],
   "source": []
  },
  {
   "cell_type": "code",
   "execution_count": 48,
   "id": "e1404e07",
   "metadata": {},
   "outputs": [
    {
     "data": {
      "text/plain": [
       "0.0"
      ]
     },
     "execution_count": 48,
     "metadata": {},
     "output_type": "execute_result"
    }
   ],
   "source": []
  },
  {
   "cell_type": "code",
   "execution_count": 15,
   "id": "312f81a1",
   "metadata": {},
   "outputs": [],
   "source": [
    "postflash_data = pd.read_pickle('/Volumes/wfc3u/final_postflash_2021/notebooks/Feb_2022_all_postflash_flc.pkl')"
   ]
  },
  {
   "cell_type": "code",
   "execution_count": 23,
   "id": "5bccc826",
   "metadata": {},
   "outputs": [
    {
     "data": {
      "text/html": [
       "<div>\n",
       "<style scoped>\n",
       "    .dataframe tbody tr th:only-of-type {\n",
       "        vertical-align: middle;\n",
       "    }\n",
       "\n",
       "    .dataframe tbody tr th {\n",
       "        vertical-align: top;\n",
       "    }\n",
       "\n",
       "    .dataframe thead th {\n",
       "        text-align: right;\n",
       "    }\n",
       "</style>\n",
       "<table border=\"1\" class=\"dataframe\">\n",
       "  <thead>\n",
       "    <tr style=\"text-align: right;\">\n",
       "      <th></th>\n",
       "      <th>filename</th>\n",
       "      <th>propid</th>\n",
       "      <th>path</th>\n",
       "      <th>obsdate</th>\n",
       "      <th>obstime</th>\n",
       "      <th>shutter</th>\n",
       "      <th>flash_lvl</th>\n",
       "      <th>flash_dur</th>\n",
       "      <th>flash_cur</th>\n",
       "      <th>subarray</th>\n",
       "      <th>exp_time</th>\n",
       "    </tr>\n",
       "    <tr>\n",
       "      <th>rootname</th>\n",
       "      <th></th>\n",
       "      <th></th>\n",
       "      <th></th>\n",
       "      <th></th>\n",
       "      <th></th>\n",
       "      <th></th>\n",
       "      <th></th>\n",
       "      <th></th>\n",
       "      <th></th>\n",
       "      <th></th>\n",
       "      <th></th>\n",
       "    </tr>\n",
       "  </thead>\n",
       "  <tbody>\n",
       "    <tr>\n",
       "      <th>ielu05rmq</th>\n",
       "      <td>ielu05rmq_flc.fits</td>\n",
       "      <td>16570</td>\n",
       "      <td>/grp/hst/wfc3u/final_postflash_2021/mastDownlo...</td>\n",
       "      <td>2021-12-07</td>\n",
       "      <td>14:52:00</td>\n",
       "      <td>B</td>\n",
       "      <td>7310</td>\n",
       "      <td>100.0</td>\n",
       "      <td>MED</td>\n",
       "      <td>False</td>\n",
       "      <td>0.5</td>\n",
       "    </tr>\n",
       "  </tbody>\n",
       "</table>\n",
       "</div>"
      ],
      "text/plain": [
       "                     filename  propid  \\\n",
       "rootname                                \n",
       "ielu05rmq  ielu05rmq_flc.fits   16570   \n",
       "\n",
       "                                                        path     obsdate  \\\n",
       "rootname                                                                   \n",
       "ielu05rmq  /grp/hst/wfc3u/final_postflash_2021/mastDownlo...  2021-12-07   \n",
       "\n",
       "            obstime shutter  flash_lvl  flash_dur flash_cur  subarray  \\\n",
       "rootname                                                                \n",
       "ielu05rmq  14:52:00       B       7310      100.0       MED     False   \n",
       "\n",
       "           exp_time  \n",
       "rootname             \n",
       "ielu05rmq       0.5  "
      ]
     },
     "execution_count": 23,
     "metadata": {},
     "output_type": "execute_result"
    }
   ],
   "source": [
    "postflash_data.loc[postflash_data['filename']=='ielu05rmq_flc.fits']"
   ]
  },
  {
   "cell_type": "code",
   "execution_count": 11,
   "id": "69e0f7d3",
   "metadata": {},
   "outputs": [],
   "source": []
  },
  {
   "cell_type": "code",
   "execution_count": 12,
   "id": "controlled-korea",
   "metadata": {},
   "outputs": [
    {
     "data": {
      "text/html": [
       "<div>\n",
       "<style scoped>\n",
       "    .dataframe tbody tr th:only-of-type {\n",
       "        vertical-align: middle;\n",
       "    }\n",
       "\n",
       "    .dataframe tbody tr th {\n",
       "        vertical-align: top;\n",
       "    }\n",
       "\n",
       "    .dataframe thead th {\n",
       "        text-align: right;\n",
       "    }\n",
       "</style>\n",
       "<table border=\"1\" class=\"dataframe\">\n",
       "  <thead>\n",
       "    <tr style=\"text-align: right;\">\n",
       "      <th></th>\n",
       "      <th>filename</th>\n",
       "      <th>propid</th>\n",
       "      <th>path</th>\n",
       "      <th>obsdate</th>\n",
       "      <th>obstime</th>\n",
       "      <th>shutter</th>\n",
       "      <th>flash_lvl</th>\n",
       "      <th>flash_dur</th>\n",
       "      <th>flash_cur</th>\n",
       "      <th>subarray</th>\n",
       "      <th>exp_time</th>\n",
       "    </tr>\n",
       "    <tr>\n",
       "      <th>rootname</th>\n",
       "      <th></th>\n",
       "      <th></th>\n",
       "      <th></th>\n",
       "      <th></th>\n",
       "      <th></th>\n",
       "      <th></th>\n",
       "      <th></th>\n",
       "      <th></th>\n",
       "      <th></th>\n",
       "      <th></th>\n",
       "      <th></th>\n",
       "    </tr>\n",
       "  </thead>\n",
       "  <tbody>\n",
       "    <tr>\n",
       "      <th>ieg845feq</th>\n",
       "      <td>ieg845feq_flc.fits</td>\n",
       "      <td>16398</td>\n",
       "      <td>/grp/hst/wfc3u/final_postflash_2021/mastDownlo...</td>\n",
       "      <td>2020-12-14</td>\n",
       "      <td>20:55:49</td>\n",
       "      <td>B</td>\n",
       "      <td>7310</td>\n",
       "      <td>100.0</td>\n",
       "      <td>MED</td>\n",
       "      <td>False</td>\n",
       "      <td>0.5</td>\n",
       "    </tr>\n",
       "    <tr>\n",
       "      <th>idus35y6q</th>\n",
       "      <td>idus35y6q_flc.fits</td>\n",
       "      <td>15573</td>\n",
       "      <td>/grp/hst/wfc3u/final_postflash_2021/mastDownlo...</td>\n",
       "      <td>2019-08-15</td>\n",
       "      <td>10:09:26</td>\n",
       "      <td>A</td>\n",
       "      <td>7310</td>\n",
       "      <td>100.0</td>\n",
       "      <td>MED</td>\n",
       "      <td>False</td>\n",
       "      <td>0.5</td>\n",
       "    </tr>\n",
       "    <tr>\n",
       "      <th>idus10qfq</th>\n",
       "      <td>idus10qfq_flc.fits</td>\n",
       "      <td>15573</td>\n",
       "      <td>/grp/hst/wfc3u/final_postflash_2021/mastDownlo...</td>\n",
       "      <td>2019-01-02</td>\n",
       "      <td>18:39:03</td>\n",
       "      <td>B</td>\n",
       "      <td>7310</td>\n",
       "      <td>100.0</td>\n",
       "      <td>MED</td>\n",
       "      <td>False</td>\n",
       "      <td>0.5</td>\n",
       "    </tr>\n",
       "    <tr>\n",
       "      <th>icha16b5q</th>\n",
       "      <td>icha16b5q_flc.fits</td>\n",
       "      <td>13560</td>\n",
       "      <td>/grp/hst/wfc3u/final_postflash_2021/mastDownlo...</td>\n",
       "      <td>2014-05-04</td>\n",
       "      <td>16:59:52</td>\n",
       "      <td>B</td>\n",
       "      <td>7310</td>\n",
       "      <td>100.0</td>\n",
       "      <td>MED</td>\n",
       "      <td>False</td>\n",
       "      <td>0.5</td>\n",
       "    </tr>\n",
       "    <tr>\n",
       "      <th>id0o09n2q</th>\n",
       "      <td>id0o09n2q_flc.fits</td>\n",
       "      <td>14372</td>\n",
       "      <td>/grp/hst/wfc3u/final_postflash_2021/mastDownlo...</td>\n",
       "      <td>2016-01-06</td>\n",
       "      <td>04:39:31</td>\n",
       "      <td>A</td>\n",
       "      <td>7310</td>\n",
       "      <td>100.0</td>\n",
       "      <td>MED</td>\n",
       "      <td>False</td>\n",
       "      <td>0.5</td>\n",
       "    </tr>\n",
       "    <tr>\n",
       "      <th>...</th>\n",
       "      <td>...</td>\n",
       "      <td>...</td>\n",
       "      <td>...</td>\n",
       "      <td>...</td>\n",
       "      <td>...</td>\n",
       "      <td>...</td>\n",
       "      <td>...</td>\n",
       "      <td>...</td>\n",
       "      <td>...</td>\n",
       "      <td>...</td>\n",
       "      <td>...</td>\n",
       "    </tr>\n",
       "    <tr>\n",
       "      <th>id0o23jxq</th>\n",
       "      <td>id0o23jxq_flc.fits</td>\n",
       "      <td>14372</td>\n",
       "      <td>/grp/hst/wfc3u/final_postflash_2021/mastDownlo...</td>\n",
       "      <td>2016-04-26</td>\n",
       "      <td>11:33:20</td>\n",
       "      <td>A</td>\n",
       "      <td>7310</td>\n",
       "      <td>100.0</td>\n",
       "      <td>MED</td>\n",
       "      <td>False</td>\n",
       "      <td>0.5</td>\n",
       "    </tr>\n",
       "    <tr>\n",
       "      <th>icrz48w2q</th>\n",
       "      <td>icrz48w2q_flc.fits</td>\n",
       "      <td>14006</td>\n",
       "      <td>/grp/hst/wfc3u/final_postflash_2021/mastDownlo...</td>\n",
       "      <td>2014-12-03</td>\n",
       "      <td>14:33:38</td>\n",
       "      <td>A</td>\n",
       "      <td>7310</td>\n",
       "      <td>100.0</td>\n",
       "      <td>MED</td>\n",
       "      <td>False</td>\n",
       "      <td>0.5</td>\n",
       "    </tr>\n",
       "    <tr>\n",
       "      <th>icrz02brq</th>\n",
       "      <td>icrz02brq_flc.fits</td>\n",
       "      <td>14006</td>\n",
       "      <td>/grp/hst/wfc3u/final_postflash_2021/mastDownlo...</td>\n",
       "      <td>2014-12-08</td>\n",
       "      <td>02:26:10</td>\n",
       "      <td>B</td>\n",
       "      <td>7310</td>\n",
       "      <td>100.0</td>\n",
       "      <td>MED</td>\n",
       "      <td>False</td>\n",
       "      <td>0.5</td>\n",
       "    </tr>\n",
       "    <tr>\n",
       "      <th>ieg819ldq</th>\n",
       "      <td>ieg819ldq_flc.fits</td>\n",
       "      <td>16398</td>\n",
       "      <td>/grp/hst/wfc3u/final_postflash_2021/mastDownlo...</td>\n",
       "      <td>2021-03-23</td>\n",
       "      <td>16:48:36</td>\n",
       "      <td>A</td>\n",
       "      <td>7310</td>\n",
       "      <td>100.0</td>\n",
       "      <td>MED</td>\n",
       "      <td>False</td>\n",
       "      <td>0.5</td>\n",
       "    </tr>\n",
       "    <tr>\n",
       "      <th>idp529zwq</th>\n",
       "      <td>idp529zwq_flc.fits</td>\n",
       "      <td>14984</td>\n",
       "      <td>/grp/hst/wfc3u/final_postflash_2021/mastDownlo...</td>\n",
       "      <td>2018-06-22</td>\n",
       "      <td>04:14:37</td>\n",
       "      <td>B</td>\n",
       "      <td>7310</td>\n",
       "      <td>100.0</td>\n",
       "      <td>MED</td>\n",
       "      <td>False</td>\n",
       "      <td>0.5</td>\n",
       "    </tr>\n",
       "  </tbody>\n",
       "</table>\n",
       "<p>628 rows × 11 columns</p>\n",
       "</div>"
      ],
      "text/plain": [
       "                     filename  propid  \\\n",
       "rootname                                \n",
       "ieg845feq  ieg845feq_flc.fits   16398   \n",
       "idus35y6q  idus35y6q_flc.fits   15573   \n",
       "idus10qfq  idus10qfq_flc.fits   15573   \n",
       "icha16b5q  icha16b5q_flc.fits   13560   \n",
       "id0o09n2q  id0o09n2q_flc.fits   14372   \n",
       "...                       ...     ...   \n",
       "id0o23jxq  id0o23jxq_flc.fits   14372   \n",
       "icrz48w2q  icrz48w2q_flc.fits   14006   \n",
       "icrz02brq  icrz02brq_flc.fits   14006   \n",
       "ieg819ldq  ieg819ldq_flc.fits   16398   \n",
       "idp529zwq  idp529zwq_flc.fits   14984   \n",
       "\n",
       "                                                        path     obsdate  \\\n",
       "rootname                                                                   \n",
       "ieg845feq  /grp/hst/wfc3u/final_postflash_2021/mastDownlo...  2020-12-14   \n",
       "idus35y6q  /grp/hst/wfc3u/final_postflash_2021/mastDownlo...  2019-08-15   \n",
       "idus10qfq  /grp/hst/wfc3u/final_postflash_2021/mastDownlo...  2019-01-02   \n",
       "icha16b5q  /grp/hst/wfc3u/final_postflash_2021/mastDownlo...  2014-05-04   \n",
       "id0o09n2q  /grp/hst/wfc3u/final_postflash_2021/mastDownlo...  2016-01-06   \n",
       "...                                                      ...         ...   \n",
       "id0o23jxq  /grp/hst/wfc3u/final_postflash_2021/mastDownlo...  2016-04-26   \n",
       "icrz48w2q  /grp/hst/wfc3u/final_postflash_2021/mastDownlo...  2014-12-03   \n",
       "icrz02brq  /grp/hst/wfc3u/final_postflash_2021/mastDownlo...  2014-12-08   \n",
       "ieg819ldq  /grp/hst/wfc3u/final_postflash_2021/mastDownlo...  2021-03-23   \n",
       "idp529zwq  /grp/hst/wfc3u/final_postflash_2021/mastDownlo...  2018-06-22   \n",
       "\n",
       "            obstime shutter  flash_lvl  flash_dur flash_cur  subarray  \\\n",
       "rootname                                                                \n",
       "ieg845feq  20:55:49       B       7310      100.0       MED     False   \n",
       "idus35y6q  10:09:26       A       7310      100.0       MED     False   \n",
       "idus10qfq  18:39:03       B       7310      100.0       MED     False   \n",
       "icha16b5q  16:59:52       B       7310      100.0       MED     False   \n",
       "id0o09n2q  04:39:31       A       7310      100.0       MED     False   \n",
       "...             ...     ...        ...        ...       ...       ...   \n",
       "id0o23jxq  11:33:20       A       7310      100.0       MED     False   \n",
       "icrz48w2q  14:33:38       A       7310      100.0       MED     False   \n",
       "icrz02brq  02:26:10       B       7310      100.0       MED     False   \n",
       "ieg819ldq  16:48:36       A       7310      100.0       MED     False   \n",
       "idp529zwq  04:14:37       B       7310      100.0       MED     False   \n",
       "\n",
       "           exp_time  \n",
       "rootname             \n",
       "ieg845feq       0.5  \n",
       "idus35y6q       0.5  \n",
       "idus10qfq       0.5  \n",
       "icha16b5q       0.5  \n",
       "id0o09n2q       0.5  \n",
       "...             ...  \n",
       "id0o23jxq       0.5  \n",
       "icrz48w2q       0.5  \n",
       "icrz02brq       0.5  \n",
       "ieg819ldq       0.5  \n",
       "idp529zwq       0.5  \n",
       "\n",
       "[628 rows x 11 columns]"
      ]
     },
     "execution_count": 12,
     "metadata": {},
     "output_type": "execute_result"
    }
   ],
   "source": []
  },
  {
   "cell_type": "code",
   "execution_count": null,
   "id": "duplicate-money",
   "metadata": {},
   "outputs": [],
   "source": []
  }
 ],
 "metadata": {
  "kernelspec": {
   "display_name": "Python 3",
   "language": "python",
   "name": "python3"
  },
  "language_info": {
   "codemirror_mode": {
    "name": "ipython",
    "version": 3
   },
   "file_extension": ".py",
   "mimetype": "text/x-python",
   "name": "python",
   "nbconvert_exporter": "python",
   "pygments_lexer": "ipython3",
   "version": "3.6.12"
  },
  "toc": {
   "base_numbering": 1,
   "nav_menu": {},
   "number_sections": true,
   "sideBar": true,
   "skip_h1_title": false,
   "title_cell": "Table of Contents",
   "title_sidebar": "Contents",
   "toc_cell": false,
   "toc_position": {},
   "toc_section_display": true,
   "toc_window_display": false
  }
 },
 "nbformat": 4,
 "nbformat_minor": 5
}
