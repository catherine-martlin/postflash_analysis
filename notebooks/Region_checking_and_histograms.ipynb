{
 "cells": [
  {
   "cell_type": "code",
   "execution_count": null,
   "id": "ece07e94",
   "metadata": {},
   "outputs": [],
   "source": [
    "import glob\n",
    "import os\n",
    "import shutil\n",
    "\n",
    "from astropy import units as u\n",
    "from astropy.io import fits\n",
    "from astropy.nddata import Cutout2D\n",
    "import numpy as np\n",
    "import pandas as pd\n",
    "import matplotlib.pyplot as plt\n",
    "from bokeh.io import output_file, output_notebook\n",
    "from bokeh.plotting import figure, show\n",
    "from bokeh.models import ColumnDataSource, Range1d\n",
    "from bokeh.layouts import row, column, gridplot\n",
    "from bokeh.models.widgets import Tabs, Panel\n",
    "\n",
    "# Determine where the visualization will be rendered\n",
    "output_notebook()"
   ]
  },
  {
   "cell_type": "code",
   "execution_count": null,
   "id": "f7d3838e",
   "metadata": {},
   "outputs": [],
   "source": [
    "path = glob.glob('/Volumes/wfc3u/final_postflash_2021/notebooks/*10_18*flc.fits')\n",
    "\n",
    "for f in path: \n",
    "    print(f[72:])"
   ]
  },
  {
   "cell_type": "code",
   "execution_count": null,
   "id": "380d82a6",
   "metadata": {},
   "outputs": [],
   "source": [
    "flc_files = glob.glob('/Volumes/wfc3u/final_postflash_2021/notebooks/i*.fits')\n",
    "\n",
    "for f in flc_files: \n",
    "    print(f)"
   ]
  },
  {
   "cell_type": "code",
   "execution_count": null,
   "id": "2f9fcfd3",
   "metadata": {},
   "outputs": [],
   "source": [
    "updated_science_yearly = glob.glob('/Volumes/wfc3u/final_postflash_2021/notebooks/*10_18*flc.fits')\n",
    "\n",
    "for f in updated_science_yearly: \n",
    "    print(f)\n",
    "    image_data = fits.getdata(f,1)\n",
    "    print('Min:', np.min(image_data))\n",
    "    print('Max:', np.max(image_data))\n",
    "    print('Mean:', np.mean(image_data))\n",
    "    print('Stdev:', np.std(image_data))\n",
    "    print('Median: ', np.median(image_data))\n"
   ]
  },
  {
   "cell_type": "markdown",
   "id": "445c6ad1",
   "metadata": {},
   "source": [
    "Create cutouts"
   ]
  },
  {
   "cell_type": "code",
   "execution_count": null,
   "id": "1bfd0ef1",
   "metadata": {},
   "outputs": [],
   "source": [
    "positions = [(220, 160), (900,700), (2100,1100), (3500,300), (3600,1700)]\n",
    "size = (101, 101)\n",
    "updated_science_yearly = glob.glob('/Volumes/wfc3u/final_postflash_2021/notebooks/*10_18*flc.fits')\n",
    "\n",
    "min_pos = []\n",
    "max_pos = []\n",
    "mean_pos = []\n",
    "median_pos = []\n",
    "std_pos = []\n",
    "\n",
    "for f in updated_science_yearly: \n",
    "    print(f)\n",
    "    image_data = fits.getdata(f,4)\n",
    "    means_yearly = []\n",
    "    maxes_yearly = []\n",
    "    mins_yearly = []\n",
    "    medians_yearly = []\n",
    "    stdevs_yearly = []\n",
    "    for p in positions: \n",
    "        print(p)\n",
    "        cutout = Cutout2D(image_data, p, size)\n",
    "        cutout1 = cutout.data\n",
    "        mins_yearly.append(np.min(cutout1))\n",
    "        maxes_yearly.append(np.max(cutout1))\n",
    "        means_yearly.append(np.mean(cutout1))\n",
    "        medians_yearly.append(np.median(cutout1))\n",
    "        stdevs_yearly.append(np.std(cutout1))\n",
    "        print(np.std(cutout1))\n",
    "    std_pos.append(stdevs_yearly)\n",
    "    min_pos.append(mins_yearly)\n",
    "    max_pos.append(maxes_yearly)\n",
    "    mean_pos.append(means_yearly)\n",
    "    median_pos.append(medians_yearly)"
   ]
  },
  {
   "cell_type": "code",
   "execution_count": null,
   "id": "stuffed-examination",
   "metadata": {},
   "outputs": [],
   "source": [
    "filenames = []\n",
    "years = []\n",
    "\n",
    "science_yearly = glob.glob('/Volumes/wfc3u/final_postflash_2021/notebooks/*10_18*flc.fits')\n",
    "for f in science_yearly:\n",
    "    print(f[73:-9])\n",
    "    filenames.append(f[73:-9])\n",
    "    years.append(f[46:50])  \n",
    "\n",
    "positions = [220, 900, 2100, 3500, 3600]\n",
    "    \n",
    "stdev_yearly = pd.DataFrame(std_pos, columns=positions, dtype = float, index=filenames)\n",
    "stdev_yearly\n",
    "years = pd.DataFrame(years, index=filenames)\n",
    "years\n",
    "\n",
    "stdev_yearly = pd.concat([stdev_yearly, years],1)\n",
    "stdev_yearly"
   ]
  },
  {
   "cell_type": "code",
   "execution_count": null,
   "id": "066a0081",
   "metadata": {},
   "outputs": [],
   "source": [
    "x = list([1, 2, 3, 4, 5, 6, 7, 8, 9, 10, 11])\n",
    "y = list(stdev_yearly[220].values)\n",
    "y2 = list(stdev_yearly[900].values)\n",
    "y3 = list(stdev_yearly[2100].values)\n",
    "y4 = list(stdev_yearly[3500].values)\n",
    "y5 = list(stdev_yearly[3600].values)\n",
    "type(y)\n",
    "p = figure(title = 'Checking Stdev')\n",
    "p.line(x,y)\n",
    "p.line(x,y2)\n",
    "p.line(x,y3)\n",
    "p.line(x,y4)\n",
    "p.line(x,y5)\n",
    "show(p)"
   ]
  },
  {
   "cell_type": "code",
   "execution_count": null,
   "id": "67a9b510",
   "metadata": {},
   "outputs": [],
   "source": [
    "science_pipeline = glob.glob('/Volumes/wfc3u/final_postflash_2021/science-flc/*-pipe.fits')\n",
    "\n",
    "positions = [(220, 160), (900,700), (2100,1100), (3500,300), (3600,1700)]\n",
    "size = (101, 101) \n",
    "\n",
    "min_pos = []\n",
    "max_pos = []\n",
    "mean_pos = []\n",
    "median_pos = []\n",
    "std_pos = []\n",
    "\n",
    "for f in science_pipeline: \n",
    "    print(f)\n",
    "    image_data = fits.getdata(f,4)\n",
    "    means_yearly = []\n",
    "    maxes_yearly = []\n",
    "    mins_yearly = []\n",
    "    medians_yearly = []\n",
    "    stdevs_yearly = []\n",
    "    for p in positions: \n",
    "        cutout = Cutout2D(image_data, p, size)\n",
    "        cutout1 = cutout.data\n",
    "        mins_yearly.append(np.min(cutout1))\n",
    "        maxes_yearly.append(np.max(cutout1))\n",
    "        means_yearly.append(np.mean(cutout1))\n",
    "        medians_yearly.append(np.median(cutout1))\n",
    "        stdevs_yearly.append(np.std(cutout1))\n",
    "    std_pos.append(stdevs_yearly)\n",
    "    min_pos.append(mins_yearly)\n",
    "    max_pos.append(maxes_yearly)\n",
    "    mean_pos.append(means_yearly)\n",
    "    median_pos.append(medians_yearly)\n",
    "    \n",
    "filenames = []\n",
    "\n",
    "science_pipeline = glob.glob('/Volumes/wfc3u/final_postflash_2021/science-flc/*')\n",
    "for f in science_pipeline:\n",
    "    print(f[48:-14])\n",
    "    filenames.append(f[48:-14]) \n",
    "    \n",
    "positions_pipeline = ['pipe_220', 'pipe_900', 'pipe_2100', 'pipe_3500', 'pipe_3600']\n",
    "    \n",
    "stdev_pipeline = pd.DataFrame(std_pos, columns=positions_pipeline, dtype = float, index=filenames)\n",
    "stdev_pipeline"
   ]
  },
  {
   "cell_type": "code",
   "execution_count": null,
   "id": "maritime-invention",
   "metadata": {},
   "outputs": [],
   "source": [
    "combine_by_file = pd.concat([stdev_yearly,stdev_pipeline],1)\n",
    "combine_by_file"
   ]
  },
  {
   "cell_type": "code",
   "execution_count": null,
   "id": "standing-husband",
   "metadata": {},
   "outputs": [],
   "source": [
    "combine_by_file['220_norm'] = (combine_by_file[220] - combine_by_file['pipe_220']) / combine_by_file['pipe_220']\n",
    "combine_by_file['900_norm'] = (combine_by_file[900] - combine_by_file['pipe_900']) / combine_by_file['pipe_900']\n",
    "combine_by_file['2100_norm'] = (combine_by_file[2100] - combine_by_file['pipe_2100']) / combine_by_file['pipe_2100']\n",
    "combine_by_file['3500_norm'] = (combine_by_file[3500] - combine_by_file['pipe_3500']) / combine_by_file['pipe_3500']\n",
    "combine_by_file['3600_norm'] = (combine_by_file[3600] - combine_by_file['pipe_3600']) / combine_by_file['pipe_3600']\n",
    "\n",
    "combine_by_file"
   ]
  },
  {
   "cell_type": "code",
   "execution_count": null,
   "id": "settled-breakdown",
   "metadata": {},
   "outputs": [],
   "source": [
    "sorted_by_year = combine_by_file.sort_values(by=[0])\n",
    "sorted_by_year"
   ]
  },
  {
   "cell_type": "code",
   "execution_count": null,
   "id": "smoking-differential",
   "metadata": {},
   "outputs": [],
   "source": [
    "x = list([2012,2013,2015,2016,2018,2020])\n",
    "#x2 = list([5,1,4,6,3,2])\n",
    "x3 = list([1, 2, 3, 4, 5, 6])\n",
    "y = list(sorted_by_year['220_norm'].values)\n",
    "y2 = list(sorted_by_year['900_norm'].values)\n",
    "y3 = list(sorted_by_year['2100_norm'].values)\n",
    "y4 = list(sorted_by_year['3500_norm'].values)\n",
    "y5 = list(sorted_by_year['3600_norm'].values)\n",
    "\n",
    "y_c = [x for x in y if str(x) != 'nan']\n",
    "y2_c = [x for x in y2 if str(x) != 'nan']\n",
    "y3_c = [x for x in y3 if str(x) != 'nan']\n",
    "y4_c = [x for x in y4 if str(x) != 'nan']\n",
    "y5_c = [x for x in y5 if str(x) != 'nan']\n",
    "p = figure(title = 'Checking Stdev')\n",
    "p.line(x,y_c)\n",
    "p.line(x,y2_c)\n",
    "p.line(x,y3_c)\n",
    "p.line(x,y4_c)\n",
    "p.line(x,y5_c)\n",
    "show(p)"
   ]
  },
  {
   "cell_type": "code",
   "execution_count": null,
   "id": "4a7a2efa",
   "metadata": {},
   "outputs": [],
   "source": [
    "#plt.hist(cutout1.flatten(),alpha=0.5, range=(-20,20), bins=100)\n",
    "plt.hist(cutout1_biyearly.flatten(),alpha=0.5, range=(-20,20), bins=100)\n",
    "plt.hist(cutout1_curr.flatten(),alpha=0.5, range=(-20,20), bins=100)"
   ]
  },
  {
   "cell_type": "code",
   "execution_count": null,
   "id": "fd6c0db1",
   "metadata": {},
   "outputs": [],
   "source": [
    "histogram = plt.hist(cutout1_shutter.flatten(), range=(-20,20), bins=100)"
   ]
  },
  {
   "cell_type": "code",
   "execution_count": null,
   "id": "312f81a1",
   "metadata": {},
   "outputs": [],
   "source": [
    "postflash_data = pd.read_pickle('/Volumes/wfc3u/final_postflash_2021/notebooks/Feb_2022_all_postflash_flc.pkl')"
   ]
  },
  {
   "cell_type": "code",
   "execution_count": null,
   "id": "5bccc826",
   "metadata": {},
   "outputs": [],
   "source": [
    "postflash_data.loc[postflash_data['filename']=='ielu05rmq_flc.fits']"
   ]
  }
 ],
 "metadata": {
  "kernelspec": {
   "display_name": "Python 3",
   "language": "python",
   "name": "python3"
  },
  "language_info": {
   "codemirror_mode": {
    "name": "ipython",
    "version": 3
   },
   "file_extension": ".py",
   "mimetype": "text/x-python",
   "name": "python",
   "nbconvert_exporter": "python",
   "pygments_lexer": "ipython3",
   "version": "3.6.12"
  },
  "toc": {
   "base_numbering": 1,
   "nav_menu": {},
   "number_sections": true,
   "sideBar": true,
   "skip_h1_title": false,
   "title_cell": "Table of Contents",
   "title_sidebar": "Contents",
   "toc_cell": false,
   "toc_position": {},
   "toc_section_display": true,
   "toc_window_display": false
  }
 },
 "nbformat": 4,
 "nbformat_minor": 5
}
