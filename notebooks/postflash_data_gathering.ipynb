{
 "cells": [
  {
   "cell_type": "code",
   "execution_count": null,
   "metadata": {},
   "outputs": [],
   "source": [
    "import glob\n",
    "import os\n",
    "import shutil\n",
    "\n",
    "from astropy.io import ascii\n",
    "from astropy.io import fits\n",
    "from astropy.table import Table\n",
    "from astroquery.mast import Observations\n",
    "\n",
    "import numpy as np\n",
    "import pandas as pd\n",
    "\n",
    "%matplotlib inline"
   ]
  },
  {
   "cell_type": "code",
   "execution_count": null,
   "metadata": {},
   "outputs": [],
   "source": [
    "obsTable = Observations.query_criteria(calib_level=2,obs_collection='HST',jpegURL=['*flt*'],\n",
    "    proposal_id=[13078,14006,14372,14535,14984,15573,15718,16398])\n",
    "\n",
    "obsTable"
   ]
  },
  {
   "cell_type": "markdown",
   "metadata": {},
   "source": [
    "Downloaded 2/05/2021:\n",
    "\n",
    "13078\n",
    "14006\n",
    "14372\n",
    "14535\n",
    "14984\n",
    "15573\n",
    "15718\n",
    "16398\n",
    "\n",
    " \n",
    "Do we need 13069, 13560?"
   ]
  },
  {
   "cell_type": "code",
   "execution_count": null,
   "metadata": {
    "scrolled": true
   },
   "outputs": [],
   "source": [
    "# Download the files\n",
    "products = Observations.get_product_list(obsTable)\n",
    "Observations.download_products(products,download_dir='',\n",
    "                               mrp_only=False,\n",
    "                               productSubGroupDescription='FLC')"
   ]
  },
  {
   "cell_type": "code",
   "execution_count": null,
   "metadata": {},
   "outputs": [],
   "source": [
    "files_fits = glob.glob('mastDownload/HST/*/*fits')\n",
    "print(len(files_fits))\n",
    "test = files_fits[:]\n",
    "\n",
    "for f in test:\n",
    "    print(f)\n",
    "    data = fits.open(f)\n",
    "    rootname = data[0].header['ROOTNAME']\n",
    "    print(rootname)\n",
    "    data.close()"
   ]
  },
  {
   "cell_type": "code",
   "execution_count": null,
   "metadata": {},
   "outputs": [],
   "source": [
    "file_name = []\n",
    "prop_id = []\n",
    "paths = []\n",
    "rootname = []\n",
    "obsdate = []\n",
    "obstime = []\n",
    "shutter = []\n",
    "flash_lvl = []\n",
    "flash_dur = []\n",
    "flash_cur = []\n",
    "subarray = []\n",
    "exp_time = []\n",
    "\n",
    "for f in test:\n",
    "    print(f)\n",
    "    data = fits.open(f)\n",
    "    rootname_val = data[0].header['ROOTNAME']\n",
    "    filename_val = data[0].header['FILENAME']\n",
    "    propid_val = data[0].header['PROPOSID']\n",
    "    date_val = data[0].header['DATE-OBS']\n",
    "    time_val = data[0].header['TIME-OBS']\n",
    "    exptime_val = data[0].header['EXPTIME']\n",
    "    subarray_val = data[0].header['SUBARRAY']\n",
    "    flash_dur_val = data[0].header['FLASHDUR']\n",
    "    flash_cur_val = data[0].header['FLASHCUR']\n",
    "    flash_lvl_val = data[0].header['FLASHLVL']\n",
    "    shutter_val = data[0].header['SHUTRPOS']\n",
    "    print(rootname_val)\n",
    "\n",
    "    file_name.append(filename_val)\n",
    "    prop_id.append(propid_val)\n",
    "    paths.append(f)\n",
    "    rootname.append(rootname_val)\n",
    "    obsdate.append(date_val)\n",
    "    obstime.append(time_val)\n",
    "    shutter.append(shutter_val)\n",
    "    flash_lvl.append(flash_lvl_val)\n",
    "    flash_dur.append(flash_dur_val)\n",
    "    flash_cur.append(flash_cur_val)\n",
    "    subarray.append(subarray_val)\n",
    "    exp_time.append(exptime_val)\n",
    "\n",
    "    data.close()\n"
   ]
  },
  {
   "cell_type": "code",
   "execution_count": null,
   "metadata": {},
   "outputs": [],
   "source": [
    "import pandas as pd\n",
    "dict = {'filename':file_name,'propid': prop_id, 'path': paths, 'rootname': rootname, \n",
    "        'obsdate': obsdate, 'obstime': obstime, 'shutter': shutter, 'flash_lvl': flash_lvl,\n",
    "        'flash_dur': flash_dur, 'flash_cur': flash_cur, 'subarray': subarray,\n",
    "        'exp_time': exp_time}\n",
    "\n",
    "postflash_data = pd.DataFrame(dict) \n",
    "\n",
    "postflash_data = postflash_data.set_index('rootname')\n",
    "\n",
    "postflash_data.to_pickle('all_postflash_data.pkl')"
   ]
  },
  {
   "cell_type": "code",
   "execution_count": null,
   "metadata": {},
   "outputs": [],
   "source": [
    "postflash_data"
   ]
  },
  {
   "cell_type": "code",
   "execution_count": null,
   "metadata": {},
   "outputs": [],
   "source": []
  }
 ],
 "metadata": {
  "kernelspec": {
   "display_name": "Python 3",
   "language": "python",
   "name": "python3"
  },
  "language_info": {
   "codemirror_mode": {
    "name": "ipython",
    "version": 3
   },
   "file_extension": ".py",
   "mimetype": "text/x-python",
   "name": "python",
   "nbconvert_exporter": "python",
   "pygments_lexer": "ipython3",
   "version": "3.7.6"
  }
 },
 "nbformat": 4,
 "nbformat_minor": 4
}
