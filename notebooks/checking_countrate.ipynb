{
 "cells": [
  {
   "cell_type": "code",
   "execution_count": null,
   "id": "institutional-population",
   "metadata": {},
   "outputs": [],
   "source": [
    "import glob\n",
    "import os\n",
    "import shutil\n",
    "\n",
    "from astropy.io import fits\n",
    "from astropy import stats\n",
    "from astropy.time import Time\n",
    "import numpy as np\n",
    "import pandas as pd"
   ]
  },
  {
   "cell_type": "markdown",
   "id": "nominated-showcase",
   "metadata": {},
   "source": [
    "\"The data in Figure 10 are from program 13078 visits A3, A6, A7, and A8 and taken on November 15\n",
    "and 16, 2012. Images were combined in pairs with STSDAS CRREJ, and the mean pixel value was\n",
    "computed for the 1024x1024 pixel area nearest the C amplifier using IMSTAT with 3 iterations of 3\n",
    "sigma rejection. \""
   ]
  },
  {
   "cell_type": "code",
   "execution_count": null,
   "id": "underlying-gentleman",
   "metadata": {},
   "outputs": [],
   "source": [
    "postflash_data = pd.read_pickle('/grp/hst/wfc3u/postflash_2021/flt_postflash_with_stats.pkl')\n",
    "low_sub_pf_isr_13078_nov15 = postflash_data.loc[(postflash_data['flash_cur'] == 'LOW') & (postflash_data['propid'] == 13078) & (postflash_data['obsdate'] == '2012-11-15')]\n",
    "low_sub_pf_isr_13078_nov16 = postflash_data.loc[(postflash_data['flash_cur'] == 'LOW') & (postflash_data['propid'] == 13078) & (postflash_data['obsdate'] == '2012-11-16')]\n",
    "\n",
    "both_dates = [low_sub_pf_isr_13078_nov15, low_sub_pf_isr_13078_nov16]\n",
    "\n",
    "low_sub_pf_isr_13078 = pd.concat(both_dates)\n",
    "#print(low_sub_pf_isr_13078)"
   ]
  },
  {
   "cell_type": "code",
   "execution_count": null,
   "id": "acute-element",
   "metadata": {},
   "outputs": [],
   "source": [
    "paths = low_sub_pf_isr_13078.path.tolist() \n",
    "\n",
    "means = []\n",
    "sig_means = []\n",
    "for f in paths:\n",
    "    path = f\n",
    "    data = fits.getdata(path)\n",
    "    data_clip_1 = stats.sigma_clip(data, 3)\n",
    "    data_clip_2 = stats.sigma_clip(data_clip_1, 3)\n",
    "    data_clip_3 = stats.sigma_clip(data_clip_2, 3)\n",
    "    mean = np.mean(data)\n",
    "    sig_mean = np.mean(data_clip_3)\n",
    "    means.append(mean)\n",
    "    sig_means.append(sig_mean)\n",
    "\n",
    "dict = {'path': paths, 'mean': means, 'sig_mean': sig_means}\n",
    "path_and_mean_sub = pd.DataFrame(dict)"
   ]
  },
  {
   "cell_type": "code",
   "execution_count": null,
   "id": "surgical-belfast",
   "metadata": {},
   "outputs": [],
   "source": [
    "low_sub_pf_isr_13078['count_rate'] = (low_sub_pf_isr_13078['sig_mean']/low_sub_pf_isr_13078['flash_dur']) * low_sub_pf_isr_13078['flash_dur']"
   ]
  },
  {
   "cell_type": "code",
   "execution_count": null,
   "id": "decimal-regular",
   "metadata": {},
   "outputs": [],
   "source": [
    "low_sub_pf_isr_13078"
   ]
  },
  {
   "cell_type": "code",
   "execution_count": null,
   "id": "formal-enhancement",
   "metadata": {},
   "outputs": [],
   "source": []
  }
 ],
 "metadata": {
  "kernelspec": {
   "display_name": "Python 3",
   "language": "python",
   "name": "python3"
  },
  "language_info": {
   "codemirror_mode": {
    "name": "ipython",
    "version": 3
   },
   "file_extension": ".py",
   "mimetype": "text/x-python",
   "name": "python",
   "nbconvert_exporter": "python",
   "pygments_lexer": "ipython3",
   "version": "3.6.12"
  }
 },
 "nbformat": 4,
 "nbformat_minor": 5
}
