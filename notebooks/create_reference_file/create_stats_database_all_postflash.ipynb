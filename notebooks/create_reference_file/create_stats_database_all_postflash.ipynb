{
 "cells": [
  {
   "cell_type": "code",
   "execution_count": null,
   "id": "8ac3d8ad",
   "metadata": {},
   "outputs": [],
   "source": [
    "import glob\n",
    "import os\n",
    "import shutil\n",
    "\n",
    "from astropy import stats\n",
    "from astropy.io import fits\n",
    "import numpy as np\n",
    "import pandas as pd"
   ]
  },
  {
   "cell_type": "code",
   "execution_count": null,
   "id": "packed-tutorial",
   "metadata": {},
   "outputs": [],
   "source": [
    "working_directory = '/grp/hst/wfc3u/final_postflash_2021'\n",
    "database_filename = working_directory + '/Feb_2022_all_postflash_flc.pkl'\n",
    "updated_filename = working_directory + 'Feb_2022_flc_all_stats_postflash.pkl'"
   ]
  },
  {
   "cell_type": "code",
   "execution_count": null,
   "id": "81931fc1",
   "metadata": {},
   "outputs": [],
   "source": [
    "postflash_data = pd.read_pickle(database_filename)"
   ]
  },
  {
   "cell_type": "code",
   "execution_count": null,
   "id": "099873d4",
   "metadata": {},
   "outputs": [],
   "source": [
    "postflash_data[0:10]"
   ]
  },
  {
   "cell_type": "code",
   "execution_count": null,
   "id": "5e4edf85",
   "metadata": {},
   "outputs": [],
   "source": [
    "subarray_pf = postflash_data.loc[(postflash_data['subarray'] == True)] \n",
    "fullframe_pf = postflash_data.loc[(postflash_data['subarray'] == False)] \n",
    "sub_paths = subarray_pf.path.tolist()\n",
    "all_paths = postflash_data.path.tolist()\n",
    "print (all_paths)"
   ]
  },
  {
   "cell_type": "code",
   "execution_count": null,
   "id": "833b1420",
   "metadata": {
    "scrolled": true
   },
   "outputs": [],
   "source": [
    "means = []\n",
    "sig_means = []\n",
    "medians = []\n",
    "sig_medians = []\n",
    "stds = []\n",
    "sig_stds = []\n",
    "\n",
    "for f in all_paths:\n",
    "    path = f\n",
    "    print(path)\n",
    "    data = fits.getdata(path)\n",
    "    data_clip = stats.sigma_clip(data, 3)\n",
    "    \n",
    "    mean = np.mean(data)\n",
    "    sig_mean = np.mean(data_clip)\n",
    "    median = np.median(data)\n",
    "    sig_median = np.median(data_clip)\n",
    "    std = np.std(data)\n",
    "    sig_std = np.std(data_clip)\n",
    "    \n",
    "    \n",
    "    means.append(mean)\n",
    "    sig_means.append(sig_mean)\n",
    "    medians.append(median)\n",
    "    sig_medians.append(sig_median)\n",
    "    stds.append(std)\n",
    "    sig_stds.append(sig_std)\n"
   ]
  },
  {
   "cell_type": "code",
   "execution_count": null,
   "id": "18710717",
   "metadata": {},
   "outputs": [],
   "source": [
    "dict = {'path': all_paths, 'mean': means, 'sig_mean': sig_means,'median': medians, 'sig_median': sig_medians, 'std': stds, 'sig_std': sig_stds}\n",
    "path_and_stats_sub = pd.DataFrame(dict)\n",
    "\n",
    "all_stats = pd.merge(left=postflash_data, right=path_and_stats_sub, left_on='path', right_on='path').set_index(postflash_data.index)"
   ]
  },
  {
   "cell_type": "code",
   "execution_count": null,
   "id": "8acf9107",
   "metadata": {},
   "outputs": [],
   "source": [
    "all_stats['norm_by_dur'] = (all_stats['sig_mean']/all_stats['flash_dur'])\n",
    "all_stats.to_pickle(updated_filename)\n",
    "all_stats = pd.read_pickle(updated_filename)\n",
    "print (all_stats)"
   ]
  },
  {
   "cell_type": "code",
   "execution_count": null,
   "id": "a0bb56d8",
   "metadata": {},
   "outputs": [],
   "source": [
    " all_stats['datetime'] = pd.to_datetime(all_stats['obsdate'] + ' ' + all_stats['obstime'])\n",
    " all_stats.to_pickle(updated_filename)"
   ]
  }
 ],
 "metadata": {
  "kernelspec": {
   "display_name": "Python 3",
   "language": "python",
   "name": "python3"
  },
  "language_info": {
   "codemirror_mode": {
    "name": "ipython",
    "version": 3
   },
   "file_extension": ".py",
   "mimetype": "text/x-python",
   "name": "python",
   "nbconvert_exporter": "python",
   "pygments_lexer": "ipython3",
   "version": "3.6.12"
  },
  "toc": {
   "base_numbering": 1,
   "nav_menu": {},
   "number_sections": true,
   "sideBar": true,
   "skip_h1_title": false,
   "title_cell": "Table of Contents",
   "title_sidebar": "Contents",
   "toc_cell": false,
   "toc_position": {},
   "toc_section_display": true,
   "toc_window_display": false
  }
 },
 "nbformat": 4,
 "nbformat_minor": 5
}
