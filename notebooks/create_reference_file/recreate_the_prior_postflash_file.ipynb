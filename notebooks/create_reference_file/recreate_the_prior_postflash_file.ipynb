{
 "cells": [
  {
   "cell_type": "code",
   "execution_count": null,
   "id": "hungry-walnut",
   "metadata": {},
   "outputs": [],
   "source": [
    "import glob\n",
    "import os\n",
    "\n",
    "from astropy.io import fits\n",
    "import numpy as np\n",
    "import numpy.ma as ma\n",
    "import pandas as pd\n",
    "\n",
    "from stack import *\n",
    "from create_reference_files import * \n",
    "from change_permissions import *"
   ]
  },
  {
   "cell_type": "code",
   "execution_count": null,
   "id": "cognitive-ethiopia",
   "metadata": {},
   "outputs": [],
   "source": [
    "working_directory = '/Users/cmartlin/Desktop/'\n",
    "today = '12_09_2022'\n",
    "postflash_data = pd.read_pickle('../../2022_data/Feb_2022_flc_all_stats_postflash.pkl')"
   ]
  },
  {
   "cell_type": "code",
   "execution_count": null,
   "id": "responsible-prerequisite",
   "metadata": {},
   "outputs": [],
   "source": [
    "postflash_data=postflash_data.sort_values(by='datetime')"
   ]
  },
  {
   "cell_type": "code",
   "execution_count": null,
   "id": "prospective-being",
   "metadata": {},
   "outputs": [],
   "source": [
    "def create_reference_file(year, working_directory, today, cadence, postflash_data):\n",
    "    \"\"\"This function will use input information to run the stack()\n",
    "    function and create specific file names for the outputs.\n",
    "    \n",
    "    Parameters\n",
    "    ----------\n",
    "    year: int\n",
    "        The year as an integer input.\n",
    "    \n",
    "    working_directory: str\n",
    "        The path the files will be saved to. Needs trailing '\\'\n",
    "    \n",
    "    today: str\n",
    "        Format isn't important, needed to add date to filenames.\n",
    "    \n",
    "    cadence: int\n",
    "        Number of years you want stacked. 1 = 1 year, 2 = biyearly, etc.\n",
    "    \n",
    "    postflash_data: pandas dataframe\n",
    "        Dataframe to define the data you are using.\n",
    "    \n",
    "    Returns\n",
    "    -------\n",
    "    paths_year: str\n",
    "        List of all FITS file needed to stack.\n",
    "    \n",
    "    outfile_year: str\n",
    "        Filename for the outfile specified by year.\n",
    "    \n",
    "    error_outfile_year: str\n",
    "        Filename for the error outfile specified by year.\n",
    "    \n",
    "    \"\"\"\n",
    "    fullframe_pf = postflash_data.loc[(postflash_data['subarray'] == False)]\n",
    "    shutters = ('A', 'B')\n",
    "    for shutter in shutters:\n",
    "        fullframe_pf = postflash_data.loc[(postflash_data['subarray'] == False) & (postflash_data['shutter'] == '{}'.format(shutter)) & (postflash_data['flash_cur'] == 'MED') & (postflash_data['flash_dur'] == 100.0)]\n",
    "        if cadence == 1:\n",
    "            if year == 2012:\n",
    "                fullframe_pf_year = fullframe_pf[(fullframe_pf['datetime'] > '{}-01-01 00:00:00'.format(str(year))) & (fullframe_pf['datetime'] < '{}-11-14 00:00:00'.format(str(year+1)))]\n",
    "            else:\n",
    "                fullframe_pf_year = fullframe_pf[(fullframe_pf['datetime'] > '{}-01-01 00:00:00'.format(str(year))) & (fullframe_pf['datetime'] < '{}-01-01 00:00:00'.format(str(year+1)))]\n",
    "            paths_year = fullframe_pf_year.path.tolist()\n",
    "            print(len(paths_year))\n",
    "            outfile_year = '{}{}_fullframe_{}_flc_stack_{}.fits'.format(working_directory,str(year), shutter, today)\n",
    "            error_outfile_year = '{}{}_fullframe_{}_flc_error_stack_{}.fits'.format(working_directory,str(year), shutter, today)\n",
    "            print(outfile_year)\n",
    "        else:\n",
    "            fullframe_pf = postflash_data.loc[(postflash_data['subarray'] == False) & (postflash_data['shutter'] == '{}'.format(shutter)) & (postflash_data['flash_cur'] == 'MED') & (postflash_data['flash_dur'] == 100.0)]\n",
    "            fullframe_pf_year = fullframe_pf[(fullframe_pf['datetime'] > '{}-01-01 00:00:00'.format(str(year))) & (fullframe_pf['datetime'] < '{}-01-01 00:00:00'.format(str(year+cadence)))]\n",
    "            paths_year = fullframe_pf_year.path.tolist()\n",
    "            print(len(paths_year))\n",
    "            outfile_year = '{}{}_cadence{}_fullframe_{}_flc_stack_{}.fits'.format(working_directory,str(year), str(cadence), shutter, today)\n",
    "            error_outfile_year = '{}{}_cadence{}_fullframe_{}_flc_error_stack_{}.fits'.format(working_directory,str(year), str(cadence), shutter, today)\n",
    "            print(outfile_year)\n",
    "\n",
    "    return paths_year, outfile_year, error_outfile_year, fullframe_pf_year"
   ]
  },
  {
   "cell_type": "code",
   "execution_count": null,
   "id": "democratic-columbia",
   "metadata": {},
   "outputs": [],
   "source": [
    "postflash_data=postflash_data.sort_values(by='datetime')\n",
    "fullframe_pf = postflash_data.loc[(postflash_data['subarray'] == False)]\n",
    "\n",
    "start_year = '2009'\n",
    "end_year = '2016'\n",
    "\n",
    "shutters = ('A', 'B')\n",
    "for shutter in shutters:\n",
    "    fullframe_pf = postflash_data.loc[(postflash_data['subarray'] == False) & (postflash_data['shutter'] == '{}'.format(shutter)) & (postflash_data['flash_cur'] == 'MED') & (postflash_data['flash_dur'] == 100.0)]\n",
    "    fullframe_pf_year = fullframe_pf[(fullframe_pf['datetime'] > '{}-01-01 00:00:00'.format(start_year)) & (fullframe_pf['datetime'] < '{}-01-01 00:00:00'.format(end_year))]\n",
    "    paths_year = fullframe_pf_year.path.tolist()\n",
    "    print(len(paths_year))\n",
    "    outfile_year = '{}testing_pipeline_{}_shutter{}.fits'.format(working_directory, today, shutter)\n",
    "    error_outfile_year = '{}testing_pipeline_error_stack_{}_shutter{}.fits'.format(working_directory, today, shutter)\n",
    "    print(outfile_year)"
   ]
  },
  {
   "cell_type": "code",
   "execution_count": null,
   "id": "certified-verse",
   "metadata": {},
   "outputs": [],
   "source": [
    "stack(paths_year, outfile_year, error_outfile_year)"
   ]
  },
  {
   "cell_type": "code",
   "execution_count": null,
   "id": "hairy-stuff",
   "metadata": {},
   "outputs": [],
   "source": []
  }
 ],
 "metadata": {
  "kernelspec": {
   "display_name": "Python 3 (ipykernel)",
   "language": "python",
   "name": "python3"
  },
  "language_info": {
   "codemirror_mode": {
    "name": "ipython",
    "version": 3
   },
   "file_extension": ".py",
   "mimetype": "text/x-python",
   "name": "python",
   "nbconvert_exporter": "python",
   "pygments_lexer": "ipython3",
   "version": "3.9.16"
  },
  "toc": {
   "base_numbering": 1,
   "nav_menu": {},
   "number_sections": true,
   "sideBar": true,
   "skip_h1_title": false,
   "title_cell": "Table of Contents",
   "title_sidebar": "Contents",
   "toc_cell": false,
   "toc_position": {},
   "toc_section_display": true,
   "toc_window_display": false
  }
 },
 "nbformat": 4,
 "nbformat_minor": 5
}
