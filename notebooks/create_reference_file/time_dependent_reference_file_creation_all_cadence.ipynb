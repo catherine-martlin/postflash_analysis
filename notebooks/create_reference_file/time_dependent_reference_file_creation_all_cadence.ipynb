{
 "cells": [
  {
   "cell_type": "code",
   "execution_count": null,
   "id": "1da202ad",
   "metadata": {},
   "outputs": [],
   "source": [
    "import glob\n",
    "import os\n",
    "\n",
    "from astropy.io import fits\n",
    "import numpy as np\n",
    "import numpy.ma as ma\n",
    "import pandas as pd\n",
    "\n",
    "from stack import *\n",
    "from create_reference_files import * \n",
    "from change_permissions import *"
   ]
  },
  {
   "cell_type": "code",
   "execution_count": null,
   "id": "6b3dc45b",
   "metadata": {},
   "outputs": [],
   "source": [
    "working_directory = '/Users/cmartlin/Desktop/'\n",
    "today = '12_09_2022'\n",
    "postflash_data = pd.read_pickle('../../2022_data/Feb_2022_flc_all_stats_postflash.pkl')"
   ]
  },
  {
   "cell_type": "code",
   "execution_count": null,
   "id": "1f38c449",
   "metadata": {},
   "outputs": [],
   "source": [
    "postflash_data=postflash_data.sort_values(by='datetime')"
   ]
  },
  {
   "cell_type": "markdown",
   "id": "2ac0f79b",
   "metadata": {},
   "source": [
    "To run the stacking code you need to run: stack(path_list, path_outfile, path_error_outfile)"
   ]
  },
  {
   "cell_type": "code",
   "execution_count": null,
   "id": "bb452739",
   "metadata": {},
   "outputs": [],
   "source": [
    "years = [2012, 2013, 2014, 2015, 2016, 2017, 2018, 2019, 2020, 2021, 2022]\n",
    "cadence = 1\n",
    "\n",
    "for y in years: \n",
    "    paths_year, outfile_year, error_outfile_year, fullframe_pf_year = create_reference_file(y, working_directory, today, cadence, postflash_data)\n",
    "    #stack(paths_year, outfile_year, error_outfile_year)"
   ]
  },
  {
   "cell_type": "markdown",
   "id": "underlying-israeli",
   "metadata": {},
   "source": [
    "Bi-yearly"
   ]
  },
  {
   "cell_type": "code",
   "execution_count": null,
   "id": "racial-clear",
   "metadata": {},
   "outputs": [],
   "source": [
    "years = [2012, 2014, 2016, 2018, 2020]\n",
    "cadence = 2\n",
    "\n",
    "for y in years: \n",
    "    paths_year, outfile_year, error_outfile_year, fullframe_pf_year = create_reference_file(y, working_directory, today, cadence, postflash_data)\n",
    "    #stack(paths_year, outfile_year, error_outfile_year)"
   ]
  },
  {
   "cell_type": "markdown",
   "id": "hungarian-customs",
   "metadata": {},
   "source": [
    "Five Year"
   ]
  },
  {
   "cell_type": "code",
   "execution_count": null,
   "id": "fossil-invitation",
   "metadata": {},
   "outputs": [],
   "source": [
    "postflash_data=postflash_data.sort_values(by='datetime')\n",
    "years = [2012,2017]\n",
    "cadence = 5\n",
    "\n",
    "for y in years: \n",
    "    paths_year, outfile_year, error_outfile_year, fullframe_pf_year = create_reference_file(y, working_directory, today, cadence, postflash_data)\n",
    "    #stack(paths_year, outfile_year, error_outfile_year)"
   ]
  },
  {
   "cell_type": "markdown",
   "id": "stopped-receiver",
   "metadata": {},
   "source": [
    "All time/10 years"
   ]
  },
  {
   "cell_type": "code",
   "execution_count": null,
   "id": "compact-diamond",
   "metadata": {},
   "outputs": [],
   "source": [
    "years = [2012]\n",
    "cadence = 10\n",
    "\n",
    "for y in years: \n",
    "    paths_year, outfile_year, error_outfile_year, fullframe_pf_year = create_reference_file(y, working_directory, today, cadence, postflash_data)\n",
    "    #stack(paths_year, outfile_year, error_outfile_year)"
   ]
  },
  {
   "cell_type": "markdown",
   "id": "70e83181",
   "metadata": {},
   "source": [
    "Adding a change_permissions function: "
   ]
  },
  {
   "cell_type": "code",
   "execution_count": null,
   "id": "4f8a37e0",
   "metadata": {},
   "outputs": [],
   "source": [
    "change_permissions(working_directory)"
   ]
  }
 ],
 "metadata": {
  "kernelspec": {
   "display_name": "Python 3",
   "language": "python",
   "name": "python3"
  },
  "language_info": {
   "codemirror_mode": {
    "name": "ipython",
    "version": 3
   },
   "file_extension": ".py",
   "mimetype": "text/x-python",
   "name": "python",
   "nbconvert_exporter": "python",
   "pygments_lexer": "ipython3",
   "version": "3.6.12"
  },
  "toc": {
   "base_numbering": 1,
   "nav_menu": {},
   "number_sections": true,
   "sideBar": true,
   "skip_h1_title": false,
   "title_cell": "Table of Contents",
   "title_sidebar": "Contents",
   "toc_cell": false,
   "toc_position": {},
   "toc_section_display": true,
   "toc_window_display": false
  }
 },
 "nbformat": 4,
 "nbformat_minor": 5
}
