{
 "cells": [
  {
   "cell_type": "code",
   "execution_count": null,
   "id": "1da202ad",
   "metadata": {},
   "outputs": [],
   "source": [
    "import glob\n",
    "import os\n",
    "\n",
    "from astropy.io import fits\n",
    "from datetime import date\n",
    "import numpy as np\n",
    "import numpy.ma as ma\n",
    "import pandas as pd"
   ]
  },
  {
   "cell_type": "code",
   "execution_count": null,
   "id": "0ff668bc",
   "metadata": {},
   "outputs": [],
   "source": [
    "from stack import stack\n",
    "from create_reference_files import create_reference_file \n",
    "from change_permissions import change_permissions\n",
    "from final_cal import final_cal"
   ]
  },
  {
   "cell_type": "code",
   "execution_count": null,
   "id": "6b3dc45b",
   "metadata": {},
   "outputs": [],
   "source": [
    "working_directory = '/Users/cmartlin/Desktop/postflash_2022_creation/'\n",
    "database_filename = working_directory + 'March_2023_all_postflash_flc.pkl'\n",
    "today = date.today()\n",
    "postflash_data = pd.read_pickle(database_filename)"
   ]
  },
  {
   "cell_type": "code",
   "execution_count": null,
   "id": "1f38c449",
   "metadata": {},
   "outputs": [],
   "source": [
    "postflash_data=postflash_data.sort_values(by='datetime')"
   ]
  },
  {
   "cell_type": "markdown",
   "id": "2ac0f79b",
   "metadata": {},
   "source": [
    "To run the stacking code you need to run: stack(path_list, path_outfile, path_error_outfile)"
   ]
  },
  {
   "cell_type": "code",
   "execution_count": null,
   "id": "bb452739",
   "metadata": {},
   "outputs": [],
   "source": [
    "#years = [2012, 2013, 2014, 2015, 2016, 2017, 2018, 2019, 2020, 2021, 2022]\n",
    "cadence = 1\n",
    "years=[2022]\n",
    "\n",
    "for y in years: \n",
    "    A_shutter_paths_year, A_shutter_outfile_year, A_shutter_error_outfile_year, A_shutter_fullframe_pf_year = create_reference_file(y, working_directory, today, cadence, postflash_data,shutter='A')\n",
    "    B_shutter_paths_year, B_shutter_outfile_year, B_shutter_error_outfile_year, B_shutter_fullframe_pf_year = create_reference_file(y, working_directory, today, cadence, postflash_data,shutter='B')\n",
    "    #stack(A_shutter_paths_year, A_shutter_outfile_year, A_shutter_error_outfile_year)\n",
    "    #stack(B_shutter_paths_year, B_shutter_outfile_year, B_shutter_error_outfile_year)"
   ]
  },
  {
   "cell_type": "code",
   "execution_count": null,
   "id": "62063070",
   "metadata": {},
   "outputs": [],
   "source": [
    "A_shutter_error_outfile_year"
   ]
  },
  {
   "cell_type": "code",
   "execution_count": null,
   "id": "9ed4f3ab",
   "metadata": {},
   "outputs": [],
   "source": [
    "B_shutter_paths_year"
   ]
  },
  {
   "cell_type": "markdown",
   "id": "underlying-israeli",
   "metadata": {},
   "source": [
    "Bi-yearly"
   ]
  },
  {
   "cell_type": "code",
   "execution_count": null,
   "id": "racial-clear",
   "metadata": {},
   "outputs": [],
   "source": [
    "years = [2012, 2014, 2016, 2018, 2020]\n",
    "cadence = 2\n",
    "\n",
    "for y in years: \n",
    "    paths_year, outfile_year, error_outfile_year, fullframe_pf_year = create_reference_file(y, working_directory, today, cadence, postflash_data)\n",
    "    #stack(paths_year, outfile_year, error_outfile_year)"
   ]
  },
  {
   "cell_type": "markdown",
   "id": "hungarian-customs",
   "metadata": {},
   "source": [
    "Five Year"
   ]
  },
  {
   "cell_type": "code",
   "execution_count": null,
   "id": "fossil-invitation",
   "metadata": {},
   "outputs": [],
   "source": [
    "postflash_data=postflash_data.sort_values(by='datetime')\n",
    "years = [2012,2017]\n",
    "cadence = 5\n",
    "\n",
    "for y in years: \n",
    "    paths_year, outfile_year, error_outfile_year, fullframe_pf_year = create_reference_file(y, working_directory, today, cadence, postflash_data)\n",
    "    #stack(paths_year, outfile_year, error_outfile_year)"
   ]
  },
  {
   "cell_type": "markdown",
   "id": "stopped-receiver",
   "metadata": {},
   "source": [
    "All time/10 years"
   ]
  },
  {
   "cell_type": "code",
   "execution_count": null,
   "id": "compact-diamond",
   "metadata": {},
   "outputs": [],
   "source": [
    "years = [2012]\n",
    "cadence = 10\n",
    "\n",
    "for y in years: \n",
    "    paths_year, outfile_year, error_outfile_year, fullframe_pf_year = create_reference_file(y, working_directory, today, cadence, postflash_data)\n",
    "    #stack(paths_year, outfile_year, error_outfile_year)"
   ]
  },
  {
   "cell_type": "markdown",
   "id": "70e83181",
   "metadata": {},
   "source": [
    "Adding a change_permissions function: "
   ]
  },
  {
   "cell_type": "code",
   "execution_count": null,
   "id": "4f8a37e0",
   "metadata": {},
   "outputs": [],
   "source": [
    "change_permissions(working_directory)"
   ]
  },
  {
   "cell_type": "code",
   "execution_count": null,
   "id": "bef9fd6b",
   "metadata": {},
   "outputs": [],
   "source": [
    "filename = working_directory + '2022_fullframe_A_flc_stack_2023-03-13_low.fits'\n",
    "prior_pf_file = working_directory +'6c82011pi_fls.fits' # 2021 low A\n",
    "error_file = working_directory + '2022_fullframe_A_flc_error_stack_2023-03-13_low.fits'\n",
    "shutter_flag = 'A'\n",
    "final_cal(filename, prior_pf_file, error_file, shutter_flag, current='low')"
   ]
  },
  {
   "cell_type": "code",
   "execution_count": null,
   "id": "df474f9d",
   "metadata": {},
   "outputs": [],
   "source": [
    "filename = working_directory + '2022_fullframe_A_flc_stack_2023-03-13_med.fits'\n",
    "prior_pf_file = working_directory +'6c82011pi_fls.fits' # 2021 med A\n",
    "error_file = working_directory + '2022_fullframe_A_flc_error_stack_2023-03-13_med.fits'\n",
    "shutter_flag = 'A'\n",
    "final_cal(filename, prior_pf_file, error_file, shutter_flag, current='med')"
   ]
  },
  {
   "cell_type": "code",
   "execution_count": null,
   "id": "bfdc17ec",
   "metadata": {},
   "outputs": [],
   "source": [
    "filename = working_directory + '2022_fullframe_B_flc_stack_2023-03-13_low.fits'\n",
    "prior_pf_file = working_directory + '6c82014gi_fls.fits' # 2021 low B\n",
    "error_file = working_directory + '2022_fullframe_B_flc_error_stack_2023-03-13_low.fits'\n",
    "shutter_flag = 'B'\n",
    "final_cal(filename, prior_pf_file, error_file, shutter_flag, current='low')"
   ]
  },
  {
   "cell_type": "code",
   "execution_count": null,
   "id": "56c93849",
   "metadata": {},
   "outputs": [],
   "source": [
    "filename = working_directory + '2022_fullframe_B_flc_stack_2023-03-13_med.fits'\n",
    "prior_pf_file = working_directory + '6c82014gi_fls.fits' # 2021 low B\n",
    "error_file = working_directory + '2022_fullframe_B_flc_error_stack_2023-03-13_med.fits'\n",
    "shutter_flag = 'B'\n",
    "final_cal(filename, prior_pf_file, error_file, shutter_flag, current='med')"
   ]
  },
  {
   "cell_type": "code",
   "execution_count": null,
   "id": "bc2799c5",
   "metadata": {},
   "outputs": [],
   "source": []
  }
 ],
 "metadata": {
  "kernelspec": {
   "display_name": "Python 3 (ipykernel)",
   "language": "python",
   "name": "python3"
  },
  "language_info": {
   "codemirror_mode": {
    "name": "ipython",
    "version": 3
   },
   "file_extension": ".py",
   "mimetype": "text/x-python",
   "name": "python",
   "nbconvert_exporter": "python",
   "pygments_lexer": "ipython3",
   "version": "3.9.16"
  },
  "toc": {
   "base_numbering": 1,
   "nav_menu": {},
   "number_sections": true,
   "sideBar": true,
   "skip_h1_title": false,
   "title_cell": "Table of Contents",
   "title_sidebar": "Contents",
   "toc_cell": false,
   "toc_position": {},
   "toc_section_display": true,
   "toc_window_display": false
  }
 },
 "nbformat": 4,
 "nbformat_minor": 5
}
