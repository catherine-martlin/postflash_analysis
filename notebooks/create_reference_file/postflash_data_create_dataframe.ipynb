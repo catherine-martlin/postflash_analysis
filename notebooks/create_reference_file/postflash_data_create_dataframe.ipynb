{
 "cells": [
  {
   "cell_type": "markdown",
   "metadata": {},
   "source": [
    "# Download the post-flash data"
   ]
  },
  {
   "cell_type": "code",
   "execution_count": null,
   "metadata": {},
   "outputs": [],
   "source": [
    "import glob\n",
    "import os\n",
    "import shutil\n",
    "\n",
    "from astropy.io import ascii\n",
    "from astropy.io import fits\n",
    "from astropy.table import Table\n",
    "from astroquery.mast import Observations\n",
    "from astropy import stats\n",
    "\n",
    "import numpy as np\n",
    "import pandas as pd\n",
    "\n",
    "%matplotlib inline"
   ]
  },
  {
   "cell_type": "code",
   "execution_count": null,
   "metadata": {},
   "outputs": [],
   "source": [
    "postflash_proposal_list = [16570,16982] #[13078,13560,14006,14372,14535,14984,15573,15718,16398,16570,16982]\n",
    "working_directory = '/Users/cmartlin/Desktop/postflash_2022_creation/'\n",
    "database_filename = working_directory + 'March_2023_all_postflash_flc.pkl'"
   ]
  },
  {
   "cell_type": "code",
   "execution_count": null,
   "metadata": {
    "scrolled": true
   },
   "outputs": [],
   "source": [
    "postflash_proposals = Observations.query_criteria(proposal_id=postflash_proposal_list)\n",
    "\n",
    "science_list = postflash_proposals\n",
    "\n",
    "Observations.download_products(science_list['obsid'], mrp_only=False, download_dir='./science',\n",
    "                                productSubGroupDescription=['FLC', 'RAW'])"
   ]
  },
  {
   "cell_type": "code",
   "execution_count": null,
   "metadata": {},
   "outputs": [],
   "source": [
    "files_fits = glob.glob( './science/mastDownload/HST/*/*flc.fits')\n",
    "print(len(files_fits))\n",
    "test = files_fits[:]"
   ]
  },
  {
   "cell_type": "markdown",
   "metadata": {},
   "source": [
    "# Gather info from header"
   ]
  },
  {
   "cell_type": "code",
   "execution_count": null,
   "metadata": {
    "scrolled": true
   },
   "outputs": [],
   "source": [
    "file_name = []\n",
    "prop_id = []\n",
    "paths = []\n",
    "rootname = []\n",
    "obsdate = []\n",
    "obstime = []\n",
    "shutter = []\n",
    "flash_lvl = []\n",
    "flash_dur = []\n",
    "\n",
    "flash_cur = []\n",
    "subarray = []\n",
    "exp_time = []\n",
    "\n",
    "for f in test:\n",
    "    print(f)\n",
    "    try:\n",
    "        data = fits.open(f)\n",
    "        rootname_val = data[0].header['ROOTNAME']\n",
    "        filename_val = data[0].header['FILENAME']\n",
    "        propid_val = data[0].header['PROPOSID']\n",
    "        date_val = data[0].header['DATE-OBS']\n",
    "        time_val = data[0].header['TIME-OBS']\n",
    "        exptime_val = data[0].header['EXPTIME']\n",
    "        subarray_val = data[0].header['SUBARRAY']\n",
    "        flash_dur_val = data[0].header['FLASHDUR']\n",
    "        flash_cur_val = data[0].header['FLASHCUR']\n",
    "        flash_lvl_val = data[0].header['FLASHLVL']\n",
    "        shutter_val = data[0].header['SHUTRPOS']\n",
    "        print(rootname_val)\n",
    "\n",
    "        file_name.append(filename_val)\n",
    "        prop_id.append(propid_val)\n",
    "        paths.append(f)\n",
    "        rootname.append(rootname_val)\n",
    "        obsdate.append(date_val)\n",
    "        obstime.append(time_val)\n",
    "        shutter.append(shutter_val)\n",
    "        flash_lvl.append(flash_lvl_val)\n",
    "        flash_dur.append(flash_dur_val)\n",
    "        flash_cur.append(flash_cur_val)\n",
    "        subarray.append(subarray_val)\n",
    "        exp_time.append(exptime_val)\n",
    "\n",
    "        data.close()\n",
    "    except: \n",
    "        print('File is corrupt and could not open.')\n"
   ]
  },
  {
   "cell_type": "markdown",
   "metadata": {},
   "source": [
    "# Create dataframe from the header info"
   ]
  },
  {
   "cell_type": "code",
   "execution_count": null,
   "metadata": {},
   "outputs": [],
   "source": [
    "dict = {'filename':file_name,'propid': prop_id, 'path': paths, 'rootname': rootname, \n",
    "        'obsdate': obsdate, 'obstime': obstime, 'shutter': shutter, 'flash_lvl': flash_lvl,\n",
    "        'flash_dur': flash_dur, 'flash_cur': flash_cur, 'subarray': subarray,\n",
    "        'exp_time': exp_time}\n",
    "\n",
    "postflash_data = pd.DataFrame(dict) \n",
    "\n",
    "postflash_data = postflash_data.set_index('rootname')\n",
    "\n",
    "postflash_data.to_pickle(database_filename)"
   ]
  },
  {
   "cell_type": "code",
   "execution_count": null,
   "metadata": {},
   "outputs": [],
   "source": [
    "postflash_data"
   ]
  },
  {
   "cell_type": "code",
   "execution_count": null,
   "metadata": {},
   "outputs": [],
   "source": [
    "postflash_data = pd.read_pickle(database_filename)\n",
    "subarray_pf = postflash_data.loc[(postflash_data['subarray'] == True)] \n",
    "fullframe_pf = postflash_data.loc[(postflash_data['subarray'] == False)] \n",
    "sub_paths = subarray_pf.path.tolist()\n",
    "all_paths = postflash_data.path.tolist()\n",
    "print (all_paths)"
   ]
  },
  {
   "cell_type": "markdown",
   "metadata": {},
   "source": [
    "# Create stats info."
   ]
  },
  {
   "cell_type": "code",
   "execution_count": null,
   "metadata": {
    "scrolled": true
   },
   "outputs": [],
   "source": [
    "means = []\n",
    "sig_means = []\n",
    "medians = []\n",
    "sig_medians = []\n",
    "stds = []\n",
    "sig_stds = []\n",
    "\n",
    "for f in all_paths:\n",
    "    path = f\n",
    "    print(path)\n",
    "    data = fits.getdata(path)\n",
    "    data_clip = stats.sigma_clip(data, 3)\n",
    "    \n",
    "    mean = np.mean(data)\n",
    "    sig_mean = np.mean(data_clip)\n",
    "    median = np.median(data)\n",
    "    sig_median = np.median(data_clip)\n",
    "    std = np.std(data)\n",
    "    sig_std = np.std(data_clip)\n",
    "    \n",
    "    \n",
    "    means.append(mean)\n",
    "    sig_means.append(sig_mean)\n",
    "    medians.append(median)\n",
    "    sig_medians.append(sig_median)\n",
    "    stds.append(std)\n",
    "    sig_stds.append(sig_std)"
   ]
  },
  {
   "cell_type": "markdown",
   "metadata": {},
   "source": [
    "# Create dataframe from output data. "
   ]
  },
  {
   "cell_type": "code",
   "execution_count": null,
   "metadata": {},
   "outputs": [],
   "source": [
    "dict = {'path': all_paths, 'mean': means, 'sig_mean': sig_means,'median': medians, 'sig_median': sig_medians, 'std': stds, 'sig_std': sig_stds}\n",
    "path_and_stats_sub = pd.DataFrame(dict)\n",
    "\n",
    "all_stats = pd.merge(left=postflash_data, right=path_and_stats_sub, left_on='path', right_on='path').set_index(postflash_data.index)"
   ]
  },
  {
   "cell_type": "code",
   "execution_count": null,
   "metadata": {},
   "outputs": [],
   "source": [
    "all_stats['norm_by_dur'] = (all_stats['sig_mean']/all_stats['flash_dur'])\n",
    "all_stats.to_pickle(database_filename)\n",
    "all_stats = pd.read_pickle(database_filename)\n",
    "print (all_stats)"
   ]
  },
  {
   "cell_type": "code",
   "execution_count": null,
   "metadata": {},
   "outputs": [],
   "source": [
    "all_stats['datetime'] = pd.to_datetime(all_stats['obsdate'] + ' ' + all_stats['obstime'])\n",
    "all_stats.to_pickle(database_filename)"
   ]
  },
  {
   "cell_type": "code",
   "execution_count": null,
   "metadata": {},
   "outputs": [],
   "source": [
    "all_stats"
   ]
  },
  {
   "cell_type": "code",
   "execution_count": null,
   "metadata": {},
   "outputs": [],
   "source": []
  }
 ],
 "metadata": {
  "kernelspec": {
   "display_name": "Python 3 (ipykernel)",
   "language": "python",
   "name": "python3"
  },
  "language_info": {
   "codemirror_mode": {
    "name": "ipython",
    "version": 3
   },
   "file_extension": ".py",
   "mimetype": "text/x-python",
   "name": "python",
   "nbconvert_exporter": "python",
   "pygments_lexer": "ipython3",
   "version": "3.9.16"
  },
  "toc": {
   "base_numbering": 1,
   "nav_menu": {},
   "number_sections": true,
   "sideBar": true,
   "skip_h1_title": false,
   "title_cell": "Table of Contents",
   "title_sidebar": "Contents",
   "toc_cell": false,
   "toc_position": {},
   "toc_section_display": true,
   "toc_window_display": false
  }
 },
 "nbformat": 4,
 "nbformat_minor": 4
}
