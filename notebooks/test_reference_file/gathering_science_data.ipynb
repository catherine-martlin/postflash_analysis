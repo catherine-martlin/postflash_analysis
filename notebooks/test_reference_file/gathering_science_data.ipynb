{
 "cells": [
  {
   "cell_type": "code",
   "execution_count": null,
   "id": "bedd8c91",
   "metadata": {},
   "outputs": [],
   "source": [
    "import glob\n",
    "import os\n",
    "\n",
    "from astropy.io import fits\n",
    "from astroquery.mast import Observations\n",
    "from wfc3tools import calwf3"
   ]
  },
  {
   "cell_type": "code",
   "execution_count": null,
   "id": "3eee81de",
   "metadata": {},
   "outputs": [],
   "source": [
    "def getting_sci_data_info(propid, obserid, filetype):\n",
    "    obsTable = Observations.query_criteria(proposal_id=[propid], obs_id=[obserid])\n",
    "    product_list = Observations.get_product_list(obsTable)\n",
    "    BM = (product_list['productSubGroupDescription']  == filetype) \n",
    "    product_list = product_list[BM]\n",
    "\n",
    "    return product_list"
   ]
  },
  {
   "cell_type": "code",
   "execution_count": null,
   "id": "ed994ca7",
   "metadata": {},
   "outputs": [],
   "source": [
    "propid='12527'\n",
    "obserid='IBRU01040'\n",
    "filetype = 'FLC' \n",
    "\n",
    "product_list = getting_sci_data_info(propid,obserid,filetype)\n",
    "product_list.show_in_notebook(display_length=20)"
   ]
  },
  {
   "cell_type": "code",
   "execution_count": null,
   "id": "8c2488dd",
   "metadata": {},
   "outputs": [],
   "source": [
    "print(product_list['obs_id'][6:7])\n",
    "myID = product_list['obsID'][6:7]\n",
    "download = Observations.download_products(myID,mrp_only=False,productSubGroupDescription=['FLC'])"
   ]
  },
  {
   "cell_type": "code",
   "execution_count": null,
   "id": "cd7e24fd",
   "metadata": {},
   "outputs": [],
   "source": [
    "propid='12959'\n",
    "obserid='IC1707020'\n",
    "filetype='FLC'\n",
    "\n",
    "product_list = getting_sci_data_info(propid,obserid,filetype)\n",
    "product_list.show_in_notebook(display_length=20)"
   ]
  },
  {
   "cell_type": "code",
   "execution_count": null,
   "id": "eac58b0f",
   "metadata": {},
   "outputs": [],
   "source": [
    "print(product_list['obs_id'][7:8])\n",
    "myID = product_list['obsID'][7:8]\n",
    "download = Observations.download_products(myID,mrp_only=False,productSubGroupDescription=['FLC'])"
   ]
  },
  {
   "cell_type": "code",
   "execution_count": null,
   "id": "58b47a5e",
   "metadata": {},
   "outputs": [],
   "source": [
    "propid='13297'\n",
    "obserid='ICAU22020'\n",
    "filetype = 'FLC' \n",
    "\n",
    "product_list = getting_sci_data_info(propid,obserid,filetype)\n",
    "product_list.show_in_notebook(display_length=20)"
   ]
  },
  {
   "cell_type": "code",
   "execution_count": null,
   "id": "a8c6b724",
   "metadata": {},
   "outputs": [],
   "source": [
    "print(product_list['obs_id'][6:7])\n",
    "myID = product_list['obsID'][6:7]\n",
    "download = Observations.download_products(myID,mrp_only=False,productSubGroupDescription=['FLC'])"
   ]
  },
  {
   "cell_type": "code",
   "execution_count": null,
   "id": "fe23ab14",
   "metadata": {
    "scrolled": true
   },
   "outputs": [],
   "source": [
    "propid='13804'\n",
    "obserid='ICMX05030'\n",
    "filetype = 'FLC' \n",
    "\n",
    "product_list = getting_sci_data_info(propid,obserid,filetype)\n",
    "product_list.show_in_notebook(display_length=20)"
   ]
  },
  {
   "cell_type": "code",
   "execution_count": null,
   "id": "12dd9b59",
   "metadata": {},
   "outputs": [],
   "source": [
    "print(product_list['obs_id'][2:3])\n",
    "myID = product_list['obsID'][2:3]\n",
    "download = Observations.download_products(myID,mrp_only=False,productSubGroupDescription=['FLC'])"
   ]
  },
  {
   "cell_type": "code",
   "execution_count": null,
   "id": "6fe7ec65",
   "metadata": {},
   "outputs": [],
   "source": [
    "propid='14164'\n",
    "obserid='ICW806050'\n",
    "filetype = 'FLC' \n",
    "\n",
    "product_list = getting_sci_data_info(propid,obserid,filetype)\n",
    "product_list.show_in_notebook(display_length=20)"
   ]
  },
  {
   "cell_type": "code",
   "execution_count": null,
   "id": "37f20860",
   "metadata": {},
   "outputs": [],
   "source": [
    "print(product_list['obs_id'][5:6])\n",
    "myID = product_list['obsID'][5:6]\n",
    "download = Observations.download_products(myID,mrp_only=False,productSubGroupDescription=['FLC'])"
   ]
  },
  {
   "cell_type": "code",
   "execution_count": null,
   "id": "0c1b5efb",
   "metadata": {},
   "outputs": [],
   "source": [
    "propid='14610'\n",
    "obserid='IDB616030'\n",
    "filetype = 'FLC' \n",
    "\n",
    "product_list = getting_sci_data_info(propid,obserid,filetype)\n",
    "product_list.show_in_notebook(display_length=20)"
   ]
  },
  {
   "cell_type": "code",
   "execution_count": null,
   "id": "8f266cf9",
   "metadata": {},
   "outputs": [],
   "source": [
    "print(product_list['obs_id'][2:3])\n",
    "myID = product_list['obsID'][2:3]\n",
    "download = Observations.download_products(myID,mrp_only=False,productSubGroupDescription=['FLC'])"
   ]
  },
  {
   "cell_type": "code",
   "execution_count": null,
   "id": "7aa67c81",
   "metadata": {},
   "outputs": [],
   "source": [
    "propid='15275'\n",
    "obserid='IDN011030'\n",
    "filetype = 'FLC' \n",
    "\n",
    "product_list = getting_sci_data_info(propid,obserid,filetype)\n",
    "product_list.show_in_notebook(display_length=20)"
   ]
  },
  {
   "cell_type": "code",
   "execution_count": null,
   "id": "b14b772c",
   "metadata": {},
   "outputs": [],
   "source": [
    "print(product_list['obs_id'][6:7])\n",
    "myID = product_list['obsID'][6:7]\n",
    "download = Observations.download_products(myID,mrp_only=False,productSubGroupDescription=['FLC'])"
   ]
  },
  {
   "cell_type": "code",
   "execution_count": null,
   "id": "cd8272ba",
   "metadata": {},
   "outputs": [],
   "source": [
    "propid='15083'\n",
    "obserid='IDLE02010'\n",
    "filetype = 'FLC' \n",
    "\n",
    "product_list = getting_sci_data_info(propid,obserid,filetype)\n",
    "product_list.show_in_notebook(display_length=20)"
   ]
  },
  {
   "cell_type": "code",
   "execution_count": null,
   "id": "d1af916f",
   "metadata": {},
   "outputs": [],
   "source": [
    "print(product_list['obs_id'][6:7])\n",
    "myID = product_list['obsID'][6:7]\n",
    "download = Observations.download_products(myID,mrp_only=False,productSubGroupDescription=['FLC'])"
   ]
  },
  {
   "cell_type": "code",
   "execution_count": null,
   "id": "a93959da",
   "metadata": {},
   "outputs": [],
   "source": [
    "propid='15275'\n",
    "obserid='IDN073030'\n",
    "filetype = 'FLC' \n",
    "\n",
    "product_list = getting_sci_data_info(propid,obserid,filetype)\n",
    "product_list.show_in_notebook(display_length=20)"
   ]
  },
  {
   "cell_type": "code",
   "execution_count": null,
   "id": "59a35366",
   "metadata": {},
   "outputs": [],
   "source": [
    "print(product_list['obs_id'][11:12])\n",
    "myID = product_list['obsID'][11:12]\n",
    "download = Observations.download_products(myID,mrp_only=False,productSubGroupDescription=['FLC'])"
   ]
  },
  {
   "cell_type": "code",
   "execution_count": null,
   "id": "96fc8cdb",
   "metadata": {},
   "outputs": [],
   "source": [
    "propid='15857'\n",
    "obserid='IE0O61LYQ'\n",
    "filetype = 'FLC' \n",
    "\n",
    "product_list = getting_sci_data_info(propid,obserid,filetype)\n",
    "product_list.show_in_notebook(display_length=20)"
   ]
  },
  {
   "cell_type": "code",
   "execution_count": null,
   "id": "c212a7d5",
   "metadata": {},
   "outputs": [],
   "source": [
    "print(product_list['obs_id'][1:2])\n",
    "myID = product_list['obsID'][1:2]\n",
    "download = Observations.download_products(myID,mrp_only=False,productSubGroupDescription=['FLC'])"
   ]
  }
 ],
 "metadata": {
  "kernelspec": {
   "display_name": "Python 3",
   "language": "python",
   "name": "python3"
  },
  "language_info": {
   "codemirror_mode": {
    "name": "ipython",
    "version": 3
   },
   "file_extension": ".py",
   "mimetype": "text/x-python",
   "name": "python",
   "nbconvert_exporter": "python",
   "pygments_lexer": "ipython3",
   "version": "3.6.12"
  },
  "toc": {
   "base_numbering": 1,
   "nav_menu": {},
   "number_sections": true,
   "sideBar": true,
   "skip_h1_title": false,
   "title_cell": "Table of Contents",
   "title_sidebar": "Contents",
   "toc_cell": false,
   "toc_position": {},
   "toc_section_display": true,
   "toc_window_display": false
  }
 },
 "nbformat": 4,
 "nbformat_minor": 5
}
