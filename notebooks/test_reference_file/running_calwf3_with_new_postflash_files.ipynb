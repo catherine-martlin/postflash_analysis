{
 "cells": [
  {
   "cell_type": "code",
   "execution_count": null,
   "metadata": {},
   "outputs": [],
   "source": [
    "import glob\n",
    "import os\n",
    "\n",
    "from astropy.io import fits\n",
    "from astroquery.mast import Observations\n",
    "from wfc3tools import calwf3"
   ]
  },
  {
   "cell_type": "code",
   "execution_count": null,
   "metadata": {
    "scrolled": false
   },
   "outputs": [],
   "source": [
    "#List of data which can be downloaded in gathering_science_data\n",
    "\n",
    "year='2012'\n",
    "propid='12527'\n",
    "obserid='IBRU01040'\n",
    "#year='2013'\n",
    "#propid='12959'\n",
    "#obserid='IC1707020'\n",
    "#year='2014'\n",
    "#propid='13297'\n",
    "#obserid='ICAU22020'\n",
    "#year='2015'\n",
    "#propid='13804'\n",
    "#obserid='ICMX05030'\n",
    "#year='2016'\n",
    "#propid='14164'\n",
    "#obserid='ICW806050'\n",
    "#year='2017'\n",
    "#propid='14610'\n",
    "#obserid='IDB616030'\n",
    "#year='2018'\n",
    "#propid='15275'\n",
    "#obserid='IDN011030'\n",
    "#year='2019'\n",
    "#propid='15083'\n",
    "#obserid='IDLE02010'\n",
    "#year='2020'\n",
    "#propid='15275'\n",
    "#obserid='IDN073030'\n",
    "#year='2021'\n",
    "#propid='15857'\n",
    "#obserid='IE0O61LYQ'"
   ]
  },
  {
   "cell_type": "code",
   "execution_count": null,
   "metadata": {},
   "outputs": [],
   "source": [
    "# Update filename as needed:\n",
    "\n",
    "local_path = download['Local Path'][0]\n",
    "filename = '2012_yearly_low_10_18_2022_' + local_path[29:]\n",
    "os.system('cp {} {}'.format(local_path, filename))"
   ]
  },
  {
   "cell_type": "code",
   "execution_count": null,
   "metadata": {
    "scrolled": false
   },
   "outputs": [],
   "source": [
    "raw_files = glob.glob('*raw.fits') \n",
    "# Check that the postflash file was updated: \n",
    "#for file in glob.glob('*raw.fits'):\n",
    "for file in glob.glob(filename):\n",
    "    hdu = fits.open(file)\n",
    "    print(hdu[0].header['SHUTRPOS'])\n",
    "    hdu.close()\n",
    "\n",
    "#for file in raw_files:\n",
    " #   command_line_input = 'crds bestrefs --files {:} --sync-references=1 --update-bestrefs'.format(file)\n",
    " #   os.system(command_line_input)"
   ]
  },
  {
   "cell_type": "code",
   "execution_count": null,
   "metadata": {},
   "outputs": [],
   "source": [
    "filename"
   ]
  },
  {
   "cell_type": "code",
   "execution_count": null,
   "metadata": {},
   "outputs": [],
   "source": [
    "from astropy.io import fits \n",
    "#calfile='2021_B_final_cal.fits'\n",
    "calfile='2012_pf_B_low_curr.fits'\n",
    "with fits.open(calfile,mode='update') as hdu:\n",
    "    h = hdu[0].header\n",
    "   # h.set('FILETYPE', 'FLSHFILE')\n",
    "    #FILETYPE= 'POST FLASH'         / type of data found in data file   \n",
    "    h.set('FILETYPE', 'POST FLASH')"
   ]
  },
  {
   "cell_type": "code",
   "execution_count": null,
   "metadata": {},
   "outputs": [],
   "source": [
    "# Check the current postflash values for the raw files you want to test with:\n",
    "#for file in glob.glob('*raw.fits'):\n",
    "for file in glob.glob(filename):\n",
    "    hdu = fits.open(file)\n",
    "    print(hdu[0].header['FLSHFILE'])\n",
    "    hdu.close()"
   ]
  },
  {
   "cell_type": "code",
   "execution_count": null,
   "metadata": {},
   "outputs": [],
   "source": [
    "# Open each raw and update header to have the new postflash file\n",
    "\n",
    "#for file in glob.glob('*raw.fits'):\n",
    "for file in glob.glob(filename):\n",
    "    with fits.open(file,mode='update') as hdu:\n",
    "        h = hdu[0].header\n",
    "        h.set('FLSHFILE', calfile)    \n",
    "        h.set('FLSHCORR', 'PERFORM')"
   ]
  },
  {
   "cell_type": "code",
   "execution_count": null,
   "metadata": {},
   "outputs": [],
   "source": [
    "# Check that the postflash file was updated: \n",
    "#for file in glob.glob('*raw.fits'):\n",
    "for file in glob.glob(filename):\n",
    "    hdu = fits.open(file)\n",
    "    print(hdu[0].header['FLSHFILE'])\n",
    "    hdu.close()"
   ]
  },
  {
   "cell_type": "code",
   "execution_count": null,
   "metadata": {
    "scrolled": true
   },
   "outputs": [],
   "source": [
    "# Now run the darks through calibration with the new postflash file: \n",
    "for rawfits in glob.glob(filename):\n",
    "    calwf3(rawfits)"
   ]
  }
 ],
 "metadata": {
  "kernelspec": {
   "display_name": "Python 3",
   "language": "python",
   "name": "python3"
  },
  "language_info": {
   "codemirror_mode": {
    "name": "ipython",
    "version": 3
   },
   "file_extension": ".py",
   "mimetype": "text/x-python",
   "name": "python",
   "nbconvert_exporter": "python",
   "pygments_lexer": "ipython3",
   "version": "3.6.12"
  },
  "toc": {
   "base_numbering": 1,
   "nav_menu": {},
   "number_sections": true,
   "sideBar": true,
   "skip_h1_title": false,
   "title_cell": "Table of Contents",
   "title_sidebar": "Contents",
   "toc_cell": false,
   "toc_position": {},
   "toc_section_display": true,
   "toc_window_display": false
  }
 },
 "nbformat": 4,
 "nbformat_minor": 2
}
