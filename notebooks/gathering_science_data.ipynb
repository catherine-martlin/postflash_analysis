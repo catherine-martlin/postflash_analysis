{
 "cells": [
  {
   "cell_type": "code",
   "execution_count": 1,
   "id": "bfdfc4e6",
   "metadata": {},
   "outputs": [
    {
     "name": "stdout",
     "output_type": "stream",
     "text": [
      "The following tasks in the wfc3tools package can be run with TEAL:\n",
      "  calwf3    pstack    pstat     wf32d     wf3ccd    wf3cte    wf3ir     wf3rej\n"
     ]
    }
   ],
   "source": [
    "import glob\n",
    "import os\n",
    "\n",
    "from astropy.io import fits\n",
    "from astroquery.mast import Observations\n",
    "from wfc3tools import calwf3"
   ]
  },
  {
   "cell_type": "code",
   "execution_count": 2,
   "id": "express-engagement",
   "metadata": {},
   "outputs": [],
   "source": [
    "def getting_sci_data_info(propid, obserid, filetype):\n",
    "    obsTable = Observations.query_criteria(proposal_id=[propid], obs_id=[obserid])\n",
    "    product_list = Observations.get_product_list(obsTable)\n",
    "    BM = (product_list['productSubGroupDescription']  == filetype) \n",
    "    product_list = product_list[BM]\n",
    "\n",
    "    return product_list"
   ]
  },
  {
   "cell_type": "code",
   "execution_count": 3,
   "id": "edabc68a",
   "metadata": {},
   "outputs": [
    {
     "data": {
      "text/html": [
       "<i>Table length=8</i>\n",
       "<table id=\"table140458057621456-289502\" class=\"table-striped table-bordered table-condensed\">\n",
       "<thead><tr><th>idx</th><th>obsID</th><th>obs_collection</th><th>dataproduct_type</th><th>obs_id</th><th>description</th><th>type</th><th>dataURI</th><th>productType</th><th>productGroupDescription</th><th>productSubGroupDescription</th><th>productDocumentationURL</th><th>project</th><th>prvversion</th><th>proposal_id</th><th>productFilename</th><th>size</th><th>parent_obsid</th><th>dataRights</th><th>calib_level</th></tr></thead>\n",
       "<tr><td>0</td><td>26560203</td><td>HST</td><td>image</td><td>hst_12527_01_wfc3_uvis_f336w_ibru01ke</td><td>HAP flat-field product</td><td>D</td><td>mast:HST/product/hst_12527_01_wfc3_uvis_f336w_ibru01ke_flc.fits</td><td>SCIENCE</td><td>--</td><td>FLC</td><td>--</td><td>HAP</td><td>DrizzlePac 3.4.1</td><td>12527</td><td>hst_12527_01_wfc3_uvis_f336w_ibru01ke_flc.fits</td><td>168678720</td><td>24805057</td><td>PUBLIC</td><td>2</td></tr>\n",
       "<tr><td>1</td><td>26560307</td><td>HST</td><td>image</td><td>hst_12527_01_wfc3_uvis_f336w_ibru01ki</td><td>HAP flat-field product</td><td>D</td><td>mast:HST/product/hst_12527_01_wfc3_uvis_f336w_ibru01ki_flc.fits</td><td>SCIENCE</td><td>--</td><td>FLC</td><td>--</td><td>HAP</td><td>DrizzlePac 3.4.1</td><td>12527</td><td>hst_12527_01_wfc3_uvis_f336w_ibru01ki_flc.fits</td><td>168678720</td><td>24805057</td><td>PUBLIC</td><td>2</td></tr>\n",
       "<tr><td>2</td><td>26560256</td><td>HST</td><td>image</td><td>hst_12527_01_wfc3_uvis_f336w_ibru01kn</td><td>HAP flat-field product</td><td>D</td><td>mast:HST/product/hst_12527_01_wfc3_uvis_f336w_ibru01kn_flc.fits</td><td>SCIENCE</td><td>--</td><td>FLC</td><td>--</td><td>HAP</td><td>DrizzlePac 3.4.1</td><td>12527</td><td>hst_12527_01_wfc3_uvis_f336w_ibru01kn_flc.fits</td><td>168678720</td><td>24805057</td><td>PUBLIC</td><td>2</td></tr>\n",
       "<tr><td>3</td><td>26560218</td><td>HST</td><td>image</td><td>hst_12527_01_wfc3_uvis_f336w_ibru01kr</td><td>HAP flat-field product</td><td>D</td><td>mast:HST/product/hst_12527_01_wfc3_uvis_f336w_ibru01kr_flc.fits</td><td>SCIENCE</td><td>--</td><td>FLC</td><td>--</td><td>HAP</td><td>DrizzlePac 3.4.1</td><td>12527</td><td>hst_12527_01_wfc3_uvis_f336w_ibru01kr_flc.fits</td><td>168678720</td><td>24805057</td><td>PUBLIC</td><td>2</td></tr>\n",
       "<tr><td>4</td><td>23884631</td><td>HST</td><td>image</td><td>ibru01keq</td><td>DADS FLC file - CTE-corrected calibrated exposure ACS/WFC3</td><td>S</td><td>mast:HST/product/ibru01keq_flc.fits</td><td>SCIENCE</td><td>--</td><td>FLC</td><td>--</td><td>CALWF3</td><td>3.6.2 (May-27-2021)</td><td>12527</td><td>ibru01keq_flc.fits</td><td>168678720</td><td>24805057</td><td>PUBLIC</td><td>2</td></tr>\n",
       "<tr><td>5</td><td>23884632</td><td>HST</td><td>image</td><td>ibru01kiq</td><td>DADS FLC file - CTE-corrected calibrated exposure ACS/WFC3</td><td>S</td><td>mast:HST/product/ibru01kiq_flc.fits</td><td>SCIENCE</td><td>--</td><td>FLC</td><td>--</td><td>CALWF3</td><td>3.6.2 (May-27-2021)</td><td>12527</td><td>ibru01kiq_flc.fits</td><td>168678720</td><td>24805057</td><td>PUBLIC</td><td>2</td></tr>\n",
       "<tr><td>6</td><td>23884633</td><td>HST</td><td>image</td><td>ibru01knq</td><td>DADS FLC file - CTE-corrected calibrated exposure ACS/WFC3</td><td>S</td><td>mast:HST/product/ibru01knq_flc.fits</td><td>SCIENCE</td><td>--</td><td>FLC</td><td>--</td><td>CALWF3</td><td>3.6.2 (May-27-2021)</td><td>12527</td><td>ibru01knq_flc.fits</td><td>168678720</td><td>24805057</td><td>PUBLIC</td><td>2</td></tr>\n",
       "<tr><td>7</td><td>23884634</td><td>HST</td><td>image</td><td>ibru01krq</td><td>DADS FLC file - CTE-corrected calibrated exposure ACS/WFC3</td><td>S</td><td>mast:HST/product/ibru01krq_flc.fits</td><td>SCIENCE</td><td>--</td><td>FLC</td><td>--</td><td>CALWF3</td><td>3.6.2 (May-27-2021)</td><td>12527</td><td>ibru01krq_flc.fits</td><td>168678720</td><td>24805057</td><td>PUBLIC</td><td>2</td></tr>\n",
       "</table><style>table.dataTable {clear: both; width: auto !important; margin: 0 !important;}\n",
       ".dataTables_info, .dataTables_length, .dataTables_filter, .dataTables_paginate{\n",
       "display: inline-block; margin-right: 1em; }\n",
       ".paginate_button { margin-right: 5px; }\n",
       "</style>\n",
       "<script>\n",
       "\n",
       "var astropy_sort_num = function(a, b) {\n",
       "    var a_num = parseFloat(a);\n",
       "    var b_num = parseFloat(b);\n",
       "\n",
       "    if (isNaN(a_num) && isNaN(b_num))\n",
       "        return ((a < b) ? -1 : ((a > b) ? 1 : 0));\n",
       "    else if (!isNaN(a_num) && !isNaN(b_num))\n",
       "        return ((a_num < b_num) ? -1 : ((a_num > b_num) ? 1 : 0));\n",
       "    else\n",
       "        return isNaN(a_num) ? -1 : 1;\n",
       "}\n",
       "\n",
       "require.config({paths: {\n",
       "    datatables: 'https://cdn.datatables.net/1.10.12/js/jquery.dataTables.min'\n",
       "}});\n",
       "require([\"datatables\"], function(){\n",
       "    console.log(\"$('#table140458057621456-289502').dataTable()\");\n",
       "    \n",
       "jQuery.extend( jQuery.fn.dataTableExt.oSort, {\n",
       "    \"optionalnum-asc\": astropy_sort_num,\n",
       "    \"optionalnum-desc\": function (a,b) { return -astropy_sort_num(a, b); }\n",
       "});\n",
       "\n",
       "    $('#table140458057621456-289502').dataTable({\n",
       "        order: [],\n",
       "        pageLength: 20,\n",
       "        lengthMenu: [[20, 10, 25, 50, 100, 500, 1000, -1], [20, 10, 25, 50, 100, 500, 1000, 'All']],\n",
       "        pagingType: \"full_numbers\",\n",
       "        columnDefs: [{targets: [0, 16, 19], type: \"optionalnum\"}]\n",
       "    });\n",
       "});\n",
       "</script>\n"
      ],
      "text/plain": [
       "<IPython.core.display.HTML object>"
      ]
     },
     "execution_count": 3,
     "metadata": {},
     "output_type": "execute_result"
    }
   ],
   "source": [
    "propid='12527'\n",
    "obserid='IBRU01040'\n",
    "filetype = 'FLC' \n",
    "\n",
    "product_list = getting_sci_data_info(propid,obserid,filetype)\n",
    "product_list.show_in_notebook(display_length=20)"
   ]
  },
  {
   "cell_type": "code",
   "execution_count": 4,
   "id": "voluntary-affairs",
   "metadata": {},
   "outputs": [
    {
     "name": "stdout",
     "output_type": "stream",
     "text": [
      "  obs_id \n",
      "---------\n",
      "ibru01knq\n",
      "Downloading URL https://mast.stsci.edu/api/v0.1/Download/file?uri=mast:HST/product/hst_12527_01_wfc3_uvis_f336w_ibru01kn_flc.fits to ./mastDownload/HST/hst_12527_01_wfc3_uvis_f336w_ibru01kn/hst_12527_01_wfc3_uvis_f336w_ibru01kn_flc.fits ... [Done]\n",
      "Downloading URL https://mast.stsci.edu/api/v0.1/Download/file?uri=mast:HST/product/ibru01knq_flc.fits to ./mastDownload/HST/ibru01knq/ibru01knq_flc.fits ... [Done]\n"
     ]
    }
   ],
   "source": [
    "print(product_list['obs_id'][6:7])\n",
    "myID = product_list['obsID'][6:7]\n",
    "download = Observations.download_products(myID,mrp_only=False,productSubGroupDescription=['FLC'])"
   ]
  },
  {
   "cell_type": "code",
   "execution_count": 5,
   "id": "human-alcohol",
   "metadata": {},
   "outputs": [
    {
     "data": {
      "text/html": [
       "<i>Table length=8</i>\n",
       "<table id=\"table140456436542320-335301\" class=\"table-striped table-bordered table-condensed\">\n",
       "<thead><tr><th>idx</th><th>obsID</th><th>obs_collection</th><th>dataproduct_type</th><th>obs_id</th><th>description</th><th>type</th><th>dataURI</th><th>productType</th><th>productGroupDescription</th><th>productSubGroupDescription</th><th>productDocumentationURL</th><th>project</th><th>prvversion</th><th>proposal_id</th><th>productFilename</th><th>size</th><th>parent_obsid</th><th>dataRights</th><th>calib_level</th></tr></thead>\n",
       "<tr><td>0</td><td>26586001</td><td>HST</td><td>image</td><td>hst_12959_07_wfc3_uvis_f336w_ic1707bh</td><td>HAP flat-field product</td><td>D</td><td>mast:HST/product/hst_12959_07_wfc3_uvis_f336w_ic1707bh_flc.fits</td><td>SCIENCE</td><td>--</td><td>FLC</td><td>--</td><td>HAP</td><td>DrizzlePac 3.4.1</td><td>12959</td><td>hst_12959_07_wfc3_uvis_f336w_ic1707bh_flc.fits</td><td>168912000</td><td>24808967</td><td>PUBLIC</td><td>2</td></tr>\n",
       "<tr><td>1</td><td>26586023</td><td>HST</td><td>image</td><td>hst_12959_07_wfc3_uvis_f336w_ic1707bj</td><td>HAP flat-field product</td><td>D</td><td>mast:HST/product/hst_12959_07_wfc3_uvis_f336w_ic1707bj_flc.fits</td><td>SCIENCE</td><td>--</td><td>FLC</td><td>--</td><td>HAP</td><td>DrizzlePac 3.4.1</td><td>12959</td><td>hst_12959_07_wfc3_uvis_f336w_ic1707bj_flc.fits</td><td>168912000</td><td>24808967</td><td>PUBLIC</td><td>2</td></tr>\n",
       "<tr><td>2</td><td>26586041</td><td>HST</td><td>image</td><td>hst_12959_07_wfc3_uvis_f336w_ic1707bk</td><td>HAP flat-field product</td><td>D</td><td>mast:HST/product/hst_12959_07_wfc3_uvis_f336w_ic1707bk_flc.fits</td><td>SCIENCE</td><td>--</td><td>FLC</td><td>--</td><td>HAP</td><td>DrizzlePac 3.4.1</td><td>12959</td><td>hst_12959_07_wfc3_uvis_f336w_ic1707bk_flc.fits</td><td>168912000</td><td>24808967</td><td>PUBLIC</td><td>2</td></tr>\n",
       "<tr><td>3</td><td>26586053</td><td>HST</td><td>image</td><td>hst_12959_07_wfc3_uvis_f336w_ic1707bm</td><td>HAP flat-field product</td><td>D</td><td>mast:HST/product/hst_12959_07_wfc3_uvis_f336w_ic1707bm_flc.fits</td><td>SCIENCE</td><td>--</td><td>FLC</td><td>--</td><td>HAP</td><td>DrizzlePac 3.4.1</td><td>12959</td><td>hst_12959_07_wfc3_uvis_f336w_ic1707bm_flc.fits</td><td>168912000</td><td>24808967</td><td>PUBLIC</td><td>2</td></tr>\n",
       "<tr><td>4</td><td>23910699</td><td>HST</td><td>image</td><td>ic1707bhq</td><td>DADS FLC file - CTE-corrected calibrated exposure ACS/WFC3</td><td>S</td><td>mast:HST/product/ic1707bhq_flc.fits</td><td>SCIENCE</td><td>--</td><td>FLC</td><td>--</td><td>CALWF3</td><td>3.6.2 (May-27-2021)</td><td>12959</td><td>ic1707bhq_flc.fits</td><td>168796800</td><td>24808967</td><td>PUBLIC</td><td>2</td></tr>\n",
       "<tr><td>5</td><td>23910700</td><td>HST</td><td>image</td><td>ic1707bjq</td><td>DADS FLC file - CTE-corrected calibrated exposure ACS/WFC3</td><td>S</td><td>mast:HST/product/ic1707bjq_flc.fits</td><td>SCIENCE</td><td>--</td><td>FLC</td><td>--</td><td>CALWF3</td><td>3.6.2 (May-27-2021)</td><td>12959</td><td>ic1707bjq_flc.fits</td><td>168796800</td><td>24808967</td><td>PUBLIC</td><td>2</td></tr>\n",
       "<tr><td>6</td><td>23910701</td><td>HST</td><td>image</td><td>ic1707bkq</td><td>DADS FLC file - CTE-corrected calibrated exposure ACS/WFC3</td><td>S</td><td>mast:HST/product/ic1707bkq_flc.fits</td><td>SCIENCE</td><td>--</td><td>FLC</td><td>--</td><td>CALWF3</td><td>3.6.2 (May-27-2021)</td><td>12959</td><td>ic1707bkq_flc.fits</td><td>168796800</td><td>24808967</td><td>PUBLIC</td><td>2</td></tr>\n",
       "<tr><td>7</td><td>23910702</td><td>HST</td><td>image</td><td>ic1707bmq</td><td>DADS FLC file - CTE-corrected calibrated exposure ACS/WFC3</td><td>S</td><td>mast:HST/product/ic1707bmq_flc.fits</td><td>SCIENCE</td><td>--</td><td>FLC</td><td>--</td><td>CALWF3</td><td>3.6.2 (May-27-2021)</td><td>12959</td><td>ic1707bmq_flc.fits</td><td>168796800</td><td>24808967</td><td>PUBLIC</td><td>2</td></tr>\n",
       "</table><style>table.dataTable {clear: both; width: auto !important; margin: 0 !important;}\n",
       ".dataTables_info, .dataTables_length, .dataTables_filter, .dataTables_paginate{\n",
       "display: inline-block; margin-right: 1em; }\n",
       ".paginate_button { margin-right: 5px; }\n",
       "</style>\n",
       "<script>\n",
       "\n",
       "var astropy_sort_num = function(a, b) {\n",
       "    var a_num = parseFloat(a);\n",
       "    var b_num = parseFloat(b);\n",
       "\n",
       "    if (isNaN(a_num) && isNaN(b_num))\n",
       "        return ((a < b) ? -1 : ((a > b) ? 1 : 0));\n",
       "    else if (!isNaN(a_num) && !isNaN(b_num))\n",
       "        return ((a_num < b_num) ? -1 : ((a_num > b_num) ? 1 : 0));\n",
       "    else\n",
       "        return isNaN(a_num) ? -1 : 1;\n",
       "}\n",
       "\n",
       "require.config({paths: {\n",
       "    datatables: 'https://cdn.datatables.net/1.10.12/js/jquery.dataTables.min'\n",
       "}});\n",
       "require([\"datatables\"], function(){\n",
       "    console.log(\"$('#table140456436542320-335301').dataTable()\");\n",
       "    \n",
       "jQuery.extend( jQuery.fn.dataTableExt.oSort, {\n",
       "    \"optionalnum-asc\": astropy_sort_num,\n",
       "    \"optionalnum-desc\": function (a,b) { return -astropy_sort_num(a, b); }\n",
       "});\n",
       "\n",
       "    $('#table140456436542320-335301').dataTable({\n",
       "        order: [],\n",
       "        pageLength: 20,\n",
       "        lengthMenu: [[20, 10, 25, 50, 100, 500, 1000, -1], [20, 10, 25, 50, 100, 500, 1000, 'All']],\n",
       "        pagingType: \"full_numbers\",\n",
       "        columnDefs: [{targets: [0, 16, 19], type: \"optionalnum\"}]\n",
       "    });\n",
       "});\n",
       "</script>\n"
      ],
      "text/plain": [
       "<IPython.core.display.HTML object>"
      ]
     },
     "execution_count": 5,
     "metadata": {},
     "output_type": "execute_result"
    }
   ],
   "source": [
    "propid='12959'\n",
    "obserid='IC1707020'\n",
    "filetype='FLC'\n",
    "\n",
    "product_list = getting_sci_data_info(propid,obserid,filetype)\n",
    "product_list.show_in_notebook(display_length=20)"
   ]
  },
  {
   "cell_type": "code",
   "execution_count": 6,
   "id": "successful-suicide",
   "metadata": {},
   "outputs": [
    {
     "name": "stdout",
     "output_type": "stream",
     "text": [
      "  obs_id \n",
      "---------\n",
      "ic1707bmq\n",
      "Downloading URL https://mast.stsci.edu/api/v0.1/Download/file?uri=mast:HST/product/hst_12959_07_wfc3_uvis_f336w_ic1707bm_flc.fits to ./mastDownload/HST/hst_12959_07_wfc3_uvis_f336w_ic1707bm/hst_12959_07_wfc3_uvis_f336w_ic1707bm_flc.fits ... [Done]\n",
      "Downloading URL https://mast.stsci.edu/api/v0.1/Download/file?uri=mast:HST/product/ic1707bmq_flc.fits to ./mastDownload/HST/ic1707bmq/ic1707bmq_flc.fits ... [Done]\n"
     ]
    }
   ],
   "source": [
    "print(product_list['obs_id'][7:8])\n",
    "myID = product_list['obsID'][7:8]\n",
    "download = Observations.download_products(myID,mrp_only=False,productSubGroupDescription=['FLC'])"
   ]
  },
  {
   "cell_type": "code",
   "execution_count": 7,
   "id": "tight-thong",
   "metadata": {},
   "outputs": [
    {
     "data": {
      "text/html": [
       "<i>Table length=8</i>\n",
       "<table id=\"table140456436576776-690268\" class=\"table-striped table-bordered table-condensed\">\n",
       "<thead><tr><th>idx</th><th>obsID</th><th>obs_collection</th><th>dataproduct_type</th><th>obs_id</th><th>description</th><th>type</th><th>dataURI</th><th>productType</th><th>productGroupDescription</th><th>productSubGroupDescription</th><th>productDocumentationURL</th><th>project</th><th>prvversion</th><th>proposal_id</th><th>productFilename</th><th>size</th><th>parent_obsid</th><th>dataRights</th><th>calib_level</th></tr></thead>\n",
       "<tr><td>0</td><td>26600713</td><td>HST</td><td>image</td><td>hst_13297_22_wfc3_uvis_f336w_icau22um</td><td>HAP flat-field product</td><td>D</td><td>mast:HST/product/hst_13297_22_wfc3_uvis_f336w_icau22um_flc.fits</td><td>SCIENCE</td><td>--</td><td>FLC</td><td>--</td><td>HAP</td><td>DrizzlePac 3.4.1</td><td>13297</td><td>hst_13297_22_wfc3_uvis_f336w_icau22um_flc.fits</td><td>169263360</td><td>24811972</td><td>PUBLIC</td><td>2</td></tr>\n",
       "<tr><td>1</td><td>26600589</td><td>HST</td><td>image</td><td>hst_13297_22_wfc3_uvis_f336w_icau22uo</td><td>HAP flat-field product</td><td>D</td><td>mast:HST/product/hst_13297_22_wfc3_uvis_f336w_icau22uo_flc.fits</td><td>SCIENCE</td><td>--</td><td>FLC</td><td>--</td><td>HAP</td><td>DrizzlePac 3.4.1</td><td>13297</td><td>hst_13297_22_wfc3_uvis_f336w_icau22uo_flc.fits</td><td>169263360</td><td>24811972</td><td>PUBLIC</td><td>2</td></tr>\n",
       "<tr><td>2</td><td>26600664</td><td>HST</td><td>image</td><td>hst_13297_22_wfc3_uvis_f336w_icau22uq</td><td>HAP flat-field product</td><td>D</td><td>mast:HST/product/hst_13297_22_wfc3_uvis_f336w_icau22uq_flc.fits</td><td>SCIENCE</td><td>--</td><td>FLC</td><td>--</td><td>HAP</td><td>DrizzlePac 3.4.1</td><td>13297</td><td>hst_13297_22_wfc3_uvis_f336w_icau22uq_flc.fits</td><td>169263360</td><td>24811972</td><td>PUBLIC</td><td>2</td></tr>\n",
       "<tr><td>3</td><td>26600626</td><td>HST</td><td>image</td><td>hst_13297_22_wfc3_uvis_f336w_icau22us</td><td>HAP flat-field product</td><td>D</td><td>mast:HST/product/hst_13297_22_wfc3_uvis_f336w_icau22us_flc.fits</td><td>SCIENCE</td><td>--</td><td>FLC</td><td>--</td><td>HAP</td><td>DrizzlePac 3.4.1</td><td>13297</td><td>hst_13297_22_wfc3_uvis_f336w_icau22us_flc.fits</td><td>169263360</td><td>24811972</td><td>PUBLIC</td><td>2</td></tr>\n",
       "<tr><td>4</td><td>23931879</td><td>HST</td><td>image</td><td>icau22umq</td><td>DADS FLC file - CTE-corrected calibrated exposure ACS/WFC3</td><td>S</td><td>mast:HST/product/icau22umq_flc.fits</td><td>SCIENCE</td><td>--</td><td>FLC</td><td>--</td><td>CALWF3</td><td>3.6.2 (May-27-2021)</td><td>13297</td><td>icau22umq_flc.fits</td><td>169148160</td><td>24811972</td><td>PUBLIC</td><td>2</td></tr>\n",
       "<tr><td>5</td><td>23931880</td><td>HST</td><td>image</td><td>icau22uoq</td><td>DADS FLC file - CTE-corrected calibrated exposure ACS/WFC3</td><td>S</td><td>mast:HST/product/icau22uoq_flc.fits</td><td>SCIENCE</td><td>--</td><td>FLC</td><td>--</td><td>CALWF3</td><td>3.6.2 (May-27-2021)</td><td>13297</td><td>icau22uoq_flc.fits</td><td>169148160</td><td>24811972</td><td>PUBLIC</td><td>2</td></tr>\n",
       "<tr><td>6</td><td>23931881</td><td>HST</td><td>image</td><td>icau22uqq</td><td>DADS FLC file - CTE-corrected calibrated exposure ACS/WFC3</td><td>S</td><td>mast:HST/product/icau22uqq_flc.fits</td><td>SCIENCE</td><td>--</td><td>FLC</td><td>--</td><td>CALWF3</td><td>3.6.2 (May-27-2021)</td><td>13297</td><td>icau22uqq_flc.fits</td><td>169148160</td><td>24811972</td><td>PUBLIC</td><td>2</td></tr>\n",
       "<tr><td>7</td><td>23931882</td><td>HST</td><td>image</td><td>icau22usq</td><td>DADS FLC file - CTE-corrected calibrated exposure ACS/WFC3</td><td>S</td><td>mast:HST/product/icau22usq_flc.fits</td><td>SCIENCE</td><td>--</td><td>FLC</td><td>--</td><td>CALWF3</td><td>3.6.2 (May-27-2021)</td><td>13297</td><td>icau22usq_flc.fits</td><td>169148160</td><td>24811972</td><td>PUBLIC</td><td>2</td></tr>\n",
       "</table><style>table.dataTable {clear: both; width: auto !important; margin: 0 !important;}\n",
       ".dataTables_info, .dataTables_length, .dataTables_filter, .dataTables_paginate{\n",
       "display: inline-block; margin-right: 1em; }\n",
       ".paginate_button { margin-right: 5px; }\n",
       "</style>\n",
       "<script>\n",
       "\n",
       "var astropy_sort_num = function(a, b) {\n",
       "    var a_num = parseFloat(a);\n",
       "    var b_num = parseFloat(b);\n",
       "\n",
       "    if (isNaN(a_num) && isNaN(b_num))\n",
       "        return ((a < b) ? -1 : ((a > b) ? 1 : 0));\n",
       "    else if (!isNaN(a_num) && !isNaN(b_num))\n",
       "        return ((a_num < b_num) ? -1 : ((a_num > b_num) ? 1 : 0));\n",
       "    else\n",
       "        return isNaN(a_num) ? -1 : 1;\n",
       "}\n",
       "\n",
       "require.config({paths: {\n",
       "    datatables: 'https://cdn.datatables.net/1.10.12/js/jquery.dataTables.min'\n",
       "}});\n",
       "require([\"datatables\"], function(){\n",
       "    console.log(\"$('#table140456436576776-690268').dataTable()\");\n",
       "    \n",
       "jQuery.extend( jQuery.fn.dataTableExt.oSort, {\n",
       "    \"optionalnum-asc\": astropy_sort_num,\n",
       "    \"optionalnum-desc\": function (a,b) { return -astropy_sort_num(a, b); }\n",
       "});\n",
       "\n",
       "    $('#table140456436576776-690268').dataTable({\n",
       "        order: [],\n",
       "        pageLength: 20,\n",
       "        lengthMenu: [[20, 10, 25, 50, 100, 500, 1000, -1], [20, 10, 25, 50, 100, 500, 1000, 'All']],\n",
       "        pagingType: \"full_numbers\",\n",
       "        columnDefs: [{targets: [0, 16, 19], type: \"optionalnum\"}]\n",
       "    });\n",
       "});\n",
       "</script>\n"
      ],
      "text/plain": [
       "<IPython.core.display.HTML object>"
      ]
     },
     "execution_count": 7,
     "metadata": {},
     "output_type": "execute_result"
    }
   ],
   "source": [
    "propid='13297'\n",
    "obserid='ICAU22020'\n",
    "filetype = 'FLC' \n",
    "\n",
    "product_list = getting_sci_data_info(propid,obserid,filetype)\n",
    "product_list.show_in_notebook(display_length=20)"
   ]
  },
  {
   "cell_type": "code",
   "execution_count": 8,
   "id": "unnecessary-sunday",
   "metadata": {},
   "outputs": [
    {
     "name": "stdout",
     "output_type": "stream",
     "text": [
      "  obs_id \n",
      "---------\n",
      "icau22uqq\n",
      "Downloading URL https://mast.stsci.edu/api/v0.1/Download/file?uri=mast:HST/product/hst_13297_22_wfc3_uvis_f336w_icau22uq_flc.fits to ./mastDownload/HST/hst_13297_22_wfc3_uvis_f336w_icau22uq/hst_13297_22_wfc3_uvis_f336w_icau22uq_flc.fits ... [Done]\n",
      "Downloading URL https://mast.stsci.edu/api/v0.1/Download/file?uri=mast:HST/product/icau22uqq_flc.fits to ./mastDownload/HST/icau22uqq/icau22uqq_flc.fits ... [Done]\n"
     ]
    }
   ],
   "source": [
    "print(product_list['obs_id'][6:7])\n",
    "myID = product_list['obsID'][6:7]\n",
    "download = Observations.download_products(myID,mrp_only=False,productSubGroupDescription=['FLC'])"
   ]
  },
  {
   "cell_type": "code",
   "execution_count": 9,
   "id": "bound-wilson",
   "metadata": {
    "scrolled": true
   },
   "outputs": [
    {
     "data": {
      "text/html": [
       "<i>Table length=4</i>\n",
       "<table id=\"table140458087988696-472496\" class=\"table-striped table-bordered table-condensed\">\n",
       "<thead><tr><th>idx</th><th>obsID</th><th>obs_collection</th><th>dataproduct_type</th><th>obs_id</th><th>description</th><th>type</th><th>dataURI</th><th>productType</th><th>productGroupDescription</th><th>productSubGroupDescription</th><th>productDocumentationURL</th><th>project</th><th>prvversion</th><th>proposal_id</th><th>productFilename</th><th>size</th><th>parent_obsid</th><th>dataRights</th><th>calib_level</th></tr></thead>\n",
       "<tr><td>0</td><td>26311618</td><td>HST</td><td>image</td><td>hst_13804_05_wfc3_uvis_f336w_icmx05ql</td><td>HAP flat-field product</td><td>D</td><td>mast:HST/product/hst_13804_05_wfc3_uvis_f336w_icmx05ql_flc.fits</td><td>SCIENCE</td><td>--</td><td>FLC</td><td>--</td><td>HAP</td><td>DrizzlePac 3.4.1</td><td>13804</td><td>hst_13804_05_wfc3_uvis_f336w_icmx05ql_flc.fits</td><td>168796800</td><td>24982802</td><td>PUBLIC</td><td>2</td></tr>\n",
       "<tr><td>1</td><td>26311634</td><td>HST</td><td>image</td><td>hst_13804_05_wfc3_uvis_f336w_icmx05qq</td><td>HAP flat-field product</td><td>D</td><td>mast:HST/product/hst_13804_05_wfc3_uvis_f336w_icmx05qq_flc.fits</td><td>SCIENCE</td><td>--</td><td>FLC</td><td>--</td><td>HAP</td><td>DrizzlePac 3.4.1</td><td>13804</td><td>hst_13804_05_wfc3_uvis_f336w_icmx05qq_flc.fits</td><td>168796800</td><td>24982802</td><td>PUBLIC</td><td>2</td></tr>\n",
       "<tr><td>2</td><td>24982228</td><td>HST</td><td>image</td><td>icmx05qlq</td><td>DADS FLC file - CTE-corrected calibrated exposure ACS/WFC3</td><td>S</td><td>mast:HST/product/icmx05qlq_flc.fits</td><td>SCIENCE</td><td>--</td><td>FLC</td><td>--</td><td>CALWF3</td><td>3.6.2 (May-27-2021)</td><td>13804</td><td>icmx05qlq_flc.fits</td><td>168796800</td><td>24982802</td><td>PUBLIC</td><td>2</td></tr>\n",
       "<tr><td>3</td><td>24982230</td><td>HST</td><td>image</td><td>icmx05qqq</td><td>DADS FLC file - CTE-corrected calibrated exposure ACS/WFC3</td><td>S</td><td>mast:HST/product/icmx05qqq_flc.fits</td><td>SCIENCE</td><td>--</td><td>FLC</td><td>--</td><td>CALWF3</td><td>3.6.2 (May-27-2021)</td><td>13804</td><td>icmx05qqq_flc.fits</td><td>168796800</td><td>24982802</td><td>PUBLIC</td><td>2</td></tr>\n",
       "</table><style>table.dataTable {clear: both; width: auto !important; margin: 0 !important;}\n",
       ".dataTables_info, .dataTables_length, .dataTables_filter, .dataTables_paginate{\n",
       "display: inline-block; margin-right: 1em; }\n",
       ".paginate_button { margin-right: 5px; }\n",
       "</style>\n",
       "<script>\n",
       "\n",
       "var astropy_sort_num = function(a, b) {\n",
       "    var a_num = parseFloat(a);\n",
       "    var b_num = parseFloat(b);\n",
       "\n",
       "    if (isNaN(a_num) && isNaN(b_num))\n",
       "        return ((a < b) ? -1 : ((a > b) ? 1 : 0));\n",
       "    else if (!isNaN(a_num) && !isNaN(b_num))\n",
       "        return ((a_num < b_num) ? -1 : ((a_num > b_num) ? 1 : 0));\n",
       "    else\n",
       "        return isNaN(a_num) ? -1 : 1;\n",
       "}\n",
       "\n",
       "require.config({paths: {\n",
       "    datatables: 'https://cdn.datatables.net/1.10.12/js/jquery.dataTables.min'\n",
       "}});\n",
       "require([\"datatables\"], function(){\n",
       "    console.log(\"$('#table140458087988696-472496').dataTable()\");\n",
       "    \n",
       "jQuery.extend( jQuery.fn.dataTableExt.oSort, {\n",
       "    \"optionalnum-asc\": astropy_sort_num,\n",
       "    \"optionalnum-desc\": function (a,b) { return -astropy_sort_num(a, b); }\n",
       "});\n",
       "\n",
       "    $('#table140458087988696-472496').dataTable({\n",
       "        order: [],\n",
       "        pageLength: 20,\n",
       "        lengthMenu: [[20, 10, 25, 50, 100, 500, 1000, -1], [20, 10, 25, 50, 100, 500, 1000, 'All']],\n",
       "        pagingType: \"full_numbers\",\n",
       "        columnDefs: [{targets: [0, 16, 19], type: \"optionalnum\"}]\n",
       "    });\n",
       "});\n",
       "</script>\n"
      ],
      "text/plain": [
       "<IPython.core.display.HTML object>"
      ]
     },
     "execution_count": 9,
     "metadata": {},
     "output_type": "execute_result"
    }
   ],
   "source": [
    "propid='13804'\n",
    "obserid='ICMX05030'\n",
    "filetype = 'FLC' \n",
    "\n",
    "product_list = getting_sci_data_info(propid,obserid,filetype)\n",
    "product_list.show_in_notebook(display_length=20)"
   ]
  },
  {
   "cell_type": "code",
   "execution_count": 10,
   "id": "molecular-audit",
   "metadata": {},
   "outputs": [
    {
     "name": "stdout",
     "output_type": "stream",
     "text": [
      "  obs_id \n",
      "---------\n",
      "icmx05qlq\n",
      "Downloading URL https://mast.stsci.edu/api/v0.1/Download/file?uri=mast:HST/product/hst_13804_05_wfc3_uvis_f336w_icmx05ql_flc.fits to ./mastDownload/HST/hst_13804_05_wfc3_uvis_f336w_icmx05ql/hst_13804_05_wfc3_uvis_f336w_icmx05ql_flc.fits ... [Done]\n",
      "Downloading URL https://mast.stsci.edu/api/v0.1/Download/file?uri=mast:HST/product/icmx05qlq_flc.fits to ./mastDownload/HST/icmx05qlq/icmx05qlq_flc.fits ... [Done]\n"
     ]
    }
   ],
   "source": [
    "print(product_list['obs_id'][2:3])\n",
    "myID = product_list['obsID'][2:3]\n",
    "download = Observations.download_products(myID,mrp_only=False,productSubGroupDescription=['FLC'])"
   ]
  },
  {
   "cell_type": "code",
   "execution_count": 11,
   "id": "leading-wrist",
   "metadata": {},
   "outputs": [
    {
     "data": {
      "text/html": [
       "<i>Table length=6</i>\n",
       "<table id=\"table140456436580304-104784\" class=\"table-striped table-bordered table-condensed\">\n",
       "<thead><tr><th>idx</th><th>obsID</th><th>obs_collection</th><th>dataproduct_type</th><th>obs_id</th><th>description</th><th>type</th><th>dataURI</th><th>productType</th><th>productGroupDescription</th><th>productSubGroupDescription</th><th>productDocumentationURL</th><th>project</th><th>prvversion</th><th>proposal_id</th><th>productFilename</th><th>size</th><th>parent_obsid</th><th>dataRights</th><th>calib_level</th></tr></thead>\n",
       "<tr><td>0</td><td>26639130</td><td>HST</td><td>image</td><td>hst_14164_06_wfc3_uvis_f336w_icw806ql</td><td>HAP flat-field product</td><td>D</td><td>mast:HST/product/hst_14164_06_wfc3_uvis_f336w_icw806ql_flc.fits</td><td>SCIENCE</td><td>--</td><td>FLC</td><td>--</td><td>HAP</td><td>DrizzlePac 3.4.1</td><td>14164</td><td>hst_14164_06_wfc3_uvis_f336w_icw806ql_flc.fits</td><td>169148160</td><td>26095661</td><td>PUBLIC</td><td>2</td></tr>\n",
       "<tr><td>1</td><td>26639258</td><td>HST</td><td>image</td><td>hst_14164_06_wfc3_uvis_f336w_icw806qp</td><td>HAP flat-field product</td><td>D</td><td>mast:HST/product/hst_14164_06_wfc3_uvis_f336w_icw806qp_flc.fits</td><td>SCIENCE</td><td>--</td><td>FLC</td><td>--</td><td>HAP</td><td>DrizzlePac 3.4.1</td><td>14164</td><td>hst_14164_06_wfc3_uvis_f336w_icw806qp_flc.fits</td><td>169032960</td><td>26095661</td><td>PUBLIC</td><td>2</td></tr>\n",
       "<tr><td>2</td><td>26639276</td><td>HST</td><td>image</td><td>hst_14164_06_wfc3_uvis_f336w_icw806qt</td><td>HAP flat-field product</td><td>D</td><td>mast:HST/product/hst_14164_06_wfc3_uvis_f336w_icw806qt_flc.fits</td><td>SCIENCE</td><td>--</td><td>FLC</td><td>--</td><td>HAP</td><td>DrizzlePac 3.4.1</td><td>14164</td><td>hst_14164_06_wfc3_uvis_f336w_icw806qt_flc.fits</td><td>169032960</td><td>26095661</td><td>PUBLIC</td><td>2</td></tr>\n",
       "<tr><td>3</td><td>25062414</td><td>HST</td><td>image</td><td>icw806qlq</td><td>DADS FLC file - CTE-corrected calibrated exposure ACS/WFC3</td><td>S</td><td>mast:HST/product/icw806qlq_flc.fits</td><td>SCIENCE</td><td>--</td><td>FLC</td><td>--</td><td>CALWF3</td><td>3.6.2 (May-27-2021)</td><td>14164</td><td>icw806qlq_flc.fits</td><td>169032960</td><td>26095661</td><td>PUBLIC</td><td>2</td></tr>\n",
       "<tr><td>4</td><td>25062415</td><td>HST</td><td>image</td><td>icw806qpq</td><td>DADS FLC file - CTE-corrected calibrated exposure ACS/WFC3</td><td>S</td><td>mast:HST/product/icw806qpq_flc.fits</td><td>SCIENCE</td><td>--</td><td>FLC</td><td>--</td><td>CALWF3</td><td>3.6.2 (May-27-2021)</td><td>14164</td><td>icw806qpq_flc.fits</td><td>168917760</td><td>26095661</td><td>PUBLIC</td><td>2</td></tr>\n",
       "<tr><td>5</td><td>25062416</td><td>HST</td><td>image</td><td>icw806qtq</td><td>DADS FLC file - CTE-corrected calibrated exposure ACS/WFC3</td><td>S</td><td>mast:HST/product/icw806qtq_flc.fits</td><td>SCIENCE</td><td>--</td><td>FLC</td><td>--</td><td>CALWF3</td><td>3.6.2 (May-27-2021)</td><td>14164</td><td>icw806qtq_flc.fits</td><td>168917760</td><td>26095661</td><td>PUBLIC</td><td>2</td></tr>\n",
       "</table><style>table.dataTable {clear: both; width: auto !important; margin: 0 !important;}\n",
       ".dataTables_info, .dataTables_length, .dataTables_filter, .dataTables_paginate{\n",
       "display: inline-block; margin-right: 1em; }\n",
       ".paginate_button { margin-right: 5px; }\n",
       "</style>\n",
       "<script>\n",
       "\n",
       "var astropy_sort_num = function(a, b) {\n",
       "    var a_num = parseFloat(a);\n",
       "    var b_num = parseFloat(b);\n",
       "\n",
       "    if (isNaN(a_num) && isNaN(b_num))\n",
       "        return ((a < b) ? -1 : ((a > b) ? 1 : 0));\n",
       "    else if (!isNaN(a_num) && !isNaN(b_num))\n",
       "        return ((a_num < b_num) ? -1 : ((a_num > b_num) ? 1 : 0));\n",
       "    else\n",
       "        return isNaN(a_num) ? -1 : 1;\n",
       "}\n",
       "\n",
       "require.config({paths: {\n",
       "    datatables: 'https://cdn.datatables.net/1.10.12/js/jquery.dataTables.min'\n",
       "}});\n",
       "require([\"datatables\"], function(){\n",
       "    console.log(\"$('#table140456436580304-104784').dataTable()\");\n",
       "    \n",
       "jQuery.extend( jQuery.fn.dataTableExt.oSort, {\n",
       "    \"optionalnum-asc\": astropy_sort_num,\n",
       "    \"optionalnum-desc\": function (a,b) { return -astropy_sort_num(a, b); }\n",
       "});\n",
       "\n",
       "    $('#table140456436580304-104784').dataTable({\n",
       "        order: [],\n",
       "        pageLength: 20,\n",
       "        lengthMenu: [[20, 10, 25, 50, 100, 500, 1000, -1], [20, 10, 25, 50, 100, 500, 1000, 'All']],\n",
       "        pagingType: \"full_numbers\",\n",
       "        columnDefs: [{targets: [0, 16, 19], type: \"optionalnum\"}]\n",
       "    });\n",
       "});\n",
       "</script>\n"
      ],
      "text/plain": [
       "<IPython.core.display.HTML object>"
      ]
     },
     "execution_count": 11,
     "metadata": {},
     "output_type": "execute_result"
    }
   ],
   "source": [
    "propid='14164'\n",
    "obserid='ICW806050'\n",
    "filetype = 'FLC' \n",
    "\n",
    "product_list = getting_sci_data_info(propid,obserid,filetype)\n",
    "product_list.show_in_notebook(display_length=20)"
   ]
  },
  {
   "cell_type": "code",
   "execution_count": null,
   "id": "affecting-general",
   "metadata": {},
   "outputs": [
    {
     "name": "stdout",
     "output_type": "stream",
     "text": [
      "  obs_id \n",
      "---------\n",
      "icw806qtq\n",
      "Downloading URL https://mast.stsci.edu/api/v0.1/Download/file?uri=mast:HST/product/hst_14164_06_wfc3_uvis_f336w_icw806qt_flc.fits to ./mastDownload/HST/hst_14164_06_wfc3_uvis_f336w_icw806qt/hst_14164_06_wfc3_uvis_f336w_icw806qt_flc.fits ... [Done]\n",
      "Downloading URL https://mast.stsci.edu/api/v0.1/Download/file?uri=mast:HST/product/icw806qtq_flc.fits to ./mastDownload/HST/icw806qtq/icw806qtq_flc.fits ..."
     ]
    }
   ],
   "source": [
    "print(product_list['obs_id'][5:6])\n",
    "myID = product_list['obsID'][5:6]\n",
    "download = Observations.download_products(myID,mrp_only=False,productSubGroupDescription=['FLC'])"
   ]
  },
  {
   "cell_type": "code",
   "execution_count": null,
   "id": "invisible-importance",
   "metadata": {},
   "outputs": [],
   "source": [
    "propid='14610'\n",
    "obserid='IDB616030'\n",
    "filetype = 'FLC' \n",
    "\n",
    "product_list = getting_sci_data_info(propid,obserid,filetype)\n",
    "product_list.show_in_notebook(display_length=20)"
   ]
  },
  {
   "cell_type": "code",
   "execution_count": null,
   "id": "comfortable-calcium",
   "metadata": {},
   "outputs": [],
   "source": [
    "print(product_list['obs_id'][2:3])\n",
    "myID = product_list['obsID'][2:3]\n",
    "download = Observations.download_products(myID,mrp_only=False,productSubGroupDescription=['FLC'])"
   ]
  },
  {
   "cell_type": "code",
   "execution_count": null,
   "id": "accredited-corporation",
   "metadata": {},
   "outputs": [],
   "source": [
    "propid='15275'\n",
    "obserid='IDN011030'\n",
    "filetype = 'FLC' \n",
    "\n",
    "product_list = getting_sci_data_info(propid,obserid,filetype)\n",
    "product_list.show_in_notebook(display_length=20)"
   ]
  },
  {
   "cell_type": "code",
   "execution_count": null,
   "id": "green-authority",
   "metadata": {},
   "outputs": [],
   "source": [
    "print(product_list['obs_id'][6:7])\n",
    "myID = product_list['obsID'][6:7]\n",
    "download = Observations.download_products(myID,mrp_only=False,productSubGroupDescription=['FLC'])"
   ]
  },
  {
   "cell_type": "code",
   "execution_count": null,
   "id": "narrow-extent",
   "metadata": {},
   "outputs": [],
   "source": [
    "propid='15083'\n",
    "obserid='IDLE02010'\n",
    "filetype = 'FLC' \n",
    "\n",
    "product_list = getting_sci_data_info(propid,obserid,filetype)\n",
    "product_list.show_in_notebook(display_length=20)"
   ]
  },
  {
   "cell_type": "code",
   "execution_count": null,
   "id": "ambient-scene",
   "metadata": {},
   "outputs": [],
   "source": [
    "print(product_list['obs_id'][6:7])\n",
    "myID = product_list['obsID'][6:7]\n",
    "download = Observations.download_products(myID,mrp_only=False,productSubGroupDescription=['FLC'])"
   ]
  },
  {
   "cell_type": "code",
   "execution_count": null,
   "id": "hispanic-congo",
   "metadata": {},
   "outputs": [],
   "source": [
    "propid='15275'\n",
    "obserid='IDN073030'\n",
    "filetype = 'FLC' \n",
    "\n",
    "product_list = getting_sci_data_info(propid,obserid,filetype)\n",
    "product_list.show_in_notebook(display_length=20)"
   ]
  },
  {
   "cell_type": "code",
   "execution_count": null,
   "id": "norwegian-electronics",
   "metadata": {},
   "outputs": [],
   "source": [
    "print(product_list['obs_id'][11:12])\n",
    "myID = product_list['obsID'][11:12]\n",
    "download = Observations.download_products(myID,mrp_only=False,productSubGroupDescription=['FLC'])"
   ]
  },
  {
   "cell_type": "code",
   "execution_count": null,
   "id": "sixth-attack",
   "metadata": {},
   "outputs": [],
   "source": [
    "propid='15857'\n",
    "obserid='IE0O61LYQ'\n",
    "filetype = 'FLC' \n",
    "\n",
    "product_list = getting_sci_data_info(propid,obserid,filetype)\n",
    "product_list.show_in_notebook(display_length=20)"
   ]
  },
  {
   "cell_type": "code",
   "execution_count": null,
   "id": "ancient-melbourne",
   "metadata": {},
   "outputs": [],
   "source": [
    "print(product_list['obs_id'][1:2])\n",
    "myID = product_list['obsID'][1:2]\n",
    "download = Observations.download_products(myID,mrp_only=False,productSubGroupDescription=['FLC'])"
   ]
  }
 ],
 "metadata": {
  "kernelspec": {
   "display_name": "Python 3",
   "language": "python",
   "name": "python3"
  },
  "language_info": {
   "codemirror_mode": {
    "name": "ipython",
    "version": 3
   },
   "file_extension": ".py",
   "mimetype": "text/x-python",
   "name": "python",
   "nbconvert_exporter": "python",
   "pygments_lexer": "ipython3",
   "version": "3.6.12"
  },
  "toc": {
   "base_numbering": 1,
   "nav_menu": {},
   "number_sections": true,
   "sideBar": true,
   "skip_h1_title": false,
   "title_cell": "Table of Contents",
   "title_sidebar": "Contents",
   "toc_cell": false,
   "toc_position": {},
   "toc_section_display": true,
   "toc_window_display": false
  }
 },
 "nbformat": 4,
 "nbformat_minor": 5
}
