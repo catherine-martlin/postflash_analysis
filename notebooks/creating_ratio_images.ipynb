{
 "cells": [
  {
   "cell_type": "code",
   "execution_count": 2,
   "id": "bearing-palestine",
   "metadata": {},
   "outputs": [],
   "source": [
    "import glob\n",
    "import os\n",
    "\n",
    "from astropy.io import fits\n",
    "import numpy as np\n",
    "import numpy.ma as ma\n",
    "import pandas as pd"
   ]
  },
  {
   "cell_type": "markdown",
   "id": "lyric-bouquet",
   "metadata": {},
   "source": [
    "Notes: Using medium current, fullframe, 0.5 second darks exposed to flash level \n",
    "7310 with Medium current. The filter is irrelevent as the LED source lives \n",
    "behind the shutter and illuminates off the shutter. "
   ]
  },
  {
   "cell_type": "code",
   "execution_count": 14,
   "id": "atomic-jerusalem",
   "metadata": {},
   "outputs": [],
   "source": [
    "cycle20 = fits.getdata('/Volumes/wfc3u/final_postflash_2021/mastDownload/HST/ic6da5qsq/ic6da5qsq_flc.fits')\n",
    "cycle21 = fits.getdata('/Volumes/wfc3u/final_postflash_2021/mastDownload/HST/ic6dn1h0q/ic6dn1h0q_flc.fits')\n",
    "cycle29 = fits.getdata('/Volumes/wfc3u/final_postflash_2021/mastDownload/HST/ielu05rmq/ielu05rmq_flc.fits')\n",
    "\n",
    "\n",
    "ratio_cyc20_29 = cycle29/cycle20"
   ]
  },
  {
   "cell_type": "code",
   "execution_count": 15,
   "id": "numeric-pencil",
   "metadata": {},
   "outputs": [],
   "source": [
    "hdu = fits.PrimaryHDU(ratio_cyc20_29)\n",
    "hdu.writeto('cycle29_to_20_ff_dark.fits', overwrite=True)"
   ]
  },
  {
   "cell_type": "code",
   "execution_count": 17,
   "id": "declared-authorization",
   "metadata": {},
   "outputs": [
    {
     "name": "stderr",
     "output_type": "stream",
     "text": [
      "/Users/cmartlin/miniconda3/envs/postflash/lib/python3.6/site-packages/ipykernel_launcher.py:4: RuntimeWarning: invalid value encountered in true_divide\n",
      "  after removing the cwd from sys.path.\n"
     ]
    }
   ],
   "source": [
    "ref_cycle20 = fits.getdata('/Volumes/wfc3u/final_postflash_2021/notebooks/2012_pf_A_low_curr.fits')\n",
    "ref_cycle29 = fits.getdata('/Volumes/wfc3u/final_postflash_2021/notebooks/2021_pf_A_low_curr.fits')\n",
    "\n",
    "ratio_ref_20_29 = ref_cycle29/ref_cycle20"
   ]
  },
  {
   "cell_type": "code",
   "execution_count": 18,
   "id": "coral-dimension",
   "metadata": {},
   "outputs": [],
   "source": [
    "hdu = fits.PrimaryHDU(ratio_ref_20_29)\n",
    "hdu.writeto('cycle29_to_20_ref.fits', overwrite=True)"
   ]
  },
  {
   "cell_type": "code",
   "execution_count": null,
   "id": "included-patio",
   "metadata": {},
   "outputs": [],
   "source": []
  }
 ],
 "metadata": {
  "kernelspec": {
   "display_name": "Python 3",
   "language": "python",
   "name": "python3"
  },
  "language_info": {
   "codemirror_mode": {
    "name": "ipython",
    "version": 3
   },
   "file_extension": ".py",
   "mimetype": "text/x-python",
   "name": "python",
   "nbconvert_exporter": "python",
   "pygments_lexer": "ipython3",
   "version": "3.6.12"
  },
  "toc": {
   "base_numbering": 1,
   "nav_menu": {},
   "number_sections": true,
   "sideBar": true,
   "skip_h1_title": false,
   "title_cell": "Table of Contents",
   "title_sidebar": "Contents",
   "toc_cell": false,
   "toc_position": {},
   "toc_section_display": true,
   "toc_window_display": false
  }
 },
 "nbformat": 4,
 "nbformat_minor": 5
}
