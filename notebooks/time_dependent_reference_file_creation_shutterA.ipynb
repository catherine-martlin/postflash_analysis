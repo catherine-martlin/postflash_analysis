{
 "cells": [
  {
   "cell_type": "code",
   "execution_count": 1,
   "id": "informal-moderator",
   "metadata": {},
   "outputs": [],
   "source": [
    "import glob\n",
    "import os\n",
    "\n",
    "from astropy.io import fits\n",
    "import numpy as np\n",
    "import numpy.ma as ma\n",
    "import pandas as pd"
   ]
  },
  {
   "cell_type": "code",
   "execution_count": 2,
   "id": "suitable-preview",
   "metadata": {},
   "outputs": [],
   "source": [
    "working_directory = '/grp/hst/wfc3u/final_postflash_2021/yearly_reference/'\n",
    "today = '09_05_2022'\n",
    "postflash_data = pd.read_pickle('/grp/hst/wfc3u/final_postflash_2021/notebooks/Feb_2022_flc_all_stats_postflash.pkl')"
   ]
  },
  {
   "cell_type": "code",
   "execution_count": 3,
   "id": "capital-lying",
   "metadata": {},
   "outputs": [
    {
     "name": "stdout",
     "output_type": "stream",
     "text": [
      "                     filename  propid  \\\n",
      "rootname                                \n",
      "ic6da5qoq  ic6da5qoq_flc.fits   13078   \n",
      "ic6da5qpq  ic6da5qpq_flc.fits   13078   \n",
      "ic6da5qqq  ic6da5qqq_flc.fits   13078   \n",
      "ic6da5qsq  ic6da5qsq_flc.fits   13078   \n",
      "ic6da5qtq  ic6da5qtq_flc.fits   13078   \n",
      "...                       ...     ...   \n",
      "ielu15jeq  ielu15jeq_flc.fits   16570   \n",
      "ielu13jzq  ielu13jzq_flc.fits   16570   \n",
      "ielu13k0q  ielu13k0q_flc.fits   16570   \n",
      "ielu13k2q  ielu13k2q_flc.fits   16570   \n",
      "ielu13k3q  ielu13k3q_flc.fits   16570   \n",
      "\n",
      "                                                        path     obsdate  \\\n",
      "rootname                                                                   \n",
      "ic6da5qoq  /grp/hst/wfc3u/final_postflash_2021/mastDownlo...  2012-11-14   \n",
      "ic6da5qpq  /grp/hst/wfc3u/final_postflash_2021/mastDownlo...  2012-11-14   \n",
      "ic6da5qqq  /grp/hst/wfc3u/final_postflash_2021/mastDownlo...  2012-11-14   \n",
      "ic6da5qsq  /grp/hst/wfc3u/final_postflash_2021/mastDownlo...  2012-11-14   \n",
      "ic6da5qtq  /grp/hst/wfc3u/final_postflash_2021/mastDownlo...  2012-11-14   \n",
      "...                                                      ...         ...   \n",
      "ielu15jeq  /grp/hst/wfc3u/final_postflash_2021/mastDownlo...  2022-01-25   \n",
      "ielu13jzq  /grp/hst/wfc3u/final_postflash_2021/mastDownlo...  2022-01-25   \n",
      "ielu13k0q  /grp/hst/wfc3u/final_postflash_2021/mastDownlo...  2022-01-25   \n",
      "ielu13k2q  /grp/hst/wfc3u/final_postflash_2021/mastDownlo...  2022-01-25   \n",
      "ielu13k3q  /grp/hst/wfc3u/final_postflash_2021/mastDownlo...  2022-01-25   \n",
      "\n",
      "            obstime shutter  flash_lvl  flash_dur flash_cur  subarray  \\\n",
      "rootname                                                                \n",
      "ic6da5qoq  16:06:43       A       7310      100.0       MED     False   \n",
      "ic6da5qpq  16:10:34       A         12        4.7       LOW      True   \n",
      "ic6da5qqq  16:13:27       B          0        0.0      ZERO      True   \n",
      "ic6da5qsq  16:21:56       B       7310      100.0       MED     False   \n",
      "ic6da5qtq  16:25:47       B         12        4.7       LOW      True   \n",
      "...             ...     ...        ...        ...       ...       ...   \n",
      "ielu15jeq  13:01:00       B         22        9.2       LOW      True   \n",
      "ielu13jzq  16:01:38       B       7310      100.0       MED     False   \n",
      "ielu13k0q  16:05:29       B         12        5.0       LOW      True   \n",
      "ielu13k2q  16:13:18       A       7310      100.0       MED     False   \n",
      "ielu13k3q  16:17:09       A         12        5.0       LOW      True   \n",
      "\n",
      "           exp_time         mean     sig_mean       median   sig_median  \\\n",
      "rootname                                                                  \n",
      "ic6da5qoq      0.50  4940.729980  4939.209921  5012.210938  5012.210938   \n",
      "ic6da5qpq      0.50     7.678363     7.421268     7.394257     7.394257   \n",
      "ic6da5qqq      0.48     0.917010     0.812413     0.629755     0.629755   \n",
      "ic6da5qsq      0.50  4664.234863  4662.446513  4737.009277  4737.009277   \n",
      "ic6da5qtq      0.50     7.306681     6.924177     7.126437     7.126437   \n",
      "...             ...          ...          ...          ...          ...   \n",
      "ielu15jeq      0.50    13.777327    13.422980    13.414429    13.414429   \n",
      "ielu13jzq      0.50  4584.374512  4582.612354  4655.830078  4655.830078   \n",
      "ielu13k0q      0.50     7.737627     7.397106     7.243580     7.243580   \n",
      "ielu13k2q      0.50  4858.307617  4856.621566  4929.071777  4929.071777   \n",
      "ielu13k3q      0.50     8.103757     7.845550     7.707359     7.707359   \n",
      "\n",
      "                  std     sig_std  norm_by_dur            datetime  \n",
      "rootname                                                            \n",
      "ic6da5qoq  441.299438  434.255018    49.392099 2012-11-14 16:06:43  \n",
      "ic6da5qpq   18.279625    2.969511     1.578993 2012-11-14 16:10:34  \n",
      "ic6da5qqq    7.684793    2.115326          inf 2012-11-14 16:13:27  \n",
      "ic6da5qsq  423.327759  414.333421    46.624465 2012-11-14 16:21:56  \n",
      "ic6da5qtq   27.460207    2.821229     1.473229 2012-11-14 16:25:47  \n",
      "...               ...         ...          ...                 ...  \n",
      "ielu15jeq   22.352392    3.639928     1.459020 2022-01-25 13:01:00  \n",
      "ielu13jzq  417.322968  408.030989    45.826124 2022-01-25 16:01:38  \n",
      "ielu13k0q   20.099735    3.079665     1.479421 2022-01-25 16:05:29  \n",
      "ielu13k2q  445.122406  428.481734    48.566216 2022-01-25 16:13:18  \n",
      "ielu13k3q   20.900904    3.118162     1.569110 2022-01-25 16:17:09  \n",
      "\n",
      "[3462 rows x 19 columns]\n"
     ]
    }
   ],
   "source": [
    "postflash_data['datetime']\n",
    "\n",
    "postflash_data=postflash_data.sort_values(by='datetime')\n",
    "print(postflash_data)"
   ]
  },
  {
   "cell_type": "code",
   "execution_count": 4,
   "id": "personal-counter",
   "metadata": {},
   "outputs": [],
   "source": [
    "fullframe_pf = postflash_data.loc[(postflash_data['subarray'] == False)] \n",
    "fullframe_pf_A = postflash_data.loc[(postflash_data['subarray'] == False) & (postflash_data['shutter'] == 'A') & (postflash_data['flash_cur'] == 'MED') & (postflash_data['flash_dur'] == 100.0)] "
   ]
  },
  {
   "cell_type": "code",
   "execution_count": 5,
   "id": "hybrid-conservation",
   "metadata": {},
   "outputs": [],
   "source": [
    "def stack(list_of_files,out_file,error_file):\n",
    "    hdr = fits.getheader(list_of_files[0], 1)\n",
    "    nx = hdr['NAXIS1']\n",
    "    ny = hdr['NAXIS2']\n",
    "    nf = len(list_of_files)\n",
    "    # Setting up the empty data, rms, and error arrays and getting the data\n",
    "    data_array_1 = np.empty((nf, ny, nx), dtype=float)\n",
    "    data_array_2 = np.empty((nf, ny, nx), dtype=float)\n",
    "    set_data=fits.getdata(list_of_files[0], 1)\n",
    "    rms_1 = np.zeros(len(list_of_files), dtype=float)\n",
    "    rms_2 = np.zeros(len(list_of_files), dtype=float)\n",
    "    error_array_1 = np.empty((nf, ny, nx), dtype=float)\n",
    "    error_array_2 = np.empty((nf, ny, nx), dtype=float)\n",
    "    total_error_1 = np.zeros_like(set_data, dtype=float)\n",
    "    total_error_2 = np.zeros_like(set_data, dtype=float)\n",
    "    for i , f in enumerate(list_of_files):\n",
    "        data_1=fits.getdata(f, 1)\n",
    "        data_2=fits.getdata(f, 4)\n",
    "        error_1=fits.getdata(f, 2)\n",
    "        error_2=fits.getdata(f, 5)\n",
    "        DQ_1=fits.getdata(f, 3)\n",
    "        DQ_2=fits.getdata(f, 6)\n",
    "        #data_1=data1\n",
    "        #data_2=data2\n",
    "        mask_1=np.zeros_like(data_1, dtype=bool)\n",
    "        mask_2=np.zeros_like(data_2, dtype=bool)\n",
    "        mask_1[DQ_1>=2**13]= True\n",
    "        mask_2[DQ_2>=2**13]= True\n",
    "        error_1[(0<DQ_1 & (DQ_1<2**13))]=0.00001\n",
    "        error_2[(0<DQ_2& (DQ_2<2**13))]=0.00001\n",
    "        error_1_sq=error_1**2\n",
    "        error_2_sq=error_2**2\n",
    "        masked_data_1= ma.array(data=data_1, mask=mask_1)\n",
    "        masked_data_2= ma.array(data=data_2, mask=mask_2)\n",
    "        data_array_1[i, :, :] = masked_data_1\n",
    "        rms_1[i] = masked_data_1.std()\n",
    "        data_array_2[i, :, :] = masked_data_2\n",
    "        rms_2[i] = masked_data_2.std()\n",
    "        total_error_1=total_error_1+(error_1_sq)\n",
    "        total_error_2=total_error_2+(error_2_sq)\n",
    "    sr_total_error_1=np.sqrt(total_error_1)\n",
    "    sr_total_error_2=np.sqrt(total_error_2)\n",
    "    fin_error_1=(sr_total_error_1/(float(len(list_of_files))))\n",
    "    fin_error_2=(sr_total_error_2/(float(len(list_of_files))))\n",
    "    image_median_1 = np.median(data_array_1, axis=0)\n",
    "    image_median_2 = np.median(data_array_2, axis=0)\n",
    "    new_hdul = fits.HDUList()\n",
    "    new_hdul.append(fits.ImageHDU(image_median_1))\n",
    "    new_hdul.append(fits.ImageHDU(image_median_2))\n",
    "    new_hdul.writeto(out_file, overwrite=True)\n",
    "    #error\n",
    "    new_hdul = fits.HDUList()\n",
    "    new_hdul.append(fits.ImageHDU(fin_error_1))\n",
    "    new_hdul.append(fits.ImageHDU(fin_error_2))\n",
    "    new_hdul.writeto(error_file,overwrite=True)"
   ]
  },
  {
   "cell_type": "markdown",
   "id": "related-incident",
   "metadata": {},
   "source": [
    "To run the stacking code you need to run: stack(path_list, path_outfile, path_error_outfile)\n",
    "\n",
    "path_list - this is the list you create from the path column of the subset of the pandas database. \n",
    "\n",
    "path_outfile - this is the path and filename you want for your outfile. If you just put \"outfile.fits\" the file will save where you are running the notebook. I suggest start with the path to wfc3u so we keep them in a central location and to have the file be descriptive. Ex: \"/grp/hst/wfc3u/postflash_2021/2020_stack_flt.fits\"\n",
    "\n",
    "path_error_outfile - this is the path and filename you want for your outfile of the calcuated error. If you just put \"outfile.fits\" the file will save where you are running the notebook. I suggest start with the path to wfc3u so we keep them in a central location and to have the file be descriptive. Ex: \"/grp/hst/wfc3u/postflash_2021/2020_stack_error_flt.fits\"\n"
   ]
  },
  {
   "cell_type": "markdown",
   "id": "retired-scientist",
   "metadata": {},
   "source": [
    "Below I show how to create the proper cut for a single year of data from the pandas database which has already been cut to Fullframe, Medium current, Shutter A. \n",
    "\n",
    "From there I update the path_list, outfile, and error_outfile to be specfic to the year being tested. \n",
    "\n",
    "Once that is run, I use those parameters to run the `stack` function. Outputs will be saved to '/grp/hst/wfc3u/postflash_2021/'. \n",
    "\n",
    "I then update a copy of a new set to 2013 and run `stack` on that set. \n",
    "\n",
    "The following years/groups of years can be done the same way. Following the creation of all the stacked files we will still need to calculate the mean/median of the stacked images to plot them over time."
   ]
  },
  {
   "cell_type": "code",
   "execution_count": 6,
   "id": "elementary-share",
   "metadata": {},
   "outputs": [
    {
     "name": "stdout",
     "output_type": "stream",
     "text": [
      "28\n"
     ]
    }
   ],
   "source": [
    "fullframe_pf_A_2012 = fullframe_pf_A[(fullframe_pf_A['datetime'] > '2012-01-01 00:00:00') & (fullframe_pf_A['datetime'] < '2013-11-14 00:00:00')]\n",
    "paths_2012 = fullframe_pf_A_2012.path.tolist()\n",
    "print(len(paths_2012))\n",
    "outfile_2012 = '{}2012_fullframe_A_flc_stack_{}.fits'.format(working_directory, today)\n",
    "error_outfile_2012= '{}2012_fullframe_A_flc_error_stack_{}.fits'.format(working_directory, today)"
   ]
  },
  {
   "cell_type": "code",
   "execution_count": 7,
   "id": "driven-mouse",
   "metadata": {},
   "outputs": [],
   "source": [
    "stack(paths_2012, outfile_2012, error_outfile_2012)"
   ]
  },
  {
   "cell_type": "code",
   "execution_count": 8,
   "id": "hispanic-ordinary",
   "metadata": {},
   "outputs": [
    {
     "name": "stdout",
     "output_type": "stream",
     "text": [
      "32\n"
     ]
    }
   ],
   "source": [
    "fullframe_pf_A_2013 = fullframe_pf_A[(fullframe_pf_A['datetime'] > '2013-01-01 00:00:00') & (fullframe_pf_A['datetime'] < '2014-01-01 00:00:00')]\n",
    "paths_2013 = fullframe_pf_A_2013.path.tolist()\n",
    "print(len(paths_2013))\n",
    "outfile_2013 = '{}2013_fullframe_A_flc_stack_{}.fits'.format(working_directory, today)\n",
    "error_outfile_2013= '{}2013_fullframe_A_flc_error_stack_{}.fits'.format(working_directory, today)"
   ]
  },
  {
   "cell_type": "code",
   "execution_count": 9,
   "id": "changing-procedure",
   "metadata": {},
   "outputs": [],
   "source": [
    "stack(paths_2013, outfile_2013, error_outfile_2013)"
   ]
  },
  {
   "cell_type": "code",
   "execution_count": 10,
   "id": "studied-harbor",
   "metadata": {},
   "outputs": [
    {
     "name": "stdout",
     "output_type": "stream",
     "text": [
      "30\n"
     ]
    }
   ],
   "source": [
    "fullframe_pf_A_2014 = fullframe_pf_A[(fullframe_pf_A['datetime'] > '2014-01-01 00:00:00') & (fullframe_pf_A['datetime'] < '2015-01-01 00:00:00')]\n",
    "paths_2014 = fullframe_pf_A_2014.path.tolist()\n",
    "print(len(paths_2014))\n",
    "outfile_2014 = '{}2014_fullframe_A_flc_stack_{}.fits'.format(working_directory, today)\n",
    "error_outfile_2014= '{}2014_fullframe_A_flc_error_stack_{}.fits'.format(working_directory, today)"
   ]
  },
  {
   "cell_type": "code",
   "execution_count": 11,
   "id": "instrumental-friendly",
   "metadata": {},
   "outputs": [],
   "source": [
    "stack(paths_2014, outfile_2014, error_outfile_2014)"
   ]
  },
  {
   "cell_type": "code",
   "execution_count": 12,
   "id": "prescribed-desktop",
   "metadata": {},
   "outputs": [
    {
     "name": "stdout",
     "output_type": "stream",
     "text": [
      "35\n"
     ]
    }
   ],
   "source": [
    "fullframe_pf_A_2015 = fullframe_pf_A[(fullframe_pf_A['datetime'] > '2015-01-01 00:00:00') & (fullframe_pf_A['datetime'] < '2016-01-01 00:00:00')]\n",
    "paths_2015 = fullframe_pf_A_2015.path.tolist()\n",
    "print(len(paths_2015))\n",
    "outfile_2015 = '{}2015_fullframe_A_flc_stack_{}.fits'.format(working_directory, today)\n",
    "error_outfile_2015 = '{}2015_fullframe_A_flc_error_stack_{}.fits'.format(working_directory, today)"
   ]
  },
  {
   "cell_type": "code",
   "execution_count": 13,
   "id": "falling-bishop",
   "metadata": {},
   "outputs": [],
   "source": [
    "stack(paths_2015, outfile_2015, error_outfile_2015)"
   ]
  },
  {
   "cell_type": "code",
   "execution_count": 14,
   "id": "fabulous-attendance",
   "metadata": {},
   "outputs": [
    {
     "name": "stdout",
     "output_type": "stream",
     "text": [
      "35\n"
     ]
    }
   ],
   "source": [
    "fullframe_pf_A_2016 = fullframe_pf_A[(fullframe_pf_A['datetime'] > '2016-01-01 00:00:00') & (fullframe_pf_A['datetime'] < '2017-01-01 00:00:00')]\n",
    "paths_2016 = fullframe_pf_A_2016.path.tolist()\n",
    "print(len(paths_2016))\n",
    "outfile_2016 = '{}2016_fullframe_A_flc_stack_{}.fits'.format(working_directory, today)\n",
    "error_outfile_2016 = '{}2016_fullframe_A_flc_error_stack_{}.fits'.format(working_directory, today)"
   ]
  },
  {
   "cell_type": "code",
   "execution_count": 15,
   "id": "latest-hunger",
   "metadata": {},
   "outputs": [],
   "source": [
    "stack(paths_2016, outfile_2016, error_outfile_2016)"
   ]
  },
  {
   "cell_type": "code",
   "execution_count": 16,
   "id": "ordered-rebel",
   "metadata": {},
   "outputs": [
    {
     "name": "stdout",
     "output_type": "stream",
     "text": [
      "35\n"
     ]
    }
   ],
   "source": [
    "fullframe_pf_A_2017 = fullframe_pf_A[(fullframe_pf_A['datetime'] > '2017-01-01 00:00:00') & (fullframe_pf_A['datetime'] < '2018-01-01 00:00:00')]\n",
    "paths_2017 = fullframe_pf_A_2017.path.tolist()\n",
    "print(len(paths_2017))\n",
    "outfile_2017 = '{}2017_fullframe_A_flc_stack_{}.fits'.format(working_directory, today)\n",
    "error_outfile_2017 = '{}2017_fullframe_A_flc_error_stack_{}.fits'.format(working_directory, today)"
   ]
  },
  {
   "cell_type": "code",
   "execution_count": 17,
   "id": "russian-cooperation",
   "metadata": {},
   "outputs": [],
   "source": [
    "stack(paths_2017, outfile_2017, error_outfile_2017)"
   ]
  },
  {
   "cell_type": "code",
   "execution_count": 18,
   "id": "bridal-liabilities",
   "metadata": {},
   "outputs": [
    {
     "name": "stdout",
     "output_type": "stream",
     "text": [
      "35\n"
     ]
    }
   ],
   "source": [
    "fullframe_pf_A_2018 = fullframe_pf_A[(fullframe_pf_A['datetime'] > '2018-01-01 00:00:00') & (fullframe_pf_A['datetime'] < '2019-01-01 00:00:00')]\n",
    "paths_2018 = fullframe_pf_A_2018.path.tolist()\n",
    "print(len(paths_2018))\n",
    "outfile_2018 = '{}2018_fullframe_A_flc_stack_{}.fits'.format(working_directory, today)\n",
    "error_outfile_2018 = '{}2018_fullframe_A_flc_error_stack_{}.fits'.format(working_directory, today)"
   ]
  },
  {
   "cell_type": "code",
   "execution_count": 19,
   "id": "economic-housing",
   "metadata": {},
   "outputs": [],
   "source": [
    "stack(paths_2018, outfile_2018, error_outfile_2018)"
   ]
  },
  {
   "cell_type": "code",
   "execution_count": 20,
   "id": "civilian-contents",
   "metadata": {},
   "outputs": [
    {
     "name": "stdout",
     "output_type": "stream",
     "text": [
      "35\n"
     ]
    }
   ],
   "source": [
    "fullframe_pf_A_2019 = fullframe_pf_A[(fullframe_pf_A['datetime'] > '2019-01-01 00:00:00') & (fullframe_pf_A['datetime'] < '2020-01-01 00:00:00')]\n",
    "paths_2019 = fullframe_pf_A_2019.path.tolist()\n",
    "print(len(paths_2019))\n",
    "outfile_2019 = '{}2019_fullframe_A_flc_stack_{}.fits'.format(working_directory, today)\n",
    "error_outfile_2019 = '{}2019_fullframe_A_flc_error_stack_{}.fits'.format(working_directory, today)"
   ]
  },
  {
   "cell_type": "code",
   "execution_count": 21,
   "id": "endless-nylon",
   "metadata": {},
   "outputs": [],
   "source": [
    "stack(paths_2019, outfile_2019, error_outfile_2019)"
   ]
  },
  {
   "cell_type": "code",
   "execution_count": 22,
   "id": "welcome-basic",
   "metadata": {},
   "outputs": [
    {
     "name": "stdout",
     "output_type": "stream",
     "text": [
      "38\n"
     ]
    }
   ],
   "source": [
    "fullframe_pf_A_2020 = fullframe_pf_A[(fullframe_pf_A['datetime'] > '2020-01-01 00:00:00') & (fullframe_pf_A['datetime'] < '2021-01-01 00:00:00')]\n",
    "paths_2020 = fullframe_pf_A_2020.path.tolist()\n",
    "print(len(paths_2020))\n",
    "outfile_2020 = '{}2020_fullframe_A_flc_stack_{}.fits'.format(working_directory, today)\n",
    "error_outfile_2020 = '{}2020_fullframe_A_flc_error_stack_{}.fits'.format(working_directory, today)"
   ]
  },
  {
   "cell_type": "code",
   "execution_count": 23,
   "id": "alternate-mistress",
   "metadata": {},
   "outputs": [],
   "source": [
    "stack(paths_2020, outfile_2020, error_outfile_2020)"
   ]
  },
  {
   "cell_type": "code",
   "execution_count": 24,
   "id": "spectacular-baptist",
   "metadata": {},
   "outputs": [
    {
     "name": "stdout",
     "output_type": "stream",
     "text": [
      "31\n"
     ]
    }
   ],
   "source": [
    "fullframe_pf_A_2021 = fullframe_pf_A[(fullframe_pf_A['datetime'] > '2021-01-01 00:00:00') & (fullframe_pf_A['datetime'] < '2022-01-01 00:00:00')]\n",
    "paths_2021 = fullframe_pf_A_2021.path.tolist()\n",
    "print(len(paths_2021))\n",
    "outfile_2021 = '{}2021_fullframe_A_flc_stack_{}.fits'.format(working_directory, today)\n",
    "error_outfile_2021 = '{}2021_fullframe_A_flc_error_stack_{}.fits'.format(working_directory, today)"
   ]
  },
  {
   "cell_type": "code",
   "execution_count": 25,
   "id": "enclosed-slovak",
   "metadata": {},
   "outputs": [],
   "source": [
    "stack(paths_2021, outfile_2021, error_outfile_2021)"
   ]
  },
  {
   "cell_type": "markdown",
   "id": "breeding-intelligence",
   "metadata": {},
   "source": [
    "Adding a change_permissions function: "
   ]
  },
  {
   "cell_type": "code",
   "execution_count": 26,
   "id": "mineral-wallet",
   "metadata": {},
   "outputs": [],
   "source": [
    "def change_permissions(path_to_files):\n",
    "    \"\"\"Change permissions of the output files and directories. \n",
    "        Code structure borrowed from cal_uvis_make_darks/FileIO.py. \n",
    "        Parameters\n",
    "        ----------\n",
    "            path_to_files : str\n",
    "                Path to the directory that contains the files you want\n",
    "                to update. \n",
    "    \"\"\"\n",
    "    \n",
    "    os.chdir(path_to_files)\n",
    "    all_directories = glob.glob('*')\n",
    "\n",
    "    for directory in all_directories:\n",
    "        try: \n",
    "            os.chmod(directory, 0o775)\n",
    "        except:\n",
    "            print('Can not update. Onto Next.')\n",
    "        for root, subdirs, files in os.walk(directory):\n",
    "            for subdir in subdirs:\n",
    "                try:\n",
    "                    os.chmod(os.path.join(root, subdir), 0o775)\n",
    "                except:\n",
    "                    print('Can not update. Onto Next.')\n",
    "            for name in files:\n",
    "                try:\n",
    "                    os.chmod(os.path.join(root, name), 0o775)\n",
    "                except:\n",
    "                    print('Can not update. Onto Next.')"
   ]
  },
  {
   "cell_type": "code",
   "execution_count": 27,
   "id": "fixed-parade",
   "metadata": {},
   "outputs": [],
   "source": [
    "change_permissions(working_directory)"
   ]
  },
  {
   "cell_type": "code",
   "execution_count": null,
   "id": "premier-breach",
   "metadata": {},
   "outputs": [],
   "source": []
  }
 ],
 "metadata": {
  "kernelspec": {
   "display_name": "Python 3",
   "language": "python",
   "name": "python3"
  },
  "language_info": {
   "codemirror_mode": {
    "name": "ipython",
    "version": 3
   },
   "file_extension": ".py",
   "mimetype": "text/x-python",
   "name": "python",
   "nbconvert_exporter": "python",
   "pygments_lexer": "ipython3",
   "version": "3.6.12"
  },
  "toc": {
   "base_numbering": 1,
   "nav_menu": {},
   "number_sections": true,
   "sideBar": true,
   "skip_h1_title": false,
   "title_cell": "Table of Contents",
   "title_sidebar": "Contents",
   "toc_cell": false,
   "toc_position": {},
   "toc_section_display": true,
   "toc_window_display": false
  }
 },
 "nbformat": 4,
 "nbformat_minor": 5
}
